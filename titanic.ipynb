{
   "cells": [
      {
         "cell_type": "code",
         "execution_count": 1,
         "metadata": {},
         "outputs": [],
         "source": [
            "import numpy as np\n",
            "import pandas as pd"
         ]
      },
      {
         "cell_type": "code",
         "execution_count": 2,
         "metadata": {},
         "outputs": [],
         "source": [
            "raw_train = pd.read_csv(\"train.csv\")"
         ]
      },
      {
         "cell_type": "code",
         "execution_count": 3,
         "metadata": {},
         "outputs": [
            {
               "data": {
                  "text/html": [
                     "<div>\n",
                     "<style scoped>\n",
                     "    .dataframe tbody tr th:only-of-type {\n",
                     "        vertical-align: middle;\n",
                     "    }\n",
                     "\n",
                     "    .dataframe tbody tr th {\n",
                     "        vertical-align: top;\n",
                     "    }\n",
                     "\n",
                     "    .dataframe thead th {\n",
                     "        text-align: right;\n",
                     "    }\n",
                     "</style>\n",
                     "<table border=\"1\" class=\"dataframe\">\n",
                     "  <thead>\n",
                     "    <tr style=\"text-align: right;\">\n",
                     "      <th></th>\n",
                     "      <th>PassengerId</th>\n",
                     "      <th>Survived</th>\n",
                     "      <th>Pclass</th>\n",
                     "      <th>Name</th>\n",
                     "      <th>Sex</th>\n",
                     "      <th>Age</th>\n",
                     "      <th>SibSp</th>\n",
                     "      <th>Parch</th>\n",
                     "      <th>Ticket</th>\n",
                     "      <th>Fare</th>\n",
                     "      <th>Cabin</th>\n",
                     "      <th>Embarked</th>\n",
                     "    </tr>\n",
                     "  </thead>\n",
                     "  <tbody>\n",
                     "    <tr>\n",
                     "      <th>0</th>\n",
                     "      <td>1</td>\n",
                     "      <td>0</td>\n",
                     "      <td>3</td>\n",
                     "      <td>Braund, Mr. Owen Harris</td>\n",
                     "      <td>male</td>\n",
                     "      <td>22.0</td>\n",
                     "      <td>1</td>\n",
                     "      <td>0</td>\n",
                     "      <td>A/5 21171</td>\n",
                     "      <td>7.2500</td>\n",
                     "      <td>NaN</td>\n",
                     "      <td>S</td>\n",
                     "    </tr>\n",
                     "    <tr>\n",
                     "      <th>1</th>\n",
                     "      <td>2</td>\n",
                     "      <td>1</td>\n",
                     "      <td>1</td>\n",
                     "      <td>Cumings, Mrs. John Bradley (Florence Briggs Th...</td>\n",
                     "      <td>female</td>\n",
                     "      <td>38.0</td>\n",
                     "      <td>1</td>\n",
                     "      <td>0</td>\n",
                     "      <td>PC 17599</td>\n",
                     "      <td>71.2833</td>\n",
                     "      <td>C85</td>\n",
                     "      <td>C</td>\n",
                     "    </tr>\n",
                     "    <tr>\n",
                     "      <th>2</th>\n",
                     "      <td>3</td>\n",
                     "      <td>1</td>\n",
                     "      <td>3</td>\n",
                     "      <td>Heikkinen, Miss. Laina</td>\n",
                     "      <td>female</td>\n",
                     "      <td>26.0</td>\n",
                     "      <td>0</td>\n",
                     "      <td>0</td>\n",
                     "      <td>STON/O2. 3101282</td>\n",
                     "      <td>7.9250</td>\n",
                     "      <td>NaN</td>\n",
                     "      <td>S</td>\n",
                     "    </tr>\n",
                     "    <tr>\n",
                     "      <th>3</th>\n",
                     "      <td>4</td>\n",
                     "      <td>1</td>\n",
                     "      <td>1</td>\n",
                     "      <td>Futrelle, Mrs. Jacques Heath (Lily May Peel)</td>\n",
                     "      <td>female</td>\n",
                     "      <td>35.0</td>\n",
                     "      <td>1</td>\n",
                     "      <td>0</td>\n",
                     "      <td>113803</td>\n",
                     "      <td>53.1000</td>\n",
                     "      <td>C123</td>\n",
                     "      <td>S</td>\n",
                     "    </tr>\n",
                     "    <tr>\n",
                     "      <th>4</th>\n",
                     "      <td>5</td>\n",
                     "      <td>0</td>\n",
                     "      <td>3</td>\n",
                     "      <td>Allen, Mr. William Henry</td>\n",
                     "      <td>male</td>\n",
                     "      <td>35.0</td>\n",
                     "      <td>0</td>\n",
                     "      <td>0</td>\n",
                     "      <td>373450</td>\n",
                     "      <td>8.0500</td>\n",
                     "      <td>NaN</td>\n",
                     "      <td>S</td>\n",
                     "    </tr>\n",
                     "  </tbody>\n",
                     "</table>\n",
                     "</div>"
                  ],
                  "text/plain": [
                     "   PassengerId  Survived  Pclass  \\\n",
                     "0            1         0       3   \n",
                     "1            2         1       1   \n",
                     "2            3         1       3   \n",
                     "3            4         1       1   \n",
                     "4            5         0       3   \n",
                     "\n",
                     "                                                Name     Sex   Age  SibSp  \\\n",
                     "0                            Braund, Mr. Owen Harris    male  22.0      1   \n",
                     "1  Cumings, Mrs. John Bradley (Florence Briggs Th...  female  38.0      1   \n",
                     "2                             Heikkinen, Miss. Laina  female  26.0      0   \n",
                     "3       Futrelle, Mrs. Jacques Heath (Lily May Peel)  female  35.0      1   \n",
                     "4                           Allen, Mr. William Henry    male  35.0      0   \n",
                     "\n",
                     "   Parch            Ticket     Fare Cabin Embarked  \n",
                     "0      0         A/5 21171   7.2500   NaN        S  \n",
                     "1      0          PC 17599  71.2833   C85        C  \n",
                     "2      0  STON/O2. 3101282   7.9250   NaN        S  \n",
                     "3      0            113803  53.1000  C123        S  \n",
                     "4      0            373450   8.0500   NaN        S  "
                  ]
               },
               "execution_count": 3,
               "metadata": {},
               "output_type": "execute_result"
            }
         ],
         "source": [
            "raw_train.head()"
         ]
      },
      {
         "cell_type": "code",
         "execution_count": 4,
         "metadata": {},
         "outputs": [
            {
               "data": {
                  "text/plain": [
                     "(891, 12)"
                  ]
               },
               "execution_count": 4,
               "metadata": {},
               "output_type": "execute_result"
            }
         ],
         "source": [
            "raw_train.shape"
         ]
      },
      {
         "cell_type": "code",
         "execution_count": 5,
         "metadata": {},
         "outputs": [
            {
               "name": "stdout",
               "output_type": "stream",
               "text": [
                  "<class 'pandas.core.frame.DataFrame'>\n",
                  "RangeIndex: 891 entries, 0 to 890\n",
                  "Data columns (total 12 columns):\n",
                  " #   Column       Non-Null Count  Dtype  \n",
                  "---  ------       --------------  -----  \n",
                  " 0   PassengerId  891 non-null    int64  \n",
                  " 1   Survived     891 non-null    int64  \n",
                  " 2   Pclass       891 non-null    int64  \n",
                  " 3   Name         891 non-null    object \n",
                  " 4   Sex          891 non-null    object \n",
                  " 5   Age          714 non-null    float64\n",
                  " 6   SibSp        891 non-null    int64  \n",
                  " 7   Parch        891 non-null    int64  \n",
                  " 8   Ticket       891 non-null    object \n",
                  " 9   Fare         891 non-null    float64\n",
                  " 10  Cabin        204 non-null    object \n",
                  " 11  Embarked     889 non-null    object \n",
                  "dtypes: float64(2), int64(5), object(5)\n",
                  "memory usage: 83.7+ KB\n"
               ]
            }
         ],
         "source": [
            "raw_train.info()"
         ]
      },
      {
         "cell_type": "code",
         "execution_count": 6,
         "metadata": {},
         "outputs": [
            {
               "data": {
                  "text/html": [
                     "<div>\n",
                     "<style scoped>\n",
                     "    .dataframe tbody tr th:only-of-type {\n",
                     "        vertical-align: middle;\n",
                     "    }\n",
                     "\n",
                     "    .dataframe tbody tr th {\n",
                     "        vertical-align: top;\n",
                     "    }\n",
                     "\n",
                     "    .dataframe thead th {\n",
                     "        text-align: right;\n",
                     "    }\n",
                     "</style>\n",
                     "<table border=\"1\" class=\"dataframe\">\n",
                     "  <thead>\n",
                     "    <tr style=\"text-align: right;\">\n",
                     "      <th></th>\n",
                     "      <th>PassengerId</th>\n",
                     "      <th>Survived</th>\n",
                     "      <th>Pclass</th>\n",
                     "      <th>Age</th>\n",
                     "      <th>SibSp</th>\n",
                     "      <th>Parch</th>\n",
                     "      <th>Fare</th>\n",
                     "    </tr>\n",
                     "  </thead>\n",
                     "  <tbody>\n",
                     "    <tr>\n",
                     "      <th>count</th>\n",
                     "      <td>891.000000</td>\n",
                     "      <td>891.000000</td>\n",
                     "      <td>891.000000</td>\n",
                     "      <td>714.000000</td>\n",
                     "      <td>891.000000</td>\n",
                     "      <td>891.000000</td>\n",
                     "      <td>891.000000</td>\n",
                     "    </tr>\n",
                     "    <tr>\n",
                     "      <th>mean</th>\n",
                     "      <td>446.000000</td>\n",
                     "      <td>0.383838</td>\n",
                     "      <td>2.308642</td>\n",
                     "      <td>29.699118</td>\n",
                     "      <td>0.523008</td>\n",
                     "      <td>0.381594</td>\n",
                     "      <td>32.204208</td>\n",
                     "    </tr>\n",
                     "    <tr>\n",
                     "      <th>std</th>\n",
                     "      <td>257.353842</td>\n",
                     "      <td>0.486592</td>\n",
                     "      <td>0.836071</td>\n",
                     "      <td>14.526497</td>\n",
                     "      <td>1.102743</td>\n",
                     "      <td>0.806057</td>\n",
                     "      <td>49.693429</td>\n",
                     "    </tr>\n",
                     "    <tr>\n",
                     "      <th>min</th>\n",
                     "      <td>1.000000</td>\n",
                     "      <td>0.000000</td>\n",
                     "      <td>1.000000</td>\n",
                     "      <td>0.420000</td>\n",
                     "      <td>0.000000</td>\n",
                     "      <td>0.000000</td>\n",
                     "      <td>0.000000</td>\n",
                     "    </tr>\n",
                     "    <tr>\n",
                     "      <th>25%</th>\n",
                     "      <td>223.500000</td>\n",
                     "      <td>0.000000</td>\n",
                     "      <td>2.000000</td>\n",
                     "      <td>20.125000</td>\n",
                     "      <td>0.000000</td>\n",
                     "      <td>0.000000</td>\n",
                     "      <td>7.910400</td>\n",
                     "    </tr>\n",
                     "    <tr>\n",
                     "      <th>50%</th>\n",
                     "      <td>446.000000</td>\n",
                     "      <td>0.000000</td>\n",
                     "      <td>3.000000</td>\n",
                     "      <td>28.000000</td>\n",
                     "      <td>0.000000</td>\n",
                     "      <td>0.000000</td>\n",
                     "      <td>14.454200</td>\n",
                     "    </tr>\n",
                     "    <tr>\n",
                     "      <th>75%</th>\n",
                     "      <td>668.500000</td>\n",
                     "      <td>1.000000</td>\n",
                     "      <td>3.000000</td>\n",
                     "      <td>38.000000</td>\n",
                     "      <td>1.000000</td>\n",
                     "      <td>0.000000</td>\n",
                     "      <td>31.000000</td>\n",
                     "    </tr>\n",
                     "    <tr>\n",
                     "      <th>max</th>\n",
                     "      <td>891.000000</td>\n",
                     "      <td>1.000000</td>\n",
                     "      <td>3.000000</td>\n",
                     "      <td>80.000000</td>\n",
                     "      <td>8.000000</td>\n",
                     "      <td>6.000000</td>\n",
                     "      <td>512.329200</td>\n",
                     "    </tr>\n",
                     "  </tbody>\n",
                     "</table>\n",
                     "</div>"
                  ],
                  "text/plain": [
                     "       PassengerId    Survived      Pclass         Age       SibSp  \\\n",
                     "count   891.000000  891.000000  891.000000  714.000000  891.000000   \n",
                     "mean    446.000000    0.383838    2.308642   29.699118    0.523008   \n",
                     "std     257.353842    0.486592    0.836071   14.526497    1.102743   \n",
                     "min       1.000000    0.000000    1.000000    0.420000    0.000000   \n",
                     "25%     223.500000    0.000000    2.000000   20.125000    0.000000   \n",
                     "50%     446.000000    0.000000    3.000000   28.000000    0.000000   \n",
                     "75%     668.500000    1.000000    3.000000   38.000000    1.000000   \n",
                     "max     891.000000    1.000000    3.000000   80.000000    8.000000   \n",
                     "\n",
                     "            Parch        Fare  \n",
                     "count  891.000000  891.000000  \n",
                     "mean     0.381594   32.204208  \n",
                     "std      0.806057   49.693429  \n",
                     "min      0.000000    0.000000  \n",
                     "25%      0.000000    7.910400  \n",
                     "50%      0.000000   14.454200  \n",
                     "75%      0.000000   31.000000  \n",
                     "max      6.000000  512.329200  "
                  ]
               },
               "execution_count": 6,
               "metadata": {},
               "output_type": "execute_result"
            }
         ],
         "source": [
            "raw_train.describe()"
         ]
      },
      {
         "cell_type": "code",
         "execution_count": 7,
         "metadata": {},
         "outputs": [
            {
               "name": "stdout",
               "output_type": "stream",
               "text": [
                  "The numerical attributes are: ['PassengerId', 'Survived', 'Pclass', 'Age', 'SibSp', 'Parch', 'Fare']\n"
               ]
            }
         ],
         "source": [
            "all_cols = list(raw_train)\n",
            "num_data = [i for i in list(raw_train) if raw_train[i].dtypes != \"object\"]\n",
            "cat_data = [i for i in list(raw_train) if raw_train[i].dtypes == \"object\"]\n",
            "print(f\"The numerical attributes are: {num_data}\")"
         ]
      },
      {
         "cell_type": "markdown",
         "metadata": {},
         "source": [
            "#### Dividing the dataset into numerical dataset and categorical dataset"
         ]
      },
      {
         "cell_type": "code",
         "execution_count": 8,
         "metadata": {},
         "outputs": [],
         "source": [
            "raw_copied = raw_train.copy()\n",
            "num_dataset = raw_train.copy()\n",
            "cat_dataset = raw_train.copy()\n",
            "for i in cat_data:\n",
            "    num_dataset.drop(columns=i, inplace=True)\n",
            "for i in num_data:\n",
            "    cat_dataset.drop(columns=i, inplace=True)"
         ]
      },
      {
         "cell_type": "code",
         "execution_count": 9,
         "metadata": {},
         "outputs": [
            {
               "name": "stdout",
               "output_type": "stream",
               "text": [
                  "<class 'pandas.core.frame.DataFrame'>\n",
                  "RangeIndex: 891 entries, 0 to 890\n",
                  "Data columns (total 7 columns):\n",
                  " #   Column       Non-Null Count  Dtype  \n",
                  "---  ------       --------------  -----  \n",
                  " 0   PassengerId  891 non-null    int64  \n",
                  " 1   Survived     891 non-null    int64  \n",
                  " 2   Pclass       891 non-null    int64  \n",
                  " 3   Age          714 non-null    float64\n",
                  " 4   SibSp        891 non-null    int64  \n",
                  " 5   Parch        891 non-null    int64  \n",
                  " 6   Fare         891 non-null    float64\n",
                  "dtypes: float64(2), int64(5)\n",
                  "memory usage: 48.9 KB\n"
               ]
            }
         ],
         "source": [
            "\n",
            "X_train_pipeline = num_dataset.copy()\n",
            "X_train_pipeline.info()"
         ]
      },
      {
         "cell_type": "code",
         "execution_count": 10,
         "metadata": {},
         "outputs": [
            {
               "name": "stdout",
               "output_type": "stream",
               "text": [
                  "<class 'pandas.core.frame.DataFrame'>\n",
                  "RangeIndex: 891 entries, 0 to 890\n",
                  "Data columns (total 7 columns):\n",
                  " #   Column       Non-Null Count  Dtype  \n",
                  "---  ------       --------------  -----  \n",
                  " 0   PassengerId  891 non-null    int64  \n",
                  " 1   Survived     891 non-null    int64  \n",
                  " 2   Pclass       891 non-null    int64  \n",
                  " 3   Age          714 non-null    float64\n",
                  " 4   SibSp        891 non-null    int64  \n",
                  " 5   Parch        891 non-null    int64  \n",
                  " 6   Fare         891 non-null    float64\n",
                  "dtypes: float64(2), int64(5)\n",
                  "memory usage: 48.9 KB\n"
               ]
            }
         ],
         "source": [
            "num_dataset.info()"
         ]
      },
      {
         "cell_type": "code",
         "execution_count": 11,
         "metadata": {},
         "outputs": [
            {
               "data": {
                  "text/html": [
                     "<div>\n",
                     "<style scoped>\n",
                     "    .dataframe tbody tr th:only-of-type {\n",
                     "        vertical-align: middle;\n",
                     "    }\n",
                     "\n",
                     "    .dataframe tbody tr th {\n",
                     "        vertical-align: top;\n",
                     "    }\n",
                     "\n",
                     "    .dataframe thead th {\n",
                     "        text-align: right;\n",
                     "    }\n",
                     "</style>\n",
                     "<table border=\"1\" class=\"dataframe\">\n",
                     "  <thead>\n",
                     "    <tr style=\"text-align: right;\">\n",
                     "      <th></th>\n",
                     "      <th>Name</th>\n",
                     "      <th>Sex</th>\n",
                     "      <th>Ticket</th>\n",
                     "      <th>Cabin</th>\n",
                     "      <th>Embarked</th>\n",
                     "    </tr>\n",
                     "  </thead>\n",
                     "  <tbody>\n",
                     "    <tr>\n",
                     "      <th>0</th>\n",
                     "      <td>Braund, Mr. Owen Harris</td>\n",
                     "      <td>male</td>\n",
                     "      <td>A/5 21171</td>\n",
                     "      <td>NaN</td>\n",
                     "      <td>S</td>\n",
                     "    </tr>\n",
                     "    <tr>\n",
                     "      <th>1</th>\n",
                     "      <td>Cumings, Mrs. John Bradley (Florence Briggs Th...</td>\n",
                     "      <td>female</td>\n",
                     "      <td>PC 17599</td>\n",
                     "      <td>C85</td>\n",
                     "      <td>C</td>\n",
                     "    </tr>\n",
                     "    <tr>\n",
                     "      <th>2</th>\n",
                     "      <td>Heikkinen, Miss. Laina</td>\n",
                     "      <td>female</td>\n",
                     "      <td>STON/O2. 3101282</td>\n",
                     "      <td>NaN</td>\n",
                     "      <td>S</td>\n",
                     "    </tr>\n",
                     "    <tr>\n",
                     "      <th>3</th>\n",
                     "      <td>Futrelle, Mrs. Jacques Heath (Lily May Peel)</td>\n",
                     "      <td>female</td>\n",
                     "      <td>113803</td>\n",
                     "      <td>C123</td>\n",
                     "      <td>S</td>\n",
                     "    </tr>\n",
                     "    <tr>\n",
                     "      <th>4</th>\n",
                     "      <td>Allen, Mr. William Henry</td>\n",
                     "      <td>male</td>\n",
                     "      <td>373450</td>\n",
                     "      <td>NaN</td>\n",
                     "      <td>S</td>\n",
                     "    </tr>\n",
                     "    <tr>\n",
                     "      <th>...</th>\n",
                     "      <td>...</td>\n",
                     "      <td>...</td>\n",
                     "      <td>...</td>\n",
                     "      <td>...</td>\n",
                     "      <td>...</td>\n",
                     "    </tr>\n",
                     "    <tr>\n",
                     "      <th>886</th>\n",
                     "      <td>Montvila, Rev. Juozas</td>\n",
                     "      <td>male</td>\n",
                     "      <td>211536</td>\n",
                     "      <td>NaN</td>\n",
                     "      <td>S</td>\n",
                     "    </tr>\n",
                     "    <tr>\n",
                     "      <th>887</th>\n",
                     "      <td>Graham, Miss. Margaret Edith</td>\n",
                     "      <td>female</td>\n",
                     "      <td>112053</td>\n",
                     "      <td>B42</td>\n",
                     "      <td>S</td>\n",
                     "    </tr>\n",
                     "    <tr>\n",
                     "      <th>888</th>\n",
                     "      <td>Johnston, Miss. Catherine Helen \"Carrie\"</td>\n",
                     "      <td>female</td>\n",
                     "      <td>W./C. 6607</td>\n",
                     "      <td>NaN</td>\n",
                     "      <td>S</td>\n",
                     "    </tr>\n",
                     "    <tr>\n",
                     "      <th>889</th>\n",
                     "      <td>Behr, Mr. Karl Howell</td>\n",
                     "      <td>male</td>\n",
                     "      <td>111369</td>\n",
                     "      <td>C148</td>\n",
                     "      <td>C</td>\n",
                     "    </tr>\n",
                     "    <tr>\n",
                     "      <th>890</th>\n",
                     "      <td>Dooley, Mr. Patrick</td>\n",
                     "      <td>male</td>\n",
                     "      <td>370376</td>\n",
                     "      <td>NaN</td>\n",
                     "      <td>Q</td>\n",
                     "    </tr>\n",
                     "  </tbody>\n",
                     "</table>\n",
                     "<p>891 rows × 5 columns</p>\n",
                     "</div>"
                  ],
                  "text/plain": [
                     "                                                  Name     Sex  \\\n",
                     "0                              Braund, Mr. Owen Harris    male   \n",
                     "1    Cumings, Mrs. John Bradley (Florence Briggs Th...  female   \n",
                     "2                               Heikkinen, Miss. Laina  female   \n",
                     "3         Futrelle, Mrs. Jacques Heath (Lily May Peel)  female   \n",
                     "4                             Allen, Mr. William Henry    male   \n",
                     "..                                                 ...     ...   \n",
                     "886                              Montvila, Rev. Juozas    male   \n",
                     "887                       Graham, Miss. Margaret Edith  female   \n",
                     "888           Johnston, Miss. Catherine Helen \"Carrie\"  female   \n",
                     "889                              Behr, Mr. Karl Howell    male   \n",
                     "890                                Dooley, Mr. Patrick    male   \n",
                     "\n",
                     "               Ticket Cabin Embarked  \n",
                     "0           A/5 21171   NaN        S  \n",
                     "1            PC 17599   C85        C  \n",
                     "2    STON/O2. 3101282   NaN        S  \n",
                     "3              113803  C123        S  \n",
                     "4              373450   NaN        S  \n",
                     "..                ...   ...      ...  \n",
                     "886            211536   NaN        S  \n",
                     "887            112053   B42        S  \n",
                     "888        W./C. 6607   NaN        S  \n",
                     "889            111369  C148        C  \n",
                     "890            370376   NaN        Q  \n",
                     "\n",
                     "[891 rows x 5 columns]"
                  ]
               },
               "execution_count": 11,
               "metadata": {},
               "output_type": "execute_result"
            }
         ],
         "source": [
            "cat_dataset"
         ]
      },
      {
         "cell_type": "markdown",
         "metadata": {},
         "source": [
            "### Convert sex to integer counterparts for more efficient data processing by model"
         ]
      },
      {
         "cell_type": "code",
         "execution_count": 12,
         "metadata": {},
         "outputs": [
            {
               "name": "stderr",
               "output_type": "stream",
               "text": [
                  "C:\\Users\\dasas\\AppData\\Local\\Temp\\ipykernel_5756\\1782178432.py:3: FutureWarning: ChainedAssignmentError: behaviour will change in pandas 3.0!\n",
                  "You are setting values through chained assignment. Currently this works in certain cases, but when using Copy-on-Write (which will become the default behaviour in pandas 3.0) this will never work to update the original DataFrame or Series, because the intermediate object on which we are setting values will behave as a copy.\n",
                  "A typical example is when you are setting values in a column of a DataFrame, like:\n",
                  "\n",
                  "df[\"col\"][row_indexer] = value\n",
                  "\n",
                  "Use `df.loc[row_indexer, \"col\"] = values` instead, to perform the assignment in a single step and ensure this keeps updating the original `df`.\n",
                  "\n",
                  "See the caveats in the documentation: https://pandas.pydata.org/pandas-docs/stable/user_guide/indexing.html#returning-a-view-versus-a-copy\n",
                  "\n",
                  "  cat_dataset[\"Sex\"].iloc[i] = np.float32(1)\n",
                  "C:\\Users\\dasas\\AppData\\Local\\Temp\\ipykernel_5756\\1782178432.py:5: FutureWarning: ChainedAssignmentError: behaviour will change in pandas 3.0!\n",
                  "You are setting values through chained assignment. Currently this works in certain cases, but when using Copy-on-Write (which will become the default behaviour in pandas 3.0) this will never work to update the original DataFrame or Series, because the intermediate object on which we are setting values will behave as a copy.\n",
                  "A typical example is when you are setting values in a column of a DataFrame, like:\n",
                  "\n",
                  "df[\"col\"][row_indexer] = value\n",
                  "\n",
                  "Use `df.loc[row_indexer, \"col\"] = values` instead, to perform the assignment in a single step and ensure this keeps updating the original `df`.\n",
                  "\n",
                  "See the caveats in the documentation: https://pandas.pydata.org/pandas-docs/stable/user_guide/indexing.html#returning-a-view-versus-a-copy\n",
                  "\n",
                  "  cat_dataset[\"Sex\"].iloc[i] = np.float32(0)\n"
               ]
            }
         ],
         "source": [
            "for i in range (len(cat_dataset[\"Sex\"])):\n",
            "    if cat_dataset[\"Sex\"].iloc[i] == 'male':\n",
            "        cat_dataset[\"Sex\"].iloc[i] = np.float32(1)\n",
            "    else:\n",
            "        cat_dataset[\"Sex\"].iloc[i] = np.float32(0)\n"
         ]
      },
      {
         "cell_type": "code",
         "execution_count": 13,
         "metadata": {},
         "outputs": [
            {
               "data": {
                  "text/html": [
                     "<div>\n",
                     "<style scoped>\n",
                     "    .dataframe tbody tr th:only-of-type {\n",
                     "        vertical-align: middle;\n",
                     "    }\n",
                     "\n",
                     "    .dataframe tbody tr th {\n",
                     "        vertical-align: top;\n",
                     "    }\n",
                     "\n",
                     "    .dataframe thead th {\n",
                     "        text-align: right;\n",
                     "    }\n",
                     "</style>\n",
                     "<table border=\"1\" class=\"dataframe\">\n",
                     "  <thead>\n",
                     "    <tr style=\"text-align: right;\">\n",
                     "      <th></th>\n",
                     "      <th>Name</th>\n",
                     "      <th>Sex</th>\n",
                     "      <th>Ticket</th>\n",
                     "      <th>Cabin</th>\n",
                     "      <th>Embarked</th>\n",
                     "    </tr>\n",
                     "  </thead>\n",
                     "  <tbody>\n",
                     "    <tr>\n",
                     "      <th>0</th>\n",
                     "      <td>Braund, Mr. Owen Harris</td>\n",
                     "      <td>1.0</td>\n",
                     "      <td>A/5 21171</td>\n",
                     "      <td>NaN</td>\n",
                     "      <td>S</td>\n",
                     "    </tr>\n",
                     "    <tr>\n",
                     "      <th>1</th>\n",
                     "      <td>Cumings, Mrs. John Bradley (Florence Briggs Th...</td>\n",
                     "      <td>0.0</td>\n",
                     "      <td>PC 17599</td>\n",
                     "      <td>C85</td>\n",
                     "      <td>C</td>\n",
                     "    </tr>\n",
                     "    <tr>\n",
                     "      <th>2</th>\n",
                     "      <td>Heikkinen, Miss. Laina</td>\n",
                     "      <td>0.0</td>\n",
                     "      <td>STON/O2. 3101282</td>\n",
                     "      <td>NaN</td>\n",
                     "      <td>S</td>\n",
                     "    </tr>\n",
                     "    <tr>\n",
                     "      <th>3</th>\n",
                     "      <td>Futrelle, Mrs. Jacques Heath (Lily May Peel)</td>\n",
                     "      <td>0.0</td>\n",
                     "      <td>113803</td>\n",
                     "      <td>C123</td>\n",
                     "      <td>S</td>\n",
                     "    </tr>\n",
                     "    <tr>\n",
                     "      <th>4</th>\n",
                     "      <td>Allen, Mr. William Henry</td>\n",
                     "      <td>1.0</td>\n",
                     "      <td>373450</td>\n",
                     "      <td>NaN</td>\n",
                     "      <td>S</td>\n",
                     "    </tr>\n",
                     "    <tr>\n",
                     "      <th>...</th>\n",
                     "      <td>...</td>\n",
                     "      <td>...</td>\n",
                     "      <td>...</td>\n",
                     "      <td>...</td>\n",
                     "      <td>...</td>\n",
                     "    </tr>\n",
                     "    <tr>\n",
                     "      <th>886</th>\n",
                     "      <td>Montvila, Rev. Juozas</td>\n",
                     "      <td>1.0</td>\n",
                     "      <td>211536</td>\n",
                     "      <td>NaN</td>\n",
                     "      <td>S</td>\n",
                     "    </tr>\n",
                     "    <tr>\n",
                     "      <th>887</th>\n",
                     "      <td>Graham, Miss. Margaret Edith</td>\n",
                     "      <td>0.0</td>\n",
                     "      <td>112053</td>\n",
                     "      <td>B42</td>\n",
                     "      <td>S</td>\n",
                     "    </tr>\n",
                     "    <tr>\n",
                     "      <th>888</th>\n",
                     "      <td>Johnston, Miss. Catherine Helen \"Carrie\"</td>\n",
                     "      <td>0.0</td>\n",
                     "      <td>W./C. 6607</td>\n",
                     "      <td>NaN</td>\n",
                     "      <td>S</td>\n",
                     "    </tr>\n",
                     "    <tr>\n",
                     "      <th>889</th>\n",
                     "      <td>Behr, Mr. Karl Howell</td>\n",
                     "      <td>1.0</td>\n",
                     "      <td>111369</td>\n",
                     "      <td>C148</td>\n",
                     "      <td>C</td>\n",
                     "    </tr>\n",
                     "    <tr>\n",
                     "      <th>890</th>\n",
                     "      <td>Dooley, Mr. Patrick</td>\n",
                     "      <td>1.0</td>\n",
                     "      <td>370376</td>\n",
                     "      <td>NaN</td>\n",
                     "      <td>Q</td>\n",
                     "    </tr>\n",
                     "  </tbody>\n",
                     "</table>\n",
                     "<p>891 rows × 5 columns</p>\n",
                     "</div>"
                  ],
                  "text/plain": [
                     "                                                  Name  Sex            Ticket  \\\n",
                     "0                              Braund, Mr. Owen Harris  1.0         A/5 21171   \n",
                     "1    Cumings, Mrs. John Bradley (Florence Briggs Th...  0.0          PC 17599   \n",
                     "2                               Heikkinen, Miss. Laina  0.0  STON/O2. 3101282   \n",
                     "3         Futrelle, Mrs. Jacques Heath (Lily May Peel)  0.0            113803   \n",
                     "4                             Allen, Mr. William Henry  1.0            373450   \n",
                     "..                                                 ...  ...               ...   \n",
                     "886                              Montvila, Rev. Juozas  1.0            211536   \n",
                     "887                       Graham, Miss. Margaret Edith  0.0            112053   \n",
                     "888           Johnston, Miss. Catherine Helen \"Carrie\"  0.0        W./C. 6607   \n",
                     "889                              Behr, Mr. Karl Howell  1.0            111369   \n",
                     "890                                Dooley, Mr. Patrick  1.0            370376   \n",
                     "\n",
                     "    Cabin Embarked  \n",
                     "0     NaN        S  \n",
                     "1     C85        C  \n",
                     "2     NaN        S  \n",
                     "3    C123        S  \n",
                     "4     NaN        S  \n",
                     "..    ...      ...  \n",
                     "886   NaN        S  \n",
                     "887   B42        S  \n",
                     "888   NaN        S  \n",
                     "889  C148        C  \n",
                     "890   NaN        Q  \n",
                     "\n",
                     "[891 rows x 5 columns]"
                  ]
               },
               "execution_count": 13,
               "metadata": {},
               "output_type": "execute_result"
            }
         ],
         "source": [
            "cat_dataset[\"Sex\"] = cat_dataset[\"Sex\"].astype(float)\n",
            "cat_dataset"
         ]
      },
      {
         "cell_type": "code",
         "execution_count": 14,
         "metadata": {},
         "outputs": [
            {
               "name": "stdout",
               "output_type": "stream",
               "text": [
                  "<class 'pandas.core.frame.DataFrame'>\n",
                  "RangeIndex: 891 entries, 0 to 890\n",
                  "Data columns (total 8 columns):\n",
                  " #   Column       Non-Null Count  Dtype  \n",
                  "---  ------       --------------  -----  \n",
                  " 0   PassengerId  891 non-null    int64  \n",
                  " 1   Survived     891 non-null    int64  \n",
                  " 2   Pclass       891 non-null    int64  \n",
                  " 3   Age          714 non-null    float64\n",
                  " 4   SibSp        891 non-null    int64  \n",
                  " 5   Parch        891 non-null    int64  \n",
                  " 6   Fare         891 non-null    float64\n",
                  " 7   Sex          891 non-null    float64\n",
                  "dtypes: float64(3), int64(5)\n",
                  "memory usage: 55.8 KB\n"
               ]
            }
         ],
         "source": [
            "num_dataset = num_dataset.join(cat_dataset[\"Sex\"])\n",
            "X_train_pipeline = num_dataset.copy()\n",
            "X_raw_copy = num_dataset.copy()\n",
            "num_dataset.info()"
         ]
      },
      {
         "cell_type": "code",
         "execution_count": 15,
         "metadata": {},
         "outputs": [],
         "source": [
            "cat_dataset.drop(columns=[\"Sex\"], inplace=True)\n",
            "# cat_dataset  #print the dataset to see the desired output if necessary"
         ]
      },
      {
         "cell_type": "markdown",
         "metadata": {},
         "source": [
            "Whenever conversion is happening from pandas dataframe to numpy array the data type changes to object for the entire array because numpy array can only have 1 datatype and mixture of datatypes forces numpy to cast all the data to object type\n",
            "To avoid this I did not create a class for sex datatype conversion and did the conversion utilizing pandas and numpy"
         ]
      },
      {
         "cell_type": "markdown",
         "metadata": {},
         "source": [
            "#### construct the correlation matrix for the transformed data"
         ]
      },
      {
         "cell_type": "code",
         "execution_count": 16,
         "metadata": {},
         "outputs": [
            {
               "data": {
                  "text/plain": [
                     "Survived       1.000000\n",
                     "Fare           0.257307\n",
                     "Parch          0.081629\n",
                     "PassengerId   -0.005007\n",
                     "SibSp         -0.035322\n",
                     "Age           -0.077221\n",
                     "Pclass        -0.338481\n",
                     "Sex           -0.543351\n",
                     "Name: Survived, dtype: float64"
                  ]
               },
               "execution_count": 16,
               "metadata": {},
               "output_type": "execute_result"
            }
         ],
         "source": [
            "corr_matrix = num_dataset.corr(numeric_only=True)\n",
            "corr_matrix[\"Survived\"].sort_values(ascending=False)"
         ]
      },
      {
         "cell_type": "markdown",
         "metadata": {},
         "source": [
            "### Transform the Embarked column with OneHotEncoder"
         ]
      },
      {
         "cell_type": "markdown",
         "metadata": {},
         "source": [
            "#### The approach I am using is:\n",
            "- Firstly clean the data by filling the nan columns\n",
            "- To fill the nan values i am using the most frequent value of the column "
         ]
      },
      {
         "cell_type": "code",
         "execution_count": 17,
         "metadata": {},
         "outputs": [
            {
               "data": {
                  "text/plain": [
                     "0      S\n",
                     "1      C\n",
                     "2      S\n",
                     "3      S\n",
                     "4      S\n",
                     "      ..\n",
                     "886    S\n",
                     "887    S\n",
                     "888    S\n",
                     "889    C\n",
                     "890    Q\n",
                     "Name: Embarked, Length: 891, dtype: object"
                  ]
               },
               "execution_count": 17,
               "metadata": {},
               "output_type": "execute_result"
            }
         ],
         "source": [
            "cat_dataset['Embarked']"
         ]
      },
      {
         "cell_type": "code",
         "execution_count": 18,
         "metadata": {},
         "outputs": [
            {
               "data": {
                  "text/plain": [
                     "'S'"
                  ]
               },
               "execution_count": 18,
               "metadata": {},
               "output_type": "execute_result"
            }
         ],
         "source": [
            "cat_dataset['Embarked'].value_counts().idxmax()"
         ]
      },
      {
         "cell_type": "markdown",
         "metadata": {},
         "source": [
            "#### class to fill the nan values present in Embarked column"
         ]
      },
      {
         "cell_type": "code",
         "execution_count": 19,
         "metadata": {},
         "outputs": [],
         "source": [
            "from sklearn.base import BaseEstimator, TransformerMixin\n",
            "\n",
            "class FillnaEmbarked(BaseEstimator, TransformerMixin):\n",
            "    def __init__(self):\n",
            "        pass\n",
            "    def fit(self, X, y=None):\n",
            "        return self\n",
            "    def transform(self, X, y=None):\n",
            "        X[\"Embarked\"] = X[\"Embarked\"].fillna(X[\"Embarked\"].value_counts().idxmax())\n",
            "        return X.to_numpy()"
         ]
      },
      {
         "cell_type": "code",
         "execution_count": 20,
         "metadata": {},
         "outputs": [
            {
               "name": "stdout",
               "output_type": "stream",
               "text": [
                  "<class 'pandas.core.frame.DataFrame'>\n",
                  "RangeIndex: 891 entries, 0 to 890\n",
                  "Data columns (total 4 columns):\n",
                  " #   Column    Non-Null Count  Dtype \n",
                  "---  ------    --------------  ----- \n",
                  " 0   Name      891 non-null    object\n",
                  " 1   Ticket    891 non-null    object\n",
                  " 2   Cabin     204 non-null    object\n",
                  " 3   Embarked  891 non-null    object\n",
                  "dtypes: object(4)\n",
                  "memory usage: 28.0+ KB\n"
               ]
            }
         ],
         "source": [
            "fillna_embark = FillnaEmbarked()\n",
            "raw_train_embark_arr = fillna_embark.transform(cat_dataset)\n",
            "raw_train_embark_filled = pd.DataFrame(raw_train_embark_arr, columns=list(cat_dataset))\n",
            "raw_train_embark_filled.info()"
         ]
      },
      {
         "cell_type": "code",
         "execution_count": 21,
         "metadata": {},
         "outputs": [
            {
               "name": "stdout",
               "output_type": "stream",
               "text": [
                  "<class 'pandas.core.frame.DataFrame'>\n",
                  "RangeIndex: 891 entries, 0 to 890\n",
                  "Data columns (total 9 columns):\n",
                  " #   Column       Non-Null Count  Dtype  \n",
                  "---  ------       --------------  -----  \n",
                  " 0   PassengerId  891 non-null    int64  \n",
                  " 1   Survived     891 non-null    int64  \n",
                  " 2   Pclass       891 non-null    int64  \n",
                  " 3   Age          714 non-null    float64\n",
                  " 4   SibSp        891 non-null    int64  \n",
                  " 5   Parch        891 non-null    int64  \n",
                  " 6   Fare         891 non-null    float64\n",
                  " 7   Sex          891 non-null    float64\n",
                  " 8   Embarked     891 non-null    object \n",
                  "dtypes: float64(3), int64(5), object(1)\n",
                  "memory usage: 62.8+ KB\n"
               ]
            }
         ],
         "source": [
            "X_train_pipeline = X_train_pipeline.join(raw_train_embark_filled[\"Embarked\"])\n",
            "X_raw_copy = X_raw_copy.join(raw_train_embark_filled[\"Embarked\"])\n",
            "X_train_pipeline.info()"
         ]
      },
      {
         "cell_type": "markdown",
         "metadata": {},
         "source": [
            "#### seperate the embarked values using OneHotEncoder for ease of model"
         ]
      },
      {
         "cell_type": "code",
         "execution_count": 22,
         "metadata": {},
         "outputs": [],
         "source": [
            "from sklearn.preprocessing import OneHotEncoder\n",
            "one_hot_encoder = OneHotEncoder()\n",
            "encoded_embarked = one_hot_encoder.fit_transform(raw_train_embark_filled[[\"Embarked\"]])"
         ]
      },
      {
         "cell_type": "code",
         "execution_count": 23,
         "metadata": {},
         "outputs": [
            {
               "data": {
                  "text/plain": [
                     "['one_hot_encoder_embark.joblib']"
                  ]
               },
               "execution_count": 23,
               "metadata": {},
               "output_type": "execute_result"
            }
         ],
         "source": [
            "import joblib\n",
            "joblib.dump(one_hot_encoder, \"one_hot_encoder_embark.joblib\")"
         ]
      },
      {
         "cell_type": "code",
         "execution_count": 24,
         "metadata": {},
         "outputs": [
            {
               "data": {
                  "text/plain": [
                     "array([[0., 0., 1.],\n",
                     "       [1., 0., 0.],\n",
                     "       [0., 0., 1.],\n",
                     "       ...,\n",
                     "       [0., 0., 1.],\n",
                     "       [1., 0., 0.],\n",
                     "       [0., 1., 0.]])"
                  ]
               },
               "execution_count": 24,
               "metadata": {},
               "output_type": "execute_result"
            }
         ],
         "source": [
            "encoded_embarked.toarray()"
         ]
      },
      {
         "cell_type": "markdown",
         "metadata": {},
         "source": [
            "#### Steps to add the OneHotEncoded values to the original dataset\n",
            "- extract the categories to a python list in the created one_hot_encoder object\n",
            "- construct a pandas dataset with the one_hot_encoder values\n",
            "- join the previously present numerical dataset and the newly formed one hot encoded embarked dataset"
         ]
      },
      {
         "cell_type": "code",
         "execution_count": 25,
         "metadata": {},
         "outputs": [
            {
               "name": "stdout",
               "output_type": "stream",
               "text": [
                  "C\n",
                  "Q\n",
                  "S\n",
                  "['C', 'Q', 'S']\n"
               ]
            }
         ],
         "source": [
            "one_hot_columns = []\n",
            "for i in one_hot_encoder.categories_[0]:\n",
            "    one_hot_columns.append(i)\n",
            "    print(i)\n",
            "print(one_hot_columns)"
         ]
      },
      {
         "cell_type": "code",
         "execution_count": 26,
         "metadata": {},
         "outputs": [
            {
               "name": "stdout",
               "output_type": "stream",
               "text": [
                  "<class 'pandas.core.frame.DataFrame'>\n",
                  "RangeIndex: 891 entries, 0 to 890\n",
                  "Data columns (total 3 columns):\n",
                  " #   Column  Non-Null Count  Dtype  \n",
                  "---  ------  --------------  -----  \n",
                  " 0   C       891 non-null    float64\n",
                  " 1   Q       891 non-null    float64\n",
                  " 2   S       891 non-null    float64\n",
                  "dtypes: float64(3)\n",
                  "memory usage: 21.0 KB\n"
               ]
            }
         ],
         "source": [
            "embarked_dataset = pd.DataFrame(encoded_embarked.toarray(), columns=one_hot_columns)\n",
            "embarked_dataset.info()"
         ]
      },
      {
         "cell_type": "code",
         "execution_count": 27,
         "metadata": {},
         "outputs": [
            {
               "data": {
                  "text/html": [
                     "<div>\n",
                     "<style scoped>\n",
                     "    .dataframe tbody tr th:only-of-type {\n",
                     "        vertical-align: middle;\n",
                     "    }\n",
                     "\n",
                     "    .dataframe tbody tr th {\n",
                     "        vertical-align: top;\n",
                     "    }\n",
                     "\n",
                     "    .dataframe thead th {\n",
                     "        text-align: right;\n",
                     "    }\n",
                     "</style>\n",
                     "<table border=\"1\" class=\"dataframe\">\n",
                     "  <thead>\n",
                     "    <tr style=\"text-align: right;\">\n",
                     "      <th></th>\n",
                     "      <th>PassengerId</th>\n",
                     "      <th>Survived</th>\n",
                     "      <th>Pclass</th>\n",
                     "      <th>Age</th>\n",
                     "      <th>SibSp</th>\n",
                     "      <th>Parch</th>\n",
                     "      <th>Fare</th>\n",
                     "      <th>Sex</th>\n",
                     "      <th>C</th>\n",
                     "      <th>Q</th>\n",
                     "      <th>S</th>\n",
                     "    </tr>\n",
                     "  </thead>\n",
                     "  <tbody>\n",
                     "    <tr>\n",
                     "      <th>0</th>\n",
                     "      <td>1</td>\n",
                     "      <td>0</td>\n",
                     "      <td>3</td>\n",
                     "      <td>22.0</td>\n",
                     "      <td>1</td>\n",
                     "      <td>0</td>\n",
                     "      <td>7.2500</td>\n",
                     "      <td>1.0</td>\n",
                     "      <td>0.0</td>\n",
                     "      <td>0.0</td>\n",
                     "      <td>1.0</td>\n",
                     "    </tr>\n",
                     "    <tr>\n",
                     "      <th>1</th>\n",
                     "      <td>2</td>\n",
                     "      <td>1</td>\n",
                     "      <td>1</td>\n",
                     "      <td>38.0</td>\n",
                     "      <td>1</td>\n",
                     "      <td>0</td>\n",
                     "      <td>71.2833</td>\n",
                     "      <td>0.0</td>\n",
                     "      <td>1.0</td>\n",
                     "      <td>0.0</td>\n",
                     "      <td>0.0</td>\n",
                     "    </tr>\n",
                     "    <tr>\n",
                     "      <th>2</th>\n",
                     "      <td>3</td>\n",
                     "      <td>1</td>\n",
                     "      <td>3</td>\n",
                     "      <td>26.0</td>\n",
                     "      <td>0</td>\n",
                     "      <td>0</td>\n",
                     "      <td>7.9250</td>\n",
                     "      <td>0.0</td>\n",
                     "      <td>0.0</td>\n",
                     "      <td>0.0</td>\n",
                     "      <td>1.0</td>\n",
                     "    </tr>\n",
                     "    <tr>\n",
                     "      <th>3</th>\n",
                     "      <td>4</td>\n",
                     "      <td>1</td>\n",
                     "      <td>1</td>\n",
                     "      <td>35.0</td>\n",
                     "      <td>1</td>\n",
                     "      <td>0</td>\n",
                     "      <td>53.1000</td>\n",
                     "      <td>0.0</td>\n",
                     "      <td>0.0</td>\n",
                     "      <td>0.0</td>\n",
                     "      <td>1.0</td>\n",
                     "    </tr>\n",
                     "    <tr>\n",
                     "      <th>4</th>\n",
                     "      <td>5</td>\n",
                     "      <td>0</td>\n",
                     "      <td>3</td>\n",
                     "      <td>35.0</td>\n",
                     "      <td>0</td>\n",
                     "      <td>0</td>\n",
                     "      <td>8.0500</td>\n",
                     "      <td>1.0</td>\n",
                     "      <td>0.0</td>\n",
                     "      <td>0.0</td>\n",
                     "      <td>1.0</td>\n",
                     "    </tr>\n",
                     "    <tr>\n",
                     "      <th>...</th>\n",
                     "      <td>...</td>\n",
                     "      <td>...</td>\n",
                     "      <td>...</td>\n",
                     "      <td>...</td>\n",
                     "      <td>...</td>\n",
                     "      <td>...</td>\n",
                     "      <td>...</td>\n",
                     "      <td>...</td>\n",
                     "      <td>...</td>\n",
                     "      <td>...</td>\n",
                     "      <td>...</td>\n",
                     "    </tr>\n",
                     "    <tr>\n",
                     "      <th>886</th>\n",
                     "      <td>887</td>\n",
                     "      <td>0</td>\n",
                     "      <td>2</td>\n",
                     "      <td>27.0</td>\n",
                     "      <td>0</td>\n",
                     "      <td>0</td>\n",
                     "      <td>13.0000</td>\n",
                     "      <td>1.0</td>\n",
                     "      <td>0.0</td>\n",
                     "      <td>0.0</td>\n",
                     "      <td>1.0</td>\n",
                     "    </tr>\n",
                     "    <tr>\n",
                     "      <th>887</th>\n",
                     "      <td>888</td>\n",
                     "      <td>1</td>\n",
                     "      <td>1</td>\n",
                     "      <td>19.0</td>\n",
                     "      <td>0</td>\n",
                     "      <td>0</td>\n",
                     "      <td>30.0000</td>\n",
                     "      <td>0.0</td>\n",
                     "      <td>0.0</td>\n",
                     "      <td>0.0</td>\n",
                     "      <td>1.0</td>\n",
                     "    </tr>\n",
                     "    <tr>\n",
                     "      <th>888</th>\n",
                     "      <td>889</td>\n",
                     "      <td>0</td>\n",
                     "      <td>3</td>\n",
                     "      <td>NaN</td>\n",
                     "      <td>1</td>\n",
                     "      <td>2</td>\n",
                     "      <td>23.4500</td>\n",
                     "      <td>0.0</td>\n",
                     "      <td>0.0</td>\n",
                     "      <td>0.0</td>\n",
                     "      <td>1.0</td>\n",
                     "    </tr>\n",
                     "    <tr>\n",
                     "      <th>889</th>\n",
                     "      <td>890</td>\n",
                     "      <td>1</td>\n",
                     "      <td>1</td>\n",
                     "      <td>26.0</td>\n",
                     "      <td>0</td>\n",
                     "      <td>0</td>\n",
                     "      <td>30.0000</td>\n",
                     "      <td>1.0</td>\n",
                     "      <td>1.0</td>\n",
                     "      <td>0.0</td>\n",
                     "      <td>0.0</td>\n",
                     "    </tr>\n",
                     "    <tr>\n",
                     "      <th>890</th>\n",
                     "      <td>891</td>\n",
                     "      <td>0</td>\n",
                     "      <td>3</td>\n",
                     "      <td>32.0</td>\n",
                     "      <td>0</td>\n",
                     "      <td>0</td>\n",
                     "      <td>7.7500</td>\n",
                     "      <td>1.0</td>\n",
                     "      <td>0.0</td>\n",
                     "      <td>1.0</td>\n",
                     "      <td>0.0</td>\n",
                     "    </tr>\n",
                     "  </tbody>\n",
                     "</table>\n",
                     "<p>891 rows × 11 columns</p>\n",
                     "</div>"
                  ],
                  "text/plain": [
                     "     PassengerId  Survived  Pclass   Age  SibSp  Parch     Fare  Sex    C  \\\n",
                     "0              1         0       3  22.0      1      0   7.2500  1.0  0.0   \n",
                     "1              2         1       1  38.0      1      0  71.2833  0.0  1.0   \n",
                     "2              3         1       3  26.0      0      0   7.9250  0.0  0.0   \n",
                     "3              4         1       1  35.0      1      0  53.1000  0.0  0.0   \n",
                     "4              5         0       3  35.0      0      0   8.0500  1.0  0.0   \n",
                     "..           ...       ...     ...   ...    ...    ...      ...  ...  ...   \n",
                     "886          887         0       2  27.0      0      0  13.0000  1.0  0.0   \n",
                     "887          888         1       1  19.0      0      0  30.0000  0.0  0.0   \n",
                     "888          889         0       3   NaN      1      2  23.4500  0.0  0.0   \n",
                     "889          890         1       1  26.0      0      0  30.0000  1.0  1.0   \n",
                     "890          891         0       3  32.0      0      0   7.7500  1.0  0.0   \n",
                     "\n",
                     "       Q    S  \n",
                     "0    0.0  1.0  \n",
                     "1    0.0  0.0  \n",
                     "2    0.0  1.0  \n",
                     "3    0.0  1.0  \n",
                     "4    0.0  1.0  \n",
                     "..   ...  ...  \n",
                     "886  0.0  1.0  \n",
                     "887  0.0  1.0  \n",
                     "888  0.0  1.0  \n",
                     "889  0.0  0.0  \n",
                     "890  1.0  0.0  \n",
                     "\n",
                     "[891 rows x 11 columns]"
                  ]
               },
               "execution_count": 27,
               "metadata": {},
               "output_type": "execute_result"
            }
         ],
         "source": [
            "num_dataset = num_dataset.join(embarked_dataset)\n",
            "num_dataset"
         ]
      },
      {
         "cell_type": "code",
         "execution_count": 28,
         "metadata": {},
         "outputs": [
            {
               "data": {
                  "text/html": [
                     "<div>\n",
                     "<style scoped>\n",
                     "    .dataframe tbody tr th:only-of-type {\n",
                     "        vertical-align: middle;\n",
                     "    }\n",
                     "\n",
                     "    .dataframe tbody tr th {\n",
                     "        vertical-align: top;\n",
                     "    }\n",
                     "\n",
                     "    .dataframe thead th {\n",
                     "        text-align: right;\n",
                     "    }\n",
                     "</style>\n",
                     "<table border=\"1\" class=\"dataframe\">\n",
                     "  <thead>\n",
                     "    <tr style=\"text-align: right;\">\n",
                     "      <th></th>\n",
                     "      <th>Name</th>\n",
                     "      <th>Ticket</th>\n",
                     "      <th>Cabin</th>\n",
                     "    </tr>\n",
                     "  </thead>\n",
                     "  <tbody>\n",
                     "    <tr>\n",
                     "      <th>0</th>\n",
                     "      <td>Braund, Mr. Owen Harris</td>\n",
                     "      <td>A/5 21171</td>\n",
                     "      <td>NaN</td>\n",
                     "    </tr>\n",
                     "    <tr>\n",
                     "      <th>1</th>\n",
                     "      <td>Cumings, Mrs. John Bradley (Florence Briggs Th...</td>\n",
                     "      <td>PC 17599</td>\n",
                     "      <td>C85</td>\n",
                     "    </tr>\n",
                     "    <tr>\n",
                     "      <th>2</th>\n",
                     "      <td>Heikkinen, Miss. Laina</td>\n",
                     "      <td>STON/O2. 3101282</td>\n",
                     "      <td>NaN</td>\n",
                     "    </tr>\n",
                     "    <tr>\n",
                     "      <th>3</th>\n",
                     "      <td>Futrelle, Mrs. Jacques Heath (Lily May Peel)</td>\n",
                     "      <td>113803</td>\n",
                     "      <td>C123</td>\n",
                     "    </tr>\n",
                     "    <tr>\n",
                     "      <th>4</th>\n",
                     "      <td>Allen, Mr. William Henry</td>\n",
                     "      <td>373450</td>\n",
                     "      <td>NaN</td>\n",
                     "    </tr>\n",
                     "    <tr>\n",
                     "      <th>...</th>\n",
                     "      <td>...</td>\n",
                     "      <td>...</td>\n",
                     "      <td>...</td>\n",
                     "    </tr>\n",
                     "    <tr>\n",
                     "      <th>886</th>\n",
                     "      <td>Montvila, Rev. Juozas</td>\n",
                     "      <td>211536</td>\n",
                     "      <td>NaN</td>\n",
                     "    </tr>\n",
                     "    <tr>\n",
                     "      <th>887</th>\n",
                     "      <td>Graham, Miss. Margaret Edith</td>\n",
                     "      <td>112053</td>\n",
                     "      <td>B42</td>\n",
                     "    </tr>\n",
                     "    <tr>\n",
                     "      <th>888</th>\n",
                     "      <td>Johnston, Miss. Catherine Helen \"Carrie\"</td>\n",
                     "      <td>W./C. 6607</td>\n",
                     "      <td>NaN</td>\n",
                     "    </tr>\n",
                     "    <tr>\n",
                     "      <th>889</th>\n",
                     "      <td>Behr, Mr. Karl Howell</td>\n",
                     "      <td>111369</td>\n",
                     "      <td>C148</td>\n",
                     "    </tr>\n",
                     "    <tr>\n",
                     "      <th>890</th>\n",
                     "      <td>Dooley, Mr. Patrick</td>\n",
                     "      <td>370376</td>\n",
                     "      <td>NaN</td>\n",
                     "    </tr>\n",
                     "  </tbody>\n",
                     "</table>\n",
                     "<p>891 rows × 3 columns</p>\n",
                     "</div>"
                  ],
                  "text/plain": [
                     "                                                  Name            Ticket Cabin\n",
                     "0                              Braund, Mr. Owen Harris         A/5 21171   NaN\n",
                     "1    Cumings, Mrs. John Bradley (Florence Briggs Th...          PC 17599   C85\n",
                     "2                               Heikkinen, Miss. Laina  STON/O2. 3101282   NaN\n",
                     "3         Futrelle, Mrs. Jacques Heath (Lily May Peel)            113803  C123\n",
                     "4                             Allen, Mr. William Henry            373450   NaN\n",
                     "..                                                 ...               ...   ...\n",
                     "886                              Montvila, Rev. Juozas            211536   NaN\n",
                     "887                       Graham, Miss. Margaret Edith            112053   B42\n",
                     "888           Johnston, Miss. Catherine Helen \"Carrie\"        W./C. 6607   NaN\n",
                     "889                              Behr, Mr. Karl Howell            111369  C148\n",
                     "890                                Dooley, Mr. Patrick            370376   NaN\n",
                     "\n",
                     "[891 rows x 3 columns]"
                  ]
               },
               "execution_count": 28,
               "metadata": {},
               "output_type": "execute_result"
            }
         ],
         "source": [
            "raw_train_embark_filled.drop(columns=[\"Embarked\"], inplace=True)\n",
            "raw_train_embark_filled"
         ]
      },
      {
         "cell_type": "code",
         "execution_count": 29,
         "metadata": {},
         "outputs": [
            {
               "data": {
                  "text/plain": [
                     "Sex           -0.543351\n",
                     "Pclass        -0.338481\n",
                     "Age           -0.077221\n",
                     "SibSp         -0.035322\n",
                     "PassengerId   -0.005007\n",
                     "Parch          0.081629\n",
                     "Fare           0.257307\n",
                     "Survived       1.000000\n",
                     "Name: Survived, dtype: float64"
                  ]
               },
               "execution_count": 29,
               "metadata": {},
               "output_type": "execute_result"
            }
         ],
         "source": [
            "corr_mat = num_dataset.corr()\n",
            "corr_matrix[\"Survived\"].sort_values()"
         ]
      },
      {
         "cell_type": "markdown",
         "metadata": {},
         "source": [
            "### Split the data into test set and train set\n",
            "#### as we see in the last correlation matrix that the survived column has very high dependency on the sex feature so we are dividing the dataset based on the sex parameter"
         ]
      },
      {
         "cell_type": "markdown",
         "metadata": {},
         "source": [
            "#### split the data in a ratio of 7:3"
         ]
      },
      {
         "cell_type": "code",
         "execution_count": 30,
         "metadata": {},
         "outputs": [],
         "source": [
            "from sklearn.model_selection import StratifiedShuffleSplit\n",
            "train_test_split = StratifiedShuffleSplit(n_splits=1, test_size=0.3, random_state=42)\n",
            "for train_index, test_index in train_test_split.split(num_dataset, num_dataset[\"Sex\"]):\n",
            "    X_train = num_dataset.loc[train_index]\n",
            "    X_test = num_dataset.loc[test_index]"
         ]
      },
      {
         "cell_type": "markdown",
         "metadata": {},
         "source": [
            "#### extract the labels form both the train set and the test set"
         ]
      },
      {
         "cell_type": "code",
         "execution_count": 31,
         "metadata": {},
         "outputs": [],
         "source": [
            "y_train = X_train[\"Survived\"]\n",
            "y_test = X_test[\"Survived\"]"
         ]
      },
      {
         "cell_type": "code",
         "execution_count": 32,
         "metadata": {},
         "outputs": [
            {
               "name": "stdout",
               "output_type": "stream",
               "text": [
                  "<class 'pandas.core.frame.DataFrame'>\n",
                  "Index: 623 entries, 97 to 421\n",
                  "Data columns (total 11 columns):\n",
                  " #   Column       Non-Null Count  Dtype  \n",
                  "---  ------       --------------  -----  \n",
                  " 0   PassengerId  623 non-null    int64  \n",
                  " 1   Survived     623 non-null    int64  \n",
                  " 2   Pclass       623 non-null    int64  \n",
                  " 3   Age          507 non-null    float64\n",
                  " 4   SibSp        623 non-null    int64  \n",
                  " 5   Parch        623 non-null    int64  \n",
                  " 6   Fare         623 non-null    float64\n",
                  " 7   Sex          623 non-null    float64\n",
                  " 8   C            623 non-null    float64\n",
                  " 9   Q            623 non-null    float64\n",
                  " 10  S            623 non-null    float64\n",
                  "dtypes: float64(6), int64(5)\n",
                  "memory usage: 58.4 KB\n"
               ]
            }
         ],
         "source": [
            "X_train.info()"
         ]
      },
      {
         "cell_type": "code",
         "execution_count": 33,
         "metadata": {},
         "outputs": [
            {
               "name": "stdout",
               "output_type": "stream",
               "text": [
                  "<class 'pandas.core.frame.DataFrame'>\n",
                  "Index: 268 entries, 154 to 563\n",
                  "Data columns (total 11 columns):\n",
                  " #   Column       Non-Null Count  Dtype  \n",
                  "---  ------       --------------  -----  \n",
                  " 0   PassengerId  268 non-null    int64  \n",
                  " 1   Survived     268 non-null    int64  \n",
                  " 2   Pclass       268 non-null    int64  \n",
                  " 3   Age          207 non-null    float64\n",
                  " 4   SibSp        268 non-null    int64  \n",
                  " 5   Parch        268 non-null    int64  \n",
                  " 6   Fare         268 non-null    float64\n",
                  " 7   Sex          268 non-null    float64\n",
                  " 8   C            268 non-null    float64\n",
                  " 9   Q            268 non-null    float64\n",
                  " 10  S            268 non-null    float64\n",
                  "dtypes: float64(6), int64(5)\n",
                  "memory usage: 25.1 KB\n"
               ]
            }
         ],
         "source": [
            "X_test.info()"
         ]
      },
      {
         "cell_type": "markdown",
         "metadata": {},
         "source": [
            "### Tackle the null values present in the age column\n",
            "#### i am using simple imputer of sklearn with strategy as median for the age nan values"
         ]
      },
      {
         "cell_type": "code",
         "execution_count": 34,
         "metadata": {},
         "outputs": [
            {
               "data": {
                  "text/html": [
                     "<div>\n",
                     "<style scoped>\n",
                     "    .dataframe tbody tr th:only-of-type {\n",
                     "        vertical-align: middle;\n",
                     "    }\n",
                     "\n",
                     "    .dataframe tbody tr th {\n",
                     "        vertical-align: top;\n",
                     "    }\n",
                     "\n",
                     "    .dataframe thead th {\n",
                     "        text-align: right;\n",
                     "    }\n",
                     "</style>\n",
                     "<table border=\"1\" class=\"dataframe\">\n",
                     "  <thead>\n",
                     "    <tr style=\"text-align: right;\">\n",
                     "      <th></th>\n",
                     "      <th>PassengerId</th>\n",
                     "      <th>Survived</th>\n",
                     "      <th>Pclass</th>\n",
                     "      <th>Age</th>\n",
                     "      <th>SibSp</th>\n",
                     "      <th>Parch</th>\n",
                     "      <th>Fare</th>\n",
                     "      <th>Sex</th>\n",
                     "      <th>C</th>\n",
                     "      <th>Q</th>\n",
                     "      <th>S</th>\n",
                     "    </tr>\n",
                     "  </thead>\n",
                     "  <tbody>\n",
                     "    <tr>\n",
                     "      <th>97</th>\n",
                     "      <td>98</td>\n",
                     "      <td>1</td>\n",
                     "      <td>1</td>\n",
                     "      <td>23.0</td>\n",
                     "      <td>0</td>\n",
                     "      <td>1</td>\n",
                     "      <td>63.3583</td>\n",
                     "      <td>1.0</td>\n",
                     "      <td>1.0</td>\n",
                     "      <td>0.0</td>\n",
                     "      <td>0.0</td>\n",
                     "    </tr>\n",
                     "    <tr>\n",
                     "      <th>198</th>\n",
                     "      <td>199</td>\n",
                     "      <td>1</td>\n",
                     "      <td>3</td>\n",
                     "      <td>NaN</td>\n",
                     "      <td>0</td>\n",
                     "      <td>0</td>\n",
                     "      <td>7.7500</td>\n",
                     "      <td>0.0</td>\n",
                     "      <td>0.0</td>\n",
                     "      <td>1.0</td>\n",
                     "      <td>0.0</td>\n",
                     "    </tr>\n",
                     "    <tr>\n",
                     "      <th>10</th>\n",
                     "      <td>11</td>\n",
                     "      <td>1</td>\n",
                     "      <td>3</td>\n",
                     "      <td>4.0</td>\n",
                     "      <td>1</td>\n",
                     "      <td>1</td>\n",
                     "      <td>16.7000</td>\n",
                     "      <td>0.0</td>\n",
                     "      <td>0.0</td>\n",
                     "      <td>0.0</td>\n",
                     "      <td>1.0</td>\n",
                     "    </tr>\n",
                     "    <tr>\n",
                     "      <th>808</th>\n",
                     "      <td>809</td>\n",
                     "      <td>0</td>\n",
                     "      <td>2</td>\n",
                     "      <td>39.0</td>\n",
                     "      <td>0</td>\n",
                     "      <td>0</td>\n",
                     "      <td>13.0000</td>\n",
                     "      <td>1.0</td>\n",
                     "      <td>0.0</td>\n",
                     "      <td>0.0</td>\n",
                     "      <td>1.0</td>\n",
                     "    </tr>\n",
                     "    <tr>\n",
                     "      <th>206</th>\n",
                     "      <td>207</td>\n",
                     "      <td>0</td>\n",
                     "      <td>3</td>\n",
                     "      <td>32.0</td>\n",
                     "      <td>1</td>\n",
                     "      <td>0</td>\n",
                     "      <td>15.8500</td>\n",
                     "      <td>1.0</td>\n",
                     "      <td>0.0</td>\n",
                     "      <td>0.0</td>\n",
                     "      <td>1.0</td>\n",
                     "    </tr>\n",
                     "    <tr>\n",
                     "      <th>...</th>\n",
                     "      <td>...</td>\n",
                     "      <td>...</td>\n",
                     "      <td>...</td>\n",
                     "      <td>...</td>\n",
                     "      <td>...</td>\n",
                     "      <td>...</td>\n",
                     "      <td>...</td>\n",
                     "      <td>...</td>\n",
                     "      <td>...</td>\n",
                     "      <td>...</td>\n",
                     "      <td>...</td>\n",
                     "    </tr>\n",
                     "    <tr>\n",
                     "      <th>131</th>\n",
                     "      <td>132</td>\n",
                     "      <td>0</td>\n",
                     "      <td>3</td>\n",
                     "      <td>20.0</td>\n",
                     "      <td>0</td>\n",
                     "      <td>0</td>\n",
                     "      <td>7.0500</td>\n",
                     "      <td>1.0</td>\n",
                     "      <td>0.0</td>\n",
                     "      <td>0.0</td>\n",
                     "      <td>1.0</td>\n",
                     "    </tr>\n",
                     "    <tr>\n",
                     "      <th>692</th>\n",
                     "      <td>693</td>\n",
                     "      <td>1</td>\n",
                     "      <td>3</td>\n",
                     "      <td>NaN</td>\n",
                     "      <td>0</td>\n",
                     "      <td>0</td>\n",
                     "      <td>56.4958</td>\n",
                     "      <td>1.0</td>\n",
                     "      <td>0.0</td>\n",
                     "      <td>0.0</td>\n",
                     "      <td>1.0</td>\n",
                     "    </tr>\n",
                     "    <tr>\n",
                     "      <th>231</th>\n",
                     "      <td>232</td>\n",
                     "      <td>0</td>\n",
                     "      <td>3</td>\n",
                     "      <td>29.0</td>\n",
                     "      <td>0</td>\n",
                     "      <td>0</td>\n",
                     "      <td>7.7750</td>\n",
                     "      <td>1.0</td>\n",
                     "      <td>0.0</td>\n",
                     "      <td>0.0</td>\n",
                     "      <td>1.0</td>\n",
                     "    </tr>\n",
                     "    <tr>\n",
                     "      <th>870</th>\n",
                     "      <td>871</td>\n",
                     "      <td>0</td>\n",
                     "      <td>3</td>\n",
                     "      <td>26.0</td>\n",
                     "      <td>0</td>\n",
                     "      <td>0</td>\n",
                     "      <td>7.8958</td>\n",
                     "      <td>1.0</td>\n",
                     "      <td>0.0</td>\n",
                     "      <td>0.0</td>\n",
                     "      <td>1.0</td>\n",
                     "    </tr>\n",
                     "    <tr>\n",
                     "      <th>421</th>\n",
                     "      <td>422</td>\n",
                     "      <td>0</td>\n",
                     "      <td>3</td>\n",
                     "      <td>21.0</td>\n",
                     "      <td>0</td>\n",
                     "      <td>0</td>\n",
                     "      <td>7.7333</td>\n",
                     "      <td>1.0</td>\n",
                     "      <td>0.0</td>\n",
                     "      <td>1.0</td>\n",
                     "      <td>0.0</td>\n",
                     "    </tr>\n",
                     "  </tbody>\n",
                     "</table>\n",
                     "<p>623 rows × 11 columns</p>\n",
                     "</div>"
                  ],
                  "text/plain": [
                     "     PassengerId  Survived  Pclass   Age  SibSp  Parch     Fare  Sex    C  \\\n",
                     "97            98         1       1  23.0      0      1  63.3583  1.0  1.0   \n",
                     "198          199         1       3   NaN      0      0   7.7500  0.0  0.0   \n",
                     "10            11         1       3   4.0      1      1  16.7000  0.0  0.0   \n",
                     "808          809         0       2  39.0      0      0  13.0000  1.0  0.0   \n",
                     "206          207         0       3  32.0      1      0  15.8500  1.0  0.0   \n",
                     "..           ...       ...     ...   ...    ...    ...      ...  ...  ...   \n",
                     "131          132         0       3  20.0      0      0   7.0500  1.0  0.0   \n",
                     "692          693         1       3   NaN      0      0  56.4958  1.0  0.0   \n",
                     "231          232         0       3  29.0      0      0   7.7750  1.0  0.0   \n",
                     "870          871         0       3  26.0      0      0   7.8958  1.0  0.0   \n",
                     "421          422         0       3  21.0      0      0   7.7333  1.0  0.0   \n",
                     "\n",
                     "       Q    S  \n",
                     "97   0.0  0.0  \n",
                     "198  1.0  0.0  \n",
                     "10   0.0  1.0  \n",
                     "808  0.0  1.0  \n",
                     "206  0.0  1.0  \n",
                     "..   ...  ...  \n",
                     "131  0.0  1.0  \n",
                     "692  0.0  1.0  \n",
                     "231  0.0  1.0  \n",
                     "870  0.0  1.0  \n",
                     "421  1.0  0.0  \n",
                     "\n",
                     "[623 rows x 11 columns]"
                  ]
               },
               "execution_count": 34,
               "metadata": {},
               "output_type": "execute_result"
            }
         ],
         "source": [
            "X_train"
         ]
      },
      {
         "cell_type": "code",
         "execution_count": 35,
         "metadata": {},
         "outputs": [],
         "source": [
            "from sklearn.impute import SimpleImputer\n",
            "\n",
            "imputer = SimpleImputer(strategy=\"median\")\n",
            "imputer.fit(X_train)\n",
            "imputed_train_dataset = imputer.transform(X_train)"
         ]
      },
      {
         "cell_type": "code",
         "execution_count": 36,
         "metadata": {},
         "outputs": [
            {
               "data": {
                  "text/plain": [
                     "array([458. ,   3. ,  28. ,   0. ,   0. ,  14.5,   1. ])"
                  ]
               },
               "execution_count": 36,
               "metadata": {},
               "output_type": "execute_result"
            }
         ],
         "source": [
            "import joblib\n",
            "imputer_testdata = SimpleImputer(strategy= \"median\")\n",
            "imputer_testdata.fit(X_train.drop(columns=[\"Survived\", \"C\", 'Q', 'S']))\n",
            "joblib.dump(imputer_testdata, \"imputer_testdata.joblib\")\n",
            "imputer_testdata.statistics_\n"
         ]
      },
      {
         "cell_type": "code",
         "execution_count": 37,
         "metadata": {},
         "outputs": [
            {
               "data": {
                  "text/plain": [
                     "['PassengerId', 'Pclass', 'Age', 'SibSp', 'Parch', 'Fare', 'Sex']"
                  ]
               },
               "execution_count": 37,
               "metadata": {},
               "output_type": "execute_result"
            }
         ],
         "source": [
            "list(X_train.drop(columns=[\"Survived\", \"C\", 'Q', 'S']))"
         ]
      },
      {
         "cell_type": "code",
         "execution_count": 38,
         "metadata": {},
         "outputs": [
            {
               "data": {
                  "text/plain": [
                     "array([458. ,   0. ,   3. ,  28. ,   0. ,   0. ,  14.5,   1. ,   0. ,\n",
                     "         0. ,   1. ])"
                  ]
               },
               "execution_count": 38,
               "metadata": {},
               "output_type": "execute_result"
            }
         ],
         "source": [
            "imputer.statistics_"
         ]
      },
      {
         "cell_type": "markdown",
         "metadata": {},
         "source": [
            "#### filled all null and nan values in the age column with the meadian of the whole column"
         ]
      },
      {
         "cell_type": "code",
         "execution_count": 39,
         "metadata": {},
         "outputs": [
            {
               "data": {
                  "text/plain": [
                     "array([[ 98.,   1.,   1., ...,   1.,   0.,   0.],\n",
                     "       [199.,   1.,   3., ...,   0.,   1.,   0.],\n",
                     "       [ 11.,   1.,   3., ...,   0.,   0.,   1.],\n",
                     "       ...,\n",
                     "       [232.,   0.,   3., ...,   0.,   0.,   1.],\n",
                     "       [871.,   0.,   3., ...,   0.,   0.,   1.],\n",
                     "       [422.,   0.,   3., ...,   0.,   1.,   0.]])"
                  ]
               },
               "execution_count": 39,
               "metadata": {},
               "output_type": "execute_result"
            }
         ],
         "source": [
            "imputed_train_dataset"
         ]
      },
      {
         "cell_type": "code",
         "execution_count": 40,
         "metadata": {},
         "outputs": [],
         "source": [
            "X_train = pd.DataFrame(imputed_train_dataset, columns=list(X_train))"
         ]
      },
      {
         "cell_type": "markdown",
         "metadata": {},
         "source": [
            "### The name and cabin are not sounding very useful for our model so dropping them will be a good idea\n",
            "any ways the cabin column has a lot of nan values which will be dificult to tackle. So we are not including those columns from the cat_dataset into the num_dataset"
         ]
      },
      {
         "cell_type": "markdown",
         "metadata": {},
         "source": [
            "### Having a look at the ticket feature"
         ]
      },
      {
         "cell_type": "markdown",
         "metadata": {},
         "source": [
            "#### define the class to separate the ticket code from ticket number\n",
            "(modification) i am planning to drop the ticket code feature so necessary changes are made in this class"
         ]
      },
      {
         "cell_type": "code",
         "execution_count": 41,
         "metadata": {},
         "outputs": [
            {
               "data": {
                  "text/plain": [
                     "' class SeperateTicket(BaseEstimator, TransformerMixin):\\n    def __init__(self):\\n        super().__init__()\\n    def fit(self, X, y=None):\\n        return self\\n    def transform(self, X, y=None):\\n        alpha_part = []\\n        num_part = []\\n        for i in range(len(X)):\\n            total = X[\"Ticket\"][i].split()\\n            if len(total) > 2:\\n                total.pop(1)\\n            if len(total) == 1:\\n                if(total[0].isalpha()):\\n                    total.append(\\'0\\')\\n                else:\\n                    total.insert(0, \\'No Code\\')\\n            for i in total:\\n                if(i[0].isdigit()):\\n                    num_part.append(int(i))\\n        ticket_dict = {\\n            \"ticket_num\": num_part,\\n        }\\n        ticket_df = pd.DataFrame(ticket_dict)\\n        X.drop(columns=[\"Ticket\"], inplace=True)\\n        X = X.join(ticket_df)\\n        return X.to_numpy() '"
                  ]
               },
               "execution_count": 41,
               "metadata": {},
               "output_type": "execute_result"
            }
         ],
         "source": [
            "''' class SeperateTicket(BaseEstimator, TransformerMixin):\n",
            "    def __init__(self):\n",
            "        super().__init__()\n",
            "    def fit(self, X, y=None):\n",
            "        return self\n",
            "    def transform(self, X, y=None):\n",
            "        alpha_part = []\n",
            "        num_part = []\n",
            "        for i in range(len(X)):\n",
            "            total = X[\"Ticket\"][i].split()\n",
            "            if len(total) > 2:\n",
            "                total.pop(1)\n",
            "            if len(total) == 1:\n",
            "                if(total[0].isalpha()):\n",
            "                    total.append('0')\n",
            "                else:\n",
            "                    total.insert(0, 'No Code')\n",
            "            for i in total:\n",
            "                if(i[0].isdigit()):\n",
            "                    num_part.append(int(i))\n",
            "        ticket_dict = {\n",
            "            \"ticket_num\": num_part,\n",
            "        }\n",
            "        ticket_df = pd.DataFrame(ticket_dict)\n",
            "        X.drop(columns=[\"Ticket\"], inplace=True)\n",
            "        X = X.join(ticket_df)\n",
            "        return X.to_numpy() '''\n"
         ]
      },
      {
         "cell_type": "markdown",
         "metadata": {},
         "source": [
            "#### use the class to separate ticket code and ticket number\n",
            "* construct new dataframe with the obtained ticket code and ticket number \n",
            "* delete the past ticket column \n",
            "* restore to proper datatype"
         ]
      },
      {
         "cell_type": "code",
         "execution_count": 42,
         "metadata": {},
         "outputs": [
            {
               "data": {
                  "text/plain": [
                     "' all_cols.remove(\"Ticket\")\\nall_cols.extend([\"ticket_num\"])\\nticket_seperator = SeperateTicket()\\nseperated_arr = ticket_seperator.transform(X_train)\\nX_train = pd.DataFrame(seperated_arr, columns=all_cols)\\nrevert_datatype(X_train, int_features_index=[0, 1, 2, 3, 5, 6, 8, 9, 10, 11], float_features_index=[4, 7])\\nX_train '"
                  ]
               },
               "execution_count": 42,
               "metadata": {},
               "output_type": "execute_result"
            }
         ],
         "source": [
            "''' all_cols.remove(\"Ticket\")\n",
            "all_cols.extend([\"ticket_num\"])\n",
            "ticket_seperator = SeperateTicket()\n",
            "seperated_arr = ticket_seperator.transform(X_train)\n",
            "X_train = pd.DataFrame(seperated_arr, columns=all_cols)\n",
            "revert_datatype(X_train, int_features_index=[0, 1, 2, 3, 5, 6, 8, 9, 10, 11], float_features_index=[4, 7])\n",
            "X_train '''"
         ]
      },
      {
         "cell_type": "code",
         "execution_count": 43,
         "metadata": {},
         "outputs": [
            {
               "name": "stdout",
               "output_type": "stream",
               "text": [
                  "<class 'pandas.core.frame.DataFrame'>\n",
                  "RangeIndex: 623 entries, 0 to 622\n",
                  "Data columns (total 11 columns):\n",
                  " #   Column       Non-Null Count  Dtype  \n",
                  "---  ------       --------------  -----  \n",
                  " 0   PassengerId  623 non-null    float64\n",
                  " 1   Survived     623 non-null    float64\n",
                  " 2   Pclass       623 non-null    float64\n",
                  " 3   Age          623 non-null    float64\n",
                  " 4   SibSp        623 non-null    float64\n",
                  " 5   Parch        623 non-null    float64\n",
                  " 6   Fare         623 non-null    float64\n",
                  " 7   Sex          623 non-null    float64\n",
                  " 8   C            623 non-null    float64\n",
                  " 9   Q            623 non-null    float64\n",
                  " 10  S            623 non-null    float64\n",
                  "dtypes: float64(11)\n",
                  "memory usage: 53.7 KB\n"
               ]
            }
         ],
         "source": [
            "X_train.info()"
         ]
      },
      {
         "cell_type": "code",
         "execution_count": 44,
         "metadata": {},
         "outputs": [
            {
               "data": {
                  "text/plain": [
                     "Survived       1.000000\n",
                     "Fare           0.244125\n",
                     "C              0.177686\n",
                     "Parch          0.040049\n",
                     "Q             -0.011346\n",
                     "PassengerId   -0.040355\n",
                     "SibSp         -0.054082\n",
                     "Age           -0.069049\n",
                     "S             -0.147534\n",
                     "Pclass        -0.315752\n",
                     "Sex           -0.542131\n",
                     "Name: Survived, dtype: float64"
                  ]
               },
               "execution_count": 44,
               "metadata": {},
               "output_type": "execute_result"
            }
         ],
         "source": [
            "corr_matr = X_train.corr(numeric_only=True)\n",
            "corr_matr[\"Survived\"].sort_values(ascending=False)\n"
         ]
      },
      {
         "cell_type": "markdown",
         "metadata": {},
         "source": [
            "### Data Visualization"
         ]
      },
      {
         "cell_type": "markdown",
         "metadata": {},
         "source": [
            "#### based on sex"
         ]
      },
      {
         "cell_type": "markdown",
         "metadata": {},
         "source": [
            "##### graph showing male and female survival status"
         ]
      },
      {
         "cell_type": "code",
         "execution_count": 45,
         "metadata": {},
         "outputs": [
            {
               "data": {
                  "text/html": [
                     "<div>\n",
                     "<style scoped>\n",
                     "    .dataframe tbody tr th:only-of-type {\n",
                     "        vertical-align: middle;\n",
                     "    }\n",
                     "\n",
                     "    .dataframe tbody tr th {\n",
                     "        vertical-align: top;\n",
                     "    }\n",
                     "\n",
                     "    .dataframe thead th {\n",
                     "        text-align: right;\n",
                     "    }\n",
                     "</style>\n",
                     "<table border=\"1\" class=\"dataframe\">\n",
                     "  <thead>\n",
                     "    <tr style=\"text-align: right;\">\n",
                     "      <th></th>\n",
                     "      <th>female</th>\n",
                     "      <th>male</th>\n",
                     "    </tr>\n",
                     "  </thead>\n",
                     "  <tbody>\n",
                     "    <tr>\n",
                     "      <th>died</th>\n",
                     "      <td>53</td>\n",
                     "      <td>321</td>\n",
                     "    </tr>\n",
                     "    <tr>\n",
                     "      <th>survived</th>\n",
                     "      <td>167</td>\n",
                     "      <td>82</td>\n",
                     "    </tr>\n",
                     "  </tbody>\n",
                     "</table>\n",
                     "</div>"
                  ],
                  "text/plain": [
                     "          female  male\n",
                     "died          53   321\n",
                     "survived     167    82"
                  ]
               },
               "execution_count": 45,
               "metadata": {},
               "output_type": "execute_result"
            }
         ],
         "source": [
            "x = X_train.groupby([\"Survived\", \"Sex\"]).size().unstack(fill_value=0)\n",
            "x.columns = ['female', 'male']\n",
            "x.index = ['died', 'survived']\n",
            "x"
         ]
      },
      {
         "cell_type": "code",
         "execution_count": 46,
         "metadata": {},
         "outputs": [
            {
               "data": {
                  "text/plain": [
                     "Text(0.5, 0, 'Living status')"
                  ]
               },
               "execution_count": 46,
               "metadata": {},
               "output_type": "execute_result"
            },
            {
               "data": {
                  "image/png": "[encoded data removed]",
                  "text/plain": [
                     "<Figure size 640x480 with 1 Axes>"
                  ]
               },
               "metadata": {},
               "output_type": "display_data"
            }
         ],
         "source": [
            "%matplotlib inline\n",
            "import matplotlib.pyplot as plt\n",
            "x.plot(kind='bar')\n",
            "plt.grid(True)\n",
            "plt.ylabel(\"No of people\")\n",
            "plt.xlabel(\"Living status\")"
         ]
      },
      {
         "cell_type": "markdown",
         "metadata": {},
         "source": [
            "##### graph showing male and female survival status per total number of male and female respectively"
         ]
      },
      {
         "cell_type": "code",
         "execution_count": 47,
         "metadata": {},
         "outputs": [
            {
               "name": "stdout",
               "output_type": "stream",
               "text": [
                  "Total male: 403\n",
                  "Total females: 220\n"
               ]
            }
         ],
         "source": [
            "total_males = X_train[X_train[\"Sex\"] == 1].shape[0]\n",
            "total_females = X_train[X_train[\"Sex\"] == 0].shape[0]\n",
            "print(f\"Total male: {total_males}\\nTotal females: {total_females}\")"
         ]
      },
      {
         "cell_type": "code",
         "execution_count": 48,
         "metadata": {},
         "outputs": [
            {
               "name": "stdout",
               "output_type": "stream",
               "text": [
                  "             female       male\n",
                  "died      24.090909  79.652605\n",
                  "survived  75.909091  20.347395\n"
               ]
            }
         ],
         "source": [
            "x[\"female\"] = x[\"female\"]/total_females*100\n",
            "x[\"male\"] = x[\"male\"]/total_males*100\n",
            "print(x)"
         ]
      },
      {
         "cell_type": "code",
         "execution_count": 49,
         "metadata": {},
         "outputs": [
            {
               "data": {
                  "text/plain": [
                     "Text(0.5, 0, 'Living status')"
                  ]
               },
               "execution_count": 49,
               "metadata": {},
               "output_type": "execute_result"
            },
            {
               "data": {
                  "image/png": "[encoded data removed]",
                  "text/plain": [
                     "<Figure size 640x480 with 1 Axes>"
                  ]
               },
               "metadata": {},
               "output_type": "display_data"
            }
         ],
         "source": [
            "%matplotlib inline\n",
            "import matplotlib.pyplot as plt\n",
            "x.plot(kind='bar')\n",
            "plt.grid(True)\n",
            "plt.ylabel(\"Percentage\")\n",
            "plt.xlabel(\"Living status\")"
         ]
      },
      {
         "cell_type": "markdown",
         "metadata": {},
         "source": [
            "Surprisingly it is seen that almost 80% males died while almost 75% females survived"
         ]
      },
      {
         "cell_type": "markdown",
         "metadata": {},
         "source": [
            "#### based on age"
         ]
      },
      {
         "cell_type": "markdown",
         "metadata": {},
         "source": [
            "##### divide data according to age category"
         ]
      },
      {
         "cell_type": "code",
         "execution_count": 50,
         "metadata": {},
         "outputs": [
            {
               "data": {
                  "text/plain": [
                     "<Axes: >"
                  ]
               },
               "execution_count": 50,
               "metadata": {},
               "output_type": "execute_result"
            },
            {
               "data": {
                  "image/png": "[encoded data removed]",
                  "text/plain": [
                     "<Figure size 640x480 with 1 Axes>"
                  ]
               },
               "metadata": {},
               "output_type": "display_data"
            }
         ],
         "source": [
            "X_train[\"Age\"].hist(bins = 10)"
         ]
      },
      {
         "cell_type": "code",
         "execution_count": 51,
         "metadata": {},
         "outputs": [
            {
               "data": {
                  "text/plain": [
                     "<Axes: >"
                  ]
               },
               "execution_count": 51,
               "metadata": {},
               "output_type": "execute_result"
            },
            {
               "data": {
                  "image/png": "[encoded data removed]",
                  "text/plain": [
                     "<Figure size 640x480 with 1 Axes>"
                  ]
               },
               "metadata": {},
               "output_type": "display_data"
            }
         ],
         "source": [
            "X_train[\"age_category\"] = pd.cut(\n",
            "                                X_train[\"Age\"],\n",
            "                                bins=[0., 10., 20., 30., 40., 50., np.inf],\n",
            "                                labels=[\"0-10\", \"10-20\", \"20-30\", \"30-40\", \"40-50\", \"50-end\"]\n",
            "                                )\n",
            "X_train[\"age_category\"].hist()\n"
         ]
      },
      {
         "cell_type": "markdown",
         "metadata": {},
         "source": [
            "it is evident that the ship contained most of the people in age group 20-30 years"
         ]
      },
      {
         "cell_type": "code",
         "execution_count": 52,
         "metadata": {},
         "outputs": [
            {
               "name": "stderr",
               "output_type": "stream",
               "text": [
                  "C:\\Users\\dasas\\AppData\\Local\\Temp\\ipykernel_5756\\1017478552.py:1: FutureWarning: The default of observed=False is deprecated and will be changed to True in a future version of pandas. Pass observed=False to retain current behavior or observed=True to adopt the future default and silence this warning.\n",
                  "  x = X_train.groupby([\"age_category\", \"Survived\"]).size().unstack(fill_value=0)\n"
               ]
            },
            {
               "data": {
                  "text/html": [
                     "<div>\n",
                     "<style scoped>\n",
                     "    .dataframe tbody tr th:only-of-type {\n",
                     "        vertical-align: middle;\n",
                     "    }\n",
                     "\n",
                     "    .dataframe tbody tr th {\n",
                     "        vertical-align: top;\n",
                     "    }\n",
                     "\n",
                     "    .dataframe thead th {\n",
                     "        text-align: right;\n",
                     "    }\n",
                     "</style>\n",
                     "<table border=\"1\" class=\"dataframe\">\n",
                     "  <thead>\n",
                     "    <tr style=\"text-align: right;\">\n",
                     "      <th>Survived</th>\n",
                     "      <th>0.0</th>\n",
                     "      <th>1.0</th>\n",
                     "    </tr>\n",
                     "    <tr>\n",
                     "      <th>age_category</th>\n",
                     "      <th></th>\n",
                     "      <th></th>\n",
                     "    </tr>\n",
                     "  </thead>\n",
                     "  <tbody>\n",
                     "    <tr>\n",
                     "      <th>0-10</th>\n",
                     "      <td>17</td>\n",
                     "      <td>30</td>\n",
                     "    </tr>\n",
                     "    <tr>\n",
                     "      <th>10-20</th>\n",
                     "      <td>50</td>\n",
                     "      <td>31</td>\n",
                     "    </tr>\n",
                     "    <tr>\n",
                     "      <th>20-30</th>\n",
                     "      <td>182</td>\n",
                     "      <td>96</td>\n",
                     "    </tr>\n",
                     "    <tr>\n",
                     "      <th>30-40</th>\n",
                     "      <td>64</td>\n",
                     "      <td>54</td>\n",
                     "    </tr>\n",
                     "    <tr>\n",
                     "      <th>40-50</th>\n",
                     "      <td>33</td>\n",
                     "      <td>24</td>\n",
                     "    </tr>\n",
                     "    <tr>\n",
                     "      <th>50-end</th>\n",
                     "      <td>28</td>\n",
                     "      <td>14</td>\n",
                     "    </tr>\n",
                     "  </tbody>\n",
                     "</table>\n",
                     "</div>"
                  ],
                  "text/plain": [
                     "Survived      0.0  1.0\n",
                     "age_category          \n",
                     "0-10           17   30\n",
                     "10-20          50   31\n",
                     "20-30         182   96\n",
                     "30-40          64   54\n",
                     "40-50          33   24\n",
                     "50-end         28   14"
                  ]
               },
               "execution_count": 52,
               "metadata": {},
               "output_type": "execute_result"
            }
         ],
         "source": [
            "x = X_train.groupby([\"age_category\", \"Survived\"]).size().unstack(fill_value=0)\n",
            "# x.columns = ['female', 'male']\n",
            "# x.index = ['died', 'survived']\n",
            "x"
         ]
      },
      {
         "cell_type": "code",
         "execution_count": 53,
         "metadata": {},
         "outputs": [
            {
               "data": {
                  "image/png": "[encoded data removed]",
                  "text/plain": [
                     "<Figure size 640x480 with 1 Axes>"
                  ]
               },
               "metadata": {},
               "output_type": "display_data"
            }
         ],
         "source": [
            "x.plot(kind=\"bar\")\n",
            "plt.grid(True)"
         ]
      },
      {
         "cell_type": "code",
         "execution_count": 54,
         "metadata": {},
         "outputs": [
            {
               "data": {
                  "text/plain": [
                     "30"
                  ]
               },
               "execution_count": 54,
               "metadata": {},
               "output_type": "execute_result"
            }
         ],
         "source": [
            "x.iloc[0,1]"
         ]
      },
      {
         "cell_type": "markdown",
         "metadata": {},
         "source": [
            "##### survival or death percentage according to age category"
         ]
      },
      {
         "cell_type": "code",
         "execution_count": 55,
         "metadata": {},
         "outputs": [
            {
               "name": "stdout",
               "output_type": "stream",
               "text": [
                  "47\n",
                  "81\n",
                  "278\n",
                  "118\n",
                  "57\n",
                  "42\n"
               ]
            }
         ],
         "source": [
            "age_total_count = []\n",
            "for i in range(len(x)):\n",
            "    count = x.iloc[i].loc[0] + x.iloc[i].loc[1]\n",
            "    age_total_count.append(count)\n",
            "    # x.iloc[i].loc[0] = x.iloc[i].loc[0]/count*100\n",
            "    # x.iloc[i].loc[1] = x.iloc[i].loc[1]/count*100\n",
            "for i in age_total_count:\n",
            "    print(int(i))"
         ]
      },
      {
         "cell_type": "code",
         "execution_count": 56,
         "metadata": {},
         "outputs": [
            {
               "name": "stderr",
               "output_type": "stream",
               "text": [
                  "C:\\Users\\dasas\\AppData\\Local\\Temp\\ipykernel_5756\\1547325009.py:2: FutureWarning: Setting an item of incompatible dtype is deprecated and will raise an error in a future version of pandas. Value '36.17021276595745' has dtype incompatible with int64, please explicitly cast to a compatible dtype first.\n",
                  "  x.iloc[i, 0] = float(int(x.iloc[i, 0])/int(age_total_count[i]))*100\n",
                  "C:\\Users\\dasas\\AppData\\Local\\Temp\\ipykernel_5756\\1547325009.py:3: FutureWarning: Setting an item of incompatible dtype is deprecated and will raise an error in a future version of pandas. Value '63.829787234042556' has dtype incompatible with int64, please explicitly cast to a compatible dtype first.\n",
                  "  x.iloc[i, 1] = float(int(x.iloc[i, 1])/int(age_total_count[i]))*100\n"
               ]
            }
         ],
         "source": [
            "for i in range(len(x)):\n",
            "    x.iloc[i, 0] = float(int(x.iloc[i, 0])/int(age_total_count[i]))*100\n",
            "    x.iloc[i, 1] = float(int(x.iloc[i, 1])/int(age_total_count[i]))*100\n"
         ]
      },
      {
         "cell_type": "code",
         "execution_count": 57,
         "metadata": {},
         "outputs": [
            {
               "data": {
                  "text/html": [
                     "<div>\n",
                     "<style scoped>\n",
                     "    .dataframe tbody tr th:only-of-type {\n",
                     "        vertical-align: middle;\n",
                     "    }\n",
                     "\n",
                     "    .dataframe tbody tr th {\n",
                     "        vertical-align: top;\n",
                     "    }\n",
                     "\n",
                     "    .dataframe thead th {\n",
                     "        text-align: right;\n",
                     "    }\n",
                     "</style>\n",
                     "<table border=\"1\" class=\"dataframe\">\n",
                     "  <thead>\n",
                     "    <tr style=\"text-align: right;\">\n",
                     "      <th>Survived</th>\n",
                     "      <th>0.0</th>\n",
                     "      <th>1.0</th>\n",
                     "    </tr>\n",
                     "    <tr>\n",
                     "      <th>age_category</th>\n",
                     "      <th></th>\n",
                     "      <th></th>\n",
                     "    </tr>\n",
                     "  </thead>\n",
                     "  <tbody>\n",
                     "    <tr>\n",
                     "      <th>0-10</th>\n",
                     "      <td>36.170213</td>\n",
                     "      <td>63.829787</td>\n",
                     "    </tr>\n",
                     "    <tr>\n",
                     "      <th>10-20</th>\n",
                     "      <td>61.728395</td>\n",
                     "      <td>38.271605</td>\n",
                     "    </tr>\n",
                     "    <tr>\n",
                     "      <th>20-30</th>\n",
                     "      <td>65.467626</td>\n",
                     "      <td>34.532374</td>\n",
                     "    </tr>\n",
                     "    <tr>\n",
                     "      <th>30-40</th>\n",
                     "      <td>54.237288</td>\n",
                     "      <td>45.762712</td>\n",
                     "    </tr>\n",
                     "    <tr>\n",
                     "      <th>40-50</th>\n",
                     "      <td>57.894737</td>\n",
                     "      <td>42.105263</td>\n",
                     "    </tr>\n",
                     "    <tr>\n",
                     "      <th>50-end</th>\n",
                     "      <td>66.666667</td>\n",
                     "      <td>33.333333</td>\n",
                     "    </tr>\n",
                     "  </tbody>\n",
                     "</table>\n",
                     "</div>"
                  ],
                  "text/plain": [
                     "Survived            0.0        1.0\n",
                     "age_category                      \n",
                     "0-10          36.170213  63.829787\n",
                     "10-20         61.728395  38.271605\n",
                     "20-30         65.467626  34.532374\n",
                     "30-40         54.237288  45.762712\n",
                     "40-50         57.894737  42.105263\n",
                     "50-end        66.666667  33.333333"
                  ]
               },
               "execution_count": 57,
               "metadata": {},
               "output_type": "execute_result"
            }
         ],
         "source": [
            "x"
         ]
      },
      {
         "cell_type": "code",
         "execution_count": 58,
         "metadata": {},
         "outputs": [
            {
               "data": {
                  "text/plain": [
                     "Text(0, 0.5, 'Percentage')"
                  ]
               },
               "execution_count": 58,
               "metadata": {},
               "output_type": "execute_result"
            },
            {
               "data": {
                  "image/png": "[encoded data removed]",
                  "text/plain": [
                     "<Figure size 640x480 with 1 Axes>"
                  ]
               },
               "metadata": {},
               "output_type": "display_data"
            }
         ],
         "source": [
            "x.plot(kind=\"bar\")\n",
            "plt.grid(True)\n",
            "plt.ylabel(\"Percentage\")"
         ]
      },
      {
         "cell_type": "markdown",
         "metadata": {},
         "source": [
            "so it can clearly be concluded that children of age group 0 to 10 are the maximum to survive and the people within the age 50 till end are the maximum to die"
         ]
      },
      {
         "cell_type": "markdown",
         "metadata": {},
         "source": [
            "#### based on both sex and age group"
         ]
      },
      {
         "cell_type": "code",
         "execution_count": 59,
         "metadata": {},
         "outputs": [
            {
               "name": "stderr",
               "output_type": "stream",
               "text": [
                  "C:\\Users\\dasas\\AppData\\Local\\Temp\\ipykernel_5756\\3905749618.py:1: FutureWarning: The default of observed=False is deprecated and will be changed to True in a future version of pandas. Pass observed=False to retain current behavior or observed=True to adopt the future default and silence this warning.\n",
                  "  x = X_train.groupby([\"Sex\", \"Survived\", \"age_category\"]).size().unstack(fill_value=0)\n"
               ]
            },
            {
               "data": {
                  "text/html": [
                     "<div>\n",
                     "<style scoped>\n",
                     "    .dataframe tbody tr th:only-of-type {\n",
                     "        vertical-align: middle;\n",
                     "    }\n",
                     "\n",
                     "    .dataframe tbody tr th {\n",
                     "        vertical-align: top;\n",
                     "    }\n",
                     "\n",
                     "    .dataframe thead th {\n",
                     "        text-align: right;\n",
                     "    }\n",
                     "</style>\n",
                     "<table border=\"1\" class=\"dataframe\">\n",
                     "  <thead>\n",
                     "    <tr style=\"text-align: right;\">\n",
                     "      <th></th>\n",
                     "      <th>age_category</th>\n",
                     "      <th>0-10</th>\n",
                     "      <th>10-20</th>\n",
                     "      <th>20-30</th>\n",
                     "      <th>30-40</th>\n",
                     "      <th>40-50</th>\n",
                     "      <th>50-end</th>\n",
                     "    </tr>\n",
                     "    <tr>\n",
                     "      <th>Sex</th>\n",
                     "      <th>Survived</th>\n",
                     "      <th></th>\n",
                     "      <th></th>\n",
                     "      <th></th>\n",
                     "      <th></th>\n",
                     "      <th></th>\n",
                     "      <th></th>\n",
                     "    </tr>\n",
                     "  </thead>\n",
                     "  <tbody>\n",
                     "    <tr>\n",
                     "      <th rowspan=\"2\" valign=\"top\">0.0</th>\n",
                     "      <th>0.0</th>\n",
                     "      <td>6</td>\n",
                     "      <td>7</td>\n",
                     "      <td>27</td>\n",
                     "      <td>7</td>\n",
                     "      <td>6</td>\n",
                     "      <td>0</td>\n",
                     "    </tr>\n",
                     "    <tr>\n",
                     "      <th>1.0</th>\n",
                     "      <td>16</td>\n",
                     "      <td>24</td>\n",
                     "      <td>69</td>\n",
                     "      <td>35</td>\n",
                     "      <td>14</td>\n",
                     "      <td>9</td>\n",
                     "    </tr>\n",
                     "    <tr>\n",
                     "      <th rowspan=\"2\" valign=\"top\">1.0</th>\n",
                     "      <th>0.0</th>\n",
                     "      <td>11</td>\n",
                     "      <td>43</td>\n",
                     "      <td>155</td>\n",
                     "      <td>57</td>\n",
                     "      <td>27</td>\n",
                     "      <td>28</td>\n",
                     "    </tr>\n",
                     "    <tr>\n",
                     "      <th>1.0</th>\n",
                     "      <td>14</td>\n",
                     "      <td>7</td>\n",
                     "      <td>27</td>\n",
                     "      <td>19</td>\n",
                     "      <td>10</td>\n",
                     "      <td>5</td>\n",
                     "    </tr>\n",
                     "  </tbody>\n",
                     "</table>\n",
                     "</div>"
                  ],
                  "text/plain": [
                     "age_category  0-10  10-20  20-30  30-40  40-50  50-end\n",
                     "Sex Survived                                          \n",
                     "0.0 0.0          6      7     27      7      6       0\n",
                     "    1.0         16     24     69     35     14       9\n",
                     "1.0 0.0         11     43    155     57     27      28\n",
                     "    1.0         14      7     27     19     10       5"
                  ]
               },
               "execution_count": 59,
               "metadata": {},
               "output_type": "execute_result"
            }
         ],
         "source": [
            "x = X_train.groupby([\"Sex\", \"Survived\", \"age_category\"]).size().unstack(fill_value=0)\n",
            "# x.columns = [\"age_category\", \"Sex\", \"dead\", \"alive\"]\n",
            "x"
         ]
      },
      {
         "cell_type": "code",
         "execution_count": 60,
         "metadata": {},
         "outputs": [
            {
               "data": {
                  "text/plain": [
                     "array([[<Axes: title={'center': '0-10'}>,\n",
                     "        <Axes: title={'center': '10-20'}>],\n",
                     "       [<Axes: title={'center': '20-30'}>,\n",
                     "        <Axes: title={'center': '30-40'}>],\n",
                     "       [<Axes: title={'center': '40-50'}>,\n",
                     "        <Axes: title={'center': '50-end'}>]], dtype=object)"
                  ]
               },
               "execution_count": 60,
               "metadata": {},
               "output_type": "execute_result"
            },
            {
               "data": {
                  "image/png": "[encoded data removed]",
                  "text/plain": [
                     "<Figure size 640x480 with 6 Axes>"
                  ]
               },
               "metadata": {},
               "output_type": "display_data"
            }
         ],
         "source": [
            "x.hist()"
         ]
      },
      {
         "cell_type": "markdown",
         "metadata": {},
         "source": [
            "not so conclusive"
         ]
      },
      {
         "cell_type": "markdown",
         "metadata": {},
         "source": [
            "#### based on fare"
         ]
      },
      {
         "cell_type": "code",
         "execution_count": 61,
         "metadata": {},
         "outputs": [
            {
               "data": {
                  "image/png": "[encoded data removed]",
                  "text/plain": [
                     "<Figure size 640x480 with 1 Axes>"
                  ]
               },
               "metadata": {},
               "output_type": "display_data"
            }
         ],
         "source": [
            "plt.scatter(X_train[\"Fare\"], X_train[\"Survived\"],  alpha=0.4)\n",
            "plt.xlabel(\"Fare\")\n",
            "plt.ylabel(\"Survived\")\n",
            "plt.grid(True)"
         ]
      },
      {
         "cell_type": "code",
         "execution_count": 62,
         "metadata": {},
         "outputs": [
            {
               "data": {
                  "text/plain": [
                     "<Axes: >"
                  ]
               },
               "execution_count": 62,
               "metadata": {},
               "output_type": "execute_result"
            },
            {
               "data": {
                  "image/png": "[encoded data removed]",
                  "text/plain": [
                     "<Figure size 640x480 with 1 Axes>"
                  ]
               },
               "metadata": {},
               "output_type": "display_data"
            }
         ],
         "source": [
            "X_train[\"Fare\"].hist(bins = 50)"
         ]
      },
      {
         "cell_type": "markdown",
         "metadata": {},
         "source": [
            "not so conclusive"
         ]
      },
      {
         "cell_type": "markdown",
         "metadata": {},
         "source": [
            "#### Drop the age category column as it was only added for our convenience"
         ]
      },
      {
         "cell_type": "code",
         "execution_count": 63,
         "metadata": {},
         "outputs": [],
         "source": [
            "X_train.drop(columns=[\"age_category\"], inplace=True)"
         ]
      },
      {
         "cell_type": "markdown",
         "metadata": {},
         "source": [
            "### Preparing the pipeline for using in test data"
         ]
      },
      {
         "cell_type": "code",
         "execution_count": 64,
         "metadata": {},
         "outputs": [
            {
               "data": {
                  "text/html": [
                     "<div>\n",
                     "<style scoped>\n",
                     "    .dataframe tbody tr th:only-of-type {\n",
                     "        vertical-align: middle;\n",
                     "    }\n",
                     "\n",
                     "    .dataframe tbody tr th {\n",
                     "        vertical-align: top;\n",
                     "    }\n",
                     "\n",
                     "    .dataframe thead th {\n",
                     "        text-align: right;\n",
                     "    }\n",
                     "</style>\n",
                     "<table border=\"1\" class=\"dataframe\">\n",
                     "  <thead>\n",
                     "    <tr style=\"text-align: right;\">\n",
                     "      <th></th>\n",
                     "      <th>PassengerId</th>\n",
                     "      <th>Pclass</th>\n",
                     "      <th>Age</th>\n",
                     "      <th>SibSp</th>\n",
                     "      <th>Parch</th>\n",
                     "      <th>Fare</th>\n",
                     "      <th>Sex</th>\n",
                     "      <th>Embarked</th>\n",
                     "    </tr>\n",
                     "  </thead>\n",
                     "  <tbody>\n",
                     "    <tr>\n",
                     "      <th>0</th>\n",
                     "      <td>1</td>\n",
                     "      <td>3</td>\n",
                     "      <td>22.0</td>\n",
                     "      <td>1</td>\n",
                     "      <td>0</td>\n",
                     "      <td>7.2500</td>\n",
                     "      <td>1.0</td>\n",
                     "      <td>S</td>\n",
                     "    </tr>\n",
                     "    <tr>\n",
                     "      <th>1</th>\n",
                     "      <td>2</td>\n",
                     "      <td>1</td>\n",
                     "      <td>38.0</td>\n",
                     "      <td>1</td>\n",
                     "      <td>0</td>\n",
                     "      <td>71.2833</td>\n",
                     "      <td>0.0</td>\n",
                     "      <td>C</td>\n",
                     "    </tr>\n",
                     "    <tr>\n",
                     "      <th>2</th>\n",
                     "      <td>3</td>\n",
                     "      <td>3</td>\n",
                     "      <td>26.0</td>\n",
                     "      <td>0</td>\n",
                     "      <td>0</td>\n",
                     "      <td>7.9250</td>\n",
                     "      <td>0.0</td>\n",
                     "      <td>S</td>\n",
                     "    </tr>\n",
                     "    <tr>\n",
                     "      <th>3</th>\n",
                     "      <td>4</td>\n",
                     "      <td>1</td>\n",
                     "      <td>35.0</td>\n",
                     "      <td>1</td>\n",
                     "      <td>0</td>\n",
                     "      <td>53.1000</td>\n",
                     "      <td>0.0</td>\n",
                     "      <td>S</td>\n",
                     "    </tr>\n",
                     "    <tr>\n",
                     "      <th>4</th>\n",
                     "      <td>5</td>\n",
                     "      <td>3</td>\n",
                     "      <td>35.0</td>\n",
                     "      <td>0</td>\n",
                     "      <td>0</td>\n",
                     "      <td>8.0500</td>\n",
                     "      <td>1.0</td>\n",
                     "      <td>S</td>\n",
                     "    </tr>\n",
                     "    <tr>\n",
                     "      <th>...</th>\n",
                     "      <td>...</td>\n",
                     "      <td>...</td>\n",
                     "      <td>...</td>\n",
                     "      <td>...</td>\n",
                     "      <td>...</td>\n",
                     "      <td>...</td>\n",
                     "      <td>...</td>\n",
                     "      <td>...</td>\n",
                     "    </tr>\n",
                     "    <tr>\n",
                     "      <th>886</th>\n",
                     "      <td>887</td>\n",
                     "      <td>2</td>\n",
                     "      <td>27.0</td>\n",
                     "      <td>0</td>\n",
                     "      <td>0</td>\n",
                     "      <td>13.0000</td>\n",
                     "      <td>1.0</td>\n",
                     "      <td>S</td>\n",
                     "    </tr>\n",
                     "    <tr>\n",
                     "      <th>887</th>\n",
                     "      <td>888</td>\n",
                     "      <td>1</td>\n",
                     "      <td>19.0</td>\n",
                     "      <td>0</td>\n",
                     "      <td>0</td>\n",
                     "      <td>30.0000</td>\n",
                     "      <td>0.0</td>\n",
                     "      <td>S</td>\n",
                     "    </tr>\n",
                     "    <tr>\n",
                     "      <th>888</th>\n",
                     "      <td>889</td>\n",
                     "      <td>3</td>\n",
                     "      <td>NaN</td>\n",
                     "      <td>1</td>\n",
                     "      <td>2</td>\n",
                     "      <td>23.4500</td>\n",
                     "      <td>0.0</td>\n",
                     "      <td>S</td>\n",
                     "    </tr>\n",
                     "    <tr>\n",
                     "      <th>889</th>\n",
                     "      <td>890</td>\n",
                     "      <td>1</td>\n",
                     "      <td>26.0</td>\n",
                     "      <td>0</td>\n",
                     "      <td>0</td>\n",
                     "      <td>30.0000</td>\n",
                     "      <td>1.0</td>\n",
                     "      <td>C</td>\n",
                     "    </tr>\n",
                     "    <tr>\n",
                     "      <th>890</th>\n",
                     "      <td>891</td>\n",
                     "      <td>3</td>\n",
                     "      <td>32.0</td>\n",
                     "      <td>0</td>\n",
                     "      <td>0</td>\n",
                     "      <td>7.7500</td>\n",
                     "      <td>1.0</td>\n",
                     "      <td>Q</td>\n",
                     "    </tr>\n",
                     "  </tbody>\n",
                     "</table>\n",
                     "<p>891 rows × 8 columns</p>\n",
                     "</div>"
                  ],
                  "text/plain": [
                     "     PassengerId  Pclass   Age  SibSp  Parch     Fare  Sex Embarked\n",
                     "0              1       3  22.0      1      0   7.2500  1.0        S\n",
                     "1              2       1  38.0      1      0  71.2833  0.0        C\n",
                     "2              3       3  26.0      0      0   7.9250  0.0        S\n",
                     "3              4       1  35.0      1      0  53.1000  0.0        S\n",
                     "4              5       3  35.0      0      0   8.0500  1.0        S\n",
                     "..           ...     ...   ...    ...    ...      ...  ...      ...\n",
                     "886          887       2  27.0      0      0  13.0000  1.0        S\n",
                     "887          888       1  19.0      0      0  30.0000  0.0        S\n",
                     "888          889       3   NaN      1      2  23.4500  0.0        S\n",
                     "889          890       1  26.0      0      0  30.0000  1.0        C\n",
                     "890          891       3  32.0      0      0   7.7500  1.0        Q\n",
                     "\n",
                     "[891 rows x 8 columns]"
                  ]
               },
               "execution_count": 64,
               "metadata": {},
               "output_type": "execute_result"
            }
         ],
         "source": [
            "X_train_pipeline.drop(columns=[\"Survived\"], inplace=True)\n",
            "X_train_pipeline"
         ]
      },
      {
         "cell_type": "code",
         "execution_count": 65,
         "metadata": {},
         "outputs": [],
         "source": [
            "from sklearn.pipeline import Pipeline\n",
            "from sklearn.preprocessing import StandardScaler\n",
            "\n",
            "num_pipeline = Pipeline([\n",
            "    (\"imputer\", SimpleImputer(strategy=\"median\")),\n",
            "    (\"std_scaler\", StandardScaler()),\n",
            "])"
         ]
      },
      {
         "cell_type": "code",
         "execution_count": 66,
         "metadata": {},
         "outputs": [],
         "source": [
            "from sklearn.compose import ColumnTransformer\n",
            "\n",
            "try:\n",
            "    full_pipeline = joblib.load(\"full_pipeline.joblib\")\n",
            "except Exception as e:\n",
            "    full_pipeline = ColumnTransformer([\n",
            "        (\"num\", num_pipeline, list(X_train_pipeline.drop(columns=[\"Embarked\"]))),\n",
            "        (\"cat\", OneHotEncoder(), [\"Embarked\"])\n",
            "    ])\n",
            "    full_pipeline_tr_data = full_pipeline.fit_transform(X_train_pipeline)\n",
            "    # pd.DataFrame(full_pipeline_tr_data)\n",
            "    joblib.dump(full_pipeline, \"full_pipeline.joblib\")"
         ]
      },
      {
         "cell_type": "markdown",
         "metadata": {},
         "source": [
            "### Model Training"
         ]
      },
      {
         "cell_type": "markdown",
         "metadata": {},
         "source": [
            "#### Dropping the survived column from both the train and test dataset"
         ]
      },
      {
         "cell_type": "code",
         "execution_count": 67,
         "metadata": {},
         "outputs": [],
         "source": [
            "X_test_copy = X_test.copy()\n",
            "X_train.drop(columns=[\"Survived\"], inplace=True)\n",
            "X_test.drop(columns=[\"Survived\"], inplace=True)"
         ]
      },
      {
         "cell_type": "markdown",
         "metadata": {},
         "source": [
            "#### Stochastic Gradient Descent classifier model"
         ]
      },
      {
         "cell_type": "markdown",
         "metadata": {},
         "source": [
            "##### Training"
         ]
      },
      {
         "cell_type": "code",
         "execution_count": 68,
         "metadata": {},
         "outputs": [
            {
               "data": {
                  "text/html": [
                     "<style>#sk-container-id-1 {\n",
                     "  /* Definition of color scheme common for light and dark mode */\n",
                     "  --sklearn-color-text: black;\n",
                     "  --sklearn-color-line: gray;\n",
                     "  /* Definition of color scheme for unfitted estimators */\n",
                     "  --sklearn-color-unfitted-level-0: #fff5e6;\n",
                     "  --sklearn-color-unfitted-level-1: #f6e4d2;\n",
                     "  --sklearn-color-unfitted-level-2: #ffe0b3;\n",
                     "  --sklearn-color-unfitted-level-3: chocolate;\n",
                     "  /* Definition of color scheme for fitted estimators */\n",
                     "  --sklearn-color-fitted-level-0: #f0f8ff;\n",
                     "  --sklearn-color-fitted-level-1: #d4ebff;\n",
                     "  --sklearn-color-fitted-level-2: #b3dbfd;\n",
                     "  --sklearn-color-fitted-level-3: cornflowerblue;\n",
                     "\n",
                     "  /* Specific color for light theme */\n",
                     "  --sklearn-color-text-on-default-background: var(--sg-text-color, var(--theme-code-foreground, var(--jp-content-font-color1, black)));\n",
                     "  --sklearn-color-background: var(--sg-background-color, var(--theme-background, var(--jp-layout-color0, white)));\n",
                     "  --sklearn-color-border-box: var(--sg-text-color, var(--theme-code-foreground, var(--jp-content-font-color1, black)));\n",
                     "  --sklearn-color-icon: #696969;\n",
                     "\n",
                     "  @media (prefers-color-scheme: dark) {\n",
                     "    /* Redefinition of color scheme for dark theme */\n",
                     "    --sklearn-color-text-on-default-background: var(--sg-text-color, var(--theme-code-foreground, var(--jp-content-font-color1, white)));\n",
                     "    --sklearn-color-background: var(--sg-background-color, var(--theme-background, var(--jp-layout-color0, #111)));\n",
                     "    --sklearn-color-border-box: var(--sg-text-color, var(--theme-code-foreground, var(--jp-content-font-color1, white)));\n",
                     "    --sklearn-color-icon: #878787;\n",
                     "  }\n",
                     "}\n",
                     "\n",
                     "#sk-container-id-1 {\n",
                     "  color: var(--sklearn-color-text);\n",
                     "}\n",
                     "\n",
                     "#sk-container-id-1 pre {\n",
                     "  padding: 0;\n",
                     "}\n",
                     "\n",
                     "#sk-container-id-1 input.sk-hidden--visually {\n",
                     "  border: 0;\n",
                     "  clip: rect(1px 1px 1px 1px);\n",
                     "  clip: rect(1px, 1px, 1px, 1px);\n",
                     "  height: 1px;\n",
                     "  margin: -1px;\n",
                     "  overflow: hidden;\n",
                     "  padding: 0;\n",
                     "  position: absolute;\n",
                     "  width: 1px;\n",
                     "}\n",
                     "\n",
                     "#sk-container-id-1 div.sk-dashed-wrapped {\n",
                     "  border: 1px dashed var(--sklearn-color-line);\n",
                     "  margin: 0 0.4em 0.5em 0.4em;\n",
                     "  box-sizing: border-box;\n",
                     "  padding-bottom: 0.4em;\n",
                     "  background-color: var(--sklearn-color-background);\n",
                     "}\n",
                     "\n",
                     "#sk-container-id-1 div.sk-container {\n",
                     "  /* jupyter's `normalize.less` sets `[hidden] { display: none; }`\n",
                     "     but bootstrap.min.css set `[hidden] { display: none !important; }`\n",
                     "     so we also need the `!important` here to be able to override the\n",
                     "     default hidden behavior on the sphinx rendered scikit-learn.org.\n",
                     "     See: https://github.com/scikit-learn/scikit-learn/issues/21755 */\n",
                     "  display: inline-block !important;\n",
                     "  position: relative;\n",
                     "}\n",
                     "\n",
                     "#sk-container-id-1 div.sk-text-repr-fallback {\n",
                     "  display: none;\n",
                     "}\n",
                     "\n",
                     "div.sk-parallel-item,\n",
                     "div.sk-serial,\n",
                     "div.sk-item {\n",
                     "  /* draw centered vertical line to link estimators */\n",
                     "  background-image: linear-gradient(var(--sklearn-color-text-on-default-background), var(--sklearn-color-text-on-default-background));\n",
                     "  background-size: 2px 100%;\n",
                     "  background-repeat: no-repeat;\n",
                     "  background-position: center center;\n",
                     "}\n",
                     "\n",
                     "/* Parallel-specific style estimator block */\n",
                     "\n",
                     "#sk-container-id-1 div.sk-parallel-item::after {\n",
                     "  content: \"\";\n",
                     "  width: 100%;\n",
                     "  border-bottom: 2px solid var(--sklearn-color-text-on-default-background);\n",
                     "  flex-grow: 1;\n",
                     "}\n",
                     "\n",
                     "#sk-container-id-1 div.sk-parallel {\n",
                     "  display: flex;\n",
                     "  align-items: stretch;\n",
                     "  justify-content: center;\n",
                     "  background-color: var(--sklearn-color-background);\n",
                     "  position: relative;\n",
                     "}\n",
                     "\n",
                     "#sk-container-id-1 div.sk-parallel-item {\n",
                     "  display: flex;\n",
                     "  flex-direction: column;\n",
                     "}\n",
                     "\n",
                     "#sk-container-id-1 div.sk-parallel-item:first-child::after {\n",
                     "  align-self: flex-end;\n",
                     "  width: 50%;\n",
                     "}\n",
                     "\n",
                     "#sk-container-id-1 div.sk-parallel-item:last-child::after {\n",
                     "  align-self: flex-start;\n",
                     "  width: 50%;\n",
                     "}\n",
                     "\n",
                     "#sk-container-id-1 div.sk-parallel-item:only-child::after {\n",
                     "  width: 0;\n",
                     "}\n",
                     "\n",
                     "/* Serial-specific style estimator block */\n",
                     "\n",
                     "#sk-container-id-1 div.sk-serial {\n",
                     "  display: flex;\n",
                     "  flex-direction: column;\n",
                     "  align-items: center;\n",
                     "  background-color: var(--sklearn-color-background);\n",
                     "  padding-right: 1em;\n",
                     "  padding-left: 1em;\n",
                     "}\n",
                     "\n",
                     "\n",
                     "/* Toggleable style: style used for estimator/Pipeline/ColumnTransformer box that is\n",
                     "clickable and can be expanded/collapsed.\n",
                     "- Pipeline and ColumnTransformer use this feature and define the default style\n",
                     "- Estimators will overwrite some part of the style using the `sk-estimator` class\n",
                     "*/\n",
                     "\n",
                     "/* Pipeline and ColumnTransformer style (default) */\n",
                     "\n",
                     "#sk-container-id-1 div.sk-toggleable {\n",
                     "  /* Default theme specific background. It is overwritten whether we have a\n",
                     "  specific estimator or a Pipeline/ColumnTransformer */\n",
                     "  background-color: var(--sklearn-color-background);\n",
                     "}\n",
                     "\n",
                     "/* Toggleable label */\n",
                     "#sk-container-id-1 label.sk-toggleable__label {\n",
                     "  cursor: pointer;\n",
                     "  display: block;\n",
                     "  width: 100%;\n",
                     "  margin-bottom: 0;\n",
                     "  padding: 0.5em;\n",
                     "  box-sizing: border-box;\n",
                     "  text-align: center;\n",
                     "}\n",
                     "\n",
                     "#sk-container-id-1 label.sk-toggleable__label-arrow:before {\n",
                     "  /* Arrow on the left of the label */\n",
                     "  content: \"▸\";\n",
                     "  float: left;\n",
                     "  margin-right: 0.25em;\n",
                     "  color: var(--sklearn-color-icon);\n",
                     "}\n",
                     "\n",
                     "#sk-container-id-1 label.sk-toggleable__label-arrow:hover:before {\n",
                     "  color: var(--sklearn-color-text);\n",
                     "}\n",
                     "\n",
                     "/* Toggleable content - dropdown */\n",
                     "\n",
                     "#sk-container-id-1 div.sk-toggleable__content {\n",
                     "  max-height: 0;\n",
                     "  max-width: 0;\n",
                     "  overflow: hidden;\n",
                     "  text-align: left;\n",
                     "  /* unfitted */\n",
                     "  background-color: var(--sklearn-color-unfitted-level-0);\n",
                     "}\n",
                     "\n",
                     "#sk-container-id-1 div.sk-toggleable__content.fitted {\n",
                     "  /* fitted */\n",
                     "  background-color: var(--sklearn-color-fitted-level-0);\n",
                     "}\n",
                     "\n",
                     "#sk-container-id-1 div.sk-toggleable__content pre {\n",
                     "  margin: 0.2em;\n",
                     "  border-radius: 0.25em;\n",
                     "  color: var(--sklearn-color-text);\n",
                     "  /* unfitted */\n",
                     "  background-color: var(--sklearn-color-unfitted-level-0);\n",
                     "}\n",
                     "\n",
                     "#sk-container-id-1 div.sk-toggleable__content.fitted pre {\n",
                     "  /* unfitted */\n",
                     "  background-color: var(--sklearn-color-fitted-level-0);\n",
                     "}\n",
                     "\n",
                     "#sk-container-id-1 input.sk-toggleable__control:checked~div.sk-toggleable__content {\n",
                     "  /* Expand drop-down */\n",
                     "  max-height: 200px;\n",
                     "  max-width: 100%;\n",
                     "  overflow: auto;\n",
                     "}\n",
                     "\n",
                     "#sk-container-id-1 input.sk-toggleable__control:checked~label.sk-toggleable__label-arrow:before {\n",
                     "  content: \"▾\";\n",
                     "}\n",
                     "\n",
                     "/* Pipeline/ColumnTransformer-specific style */\n",
                     "\n",
                     "#sk-container-id-1 div.sk-label input.sk-toggleable__control:checked~label.sk-toggleable__label {\n",
                     "  color: var(--sklearn-color-text);\n",
                     "  background-color: var(--sklearn-color-unfitted-level-2);\n",
                     "}\n",
                     "\n",
                     "#sk-container-id-1 div.sk-label.fitted input.sk-toggleable__control:checked~label.sk-toggleable__label {\n",
                     "  background-color: var(--sklearn-color-fitted-level-2);\n",
                     "}\n",
                     "\n",
                     "/* Estimator-specific style */\n",
                     "\n",
                     "/* Colorize estimator box */\n",
                     "#sk-container-id-1 div.sk-estimator input.sk-toggleable__control:checked~label.sk-toggleable__label {\n",
                     "  /* unfitted */\n",
                     "  background-color: var(--sklearn-color-unfitted-level-2);\n",
                     "}\n",
                     "\n",
                     "#sk-container-id-1 div.sk-estimator.fitted input.sk-toggleable__control:checked~label.sk-toggleable__label {\n",
                     "  /* fitted */\n",
                     "  background-color: var(--sklearn-color-fitted-level-2);\n",
                     "}\n",
                     "\n",
                     "#sk-container-id-1 div.sk-label label.sk-toggleable__label,\n",
                     "#sk-container-id-1 div.sk-label label {\n",
                     "  /* The background is the default theme color */\n",
                     "  color: var(--sklearn-color-text-on-default-background);\n",
                     "}\n",
                     "\n",
                     "/* On hover, darken the color of the background */\n",
                     "#sk-container-id-1 div.sk-label:hover label.sk-toggleable__label {\n",
                     "  color: var(--sklearn-color-text);\n",
                     "  background-color: var(--sklearn-color-unfitted-level-2);\n",
                     "}\n",
                     "\n",
                     "/* Label box, darken color on hover, fitted */\n",
                     "#sk-container-id-1 div.sk-label.fitted:hover label.sk-toggleable__label.fitted {\n",
                     "  color: var(--sklearn-color-text);\n",
                     "  background-color: var(--sklearn-color-fitted-level-2);\n",
                     "}\n",
                     "\n",
                     "/* Estimator label */\n",
                     "\n",
                     "#sk-container-id-1 div.sk-label label {\n",
                     "  font-family: monospace;\n",
                     "  font-weight: bold;\n",
                     "  display: inline-block;\n",
                     "  line-height: 1.2em;\n",
                     "}\n",
                     "\n",
                     "#sk-container-id-1 div.sk-label-container {\n",
                     "  text-align: center;\n",
                     "}\n",
                     "\n",
                     "/* Estimator-specific */\n",
                     "#sk-container-id-1 div.sk-estimator {\n",
                     "  font-family: monospace;\n",
                     "  border: 1px dotted var(--sklearn-color-border-box);\n",
                     "  border-radius: 0.25em;\n",
                     "  box-sizing: border-box;\n",
                     "  margin-bottom: 0.5em;\n",
                     "  /* unfitted */\n",
                     "  background-color: var(--sklearn-color-unfitted-level-0);\n",
                     "}\n",
                     "\n",
                     "#sk-container-id-1 div.sk-estimator.fitted {\n",
                     "  /* fitted */\n",
                     "  background-color: var(--sklearn-color-fitted-level-0);\n",
                     "}\n",
                     "\n",
                     "/* on hover */\n",
                     "#sk-container-id-1 div.sk-estimator:hover {\n",
                     "  /* unfitted */\n",
                     "  background-color: var(--sklearn-color-unfitted-level-2);\n",
                     "}\n",
                     "\n",
                     "#sk-container-id-1 div.sk-estimator.fitted:hover {\n",
                     "  /* fitted */\n",
                     "  background-color: var(--sklearn-color-fitted-level-2);\n",
                     "}\n",
                     "\n",
                     "/* Specification for estimator info (e.g. \"i\" and \"?\") */\n",
                     "\n",
                     "/* Common style for \"i\" and \"?\" */\n",
                     "\n",
                     ".sk-estimator-doc-link,\n",
                     "a:link.sk-estimator-doc-link,\n",
                     "a:visited.sk-estimator-doc-link {\n",
                     "  float: right;\n",
                     "  font-size: smaller;\n",
                     "  line-height: 1em;\n",
                     "  font-family: monospace;\n",
                     "  background-color: var(--sklearn-color-background);\n",
                     "  border-radius: 1em;\n",
                     "  height: 1em;\n",
                     "  width: 1em;\n",
                     "  text-decoration: none !important;\n",
                     "  margin-left: 1ex;\n",
                     "  /* unfitted */\n",
                     "  border: var(--sklearn-color-unfitted-level-1) 1pt solid;\n",
                     "  color: var(--sklearn-color-unfitted-level-1);\n",
                     "}\n",
                     "\n",
                     ".sk-estimator-doc-link.fitted,\n",
                     "a:link.sk-estimator-doc-link.fitted,\n",
                     "a:visited.sk-estimator-doc-link.fitted {\n",
                     "  /* fitted */\n",
                     "  border: var(--sklearn-color-fitted-level-1) 1pt solid;\n",
                     "  color: var(--sklearn-color-fitted-level-1);\n",
                     "}\n",
                     "\n",
                     "/* On hover */\n",
                     "div.sk-estimator:hover .sk-estimator-doc-link:hover,\n",
                     ".sk-estimator-doc-link:hover,\n",
                     "div.sk-label-container:hover .sk-estimator-doc-link:hover,\n",
                     ".sk-estimator-doc-link:hover {\n",
                     "  /* unfitted */\n",
                     "  background-color: var(--sklearn-color-unfitted-level-3);\n",
                     "  color: var(--sklearn-color-background);\n",
                     "  text-decoration: none;\n",
                     "}\n",
                     "\n",
                     "div.sk-estimator.fitted:hover .sk-estimator-doc-link.fitted:hover,\n",
                     ".sk-estimator-doc-link.fitted:hover,\n",
                     "div.sk-label-container:hover .sk-estimator-doc-link.fitted:hover,\n",
                     ".sk-estimator-doc-link.fitted:hover {\n",
                     "  /* fitted */\n",
                     "  background-color: var(--sklearn-color-fitted-level-3);\n",
                     "  color: var(--sklearn-color-background);\n",
                     "  text-decoration: none;\n",
                     "}\n",
                     "\n",
                     "/* Span, style for the box shown on hovering the info icon */\n",
                     ".sk-estimator-doc-link span {\n",
                     "  display: none;\n",
                     "  z-index: 9999;\n",
                     "  position: relative;\n",
                     "  font-weight: normal;\n",
                     "  right: .2ex;\n",
                     "  padding: .5ex;\n",
                     "  margin: .5ex;\n",
                     "  width: min-content;\n",
                     "  min-width: 20ex;\n",
                     "  max-width: 50ex;\n",
                     "  color: var(--sklearn-color-text);\n",
                     "  box-shadow: 2pt 2pt 4pt #999;\n",
                     "  /* unfitted */\n",
                     "  background: var(--sklearn-color-unfitted-level-0);\n",
                     "  border: .5pt solid var(--sklearn-color-unfitted-level-3);\n",
                     "}\n",
                     "\n",
                     ".sk-estimator-doc-link.fitted span {\n",
                     "  /* fitted */\n",
                     "  background: var(--sklearn-color-fitted-level-0);\n",
                     "  border: var(--sklearn-color-fitted-level-3);\n",
                     "}\n",
                     "\n",
                     ".sk-estimator-doc-link:hover span {\n",
                     "  display: block;\n",
                     "}\n",
                     "\n",
                     "/* \"?\"-specific style due to the `<a>` HTML tag */\n",
                     "\n",
                     "#sk-container-id-1 a.estimator_doc_link {\n",
                     "  float: right;\n",
                     "  font-size: 1rem;\n",
                     "  line-height: 1em;\n",
                     "  font-family: monospace;\n",
                     "  background-color: var(--sklearn-color-background);\n",
                     "  border-radius: 1rem;\n",
                     "  height: 1rem;\n",
                     "  width: 1rem;\n",
                     "  text-decoration: none;\n",
                     "  /* unfitted */\n",
                     "  color: var(--sklearn-color-unfitted-level-1);\n",
                     "  border: var(--sklearn-color-unfitted-level-1) 1pt solid;\n",
                     "}\n",
                     "\n",
                     "#sk-container-id-1 a.estimator_doc_link.fitted {\n",
                     "  /* fitted */\n",
                     "  border: var(--sklearn-color-fitted-level-1) 1pt solid;\n",
                     "  color: var(--sklearn-color-fitted-level-1);\n",
                     "}\n",
                     "\n",
                     "/* On hover */\n",
                     "#sk-container-id-1 a.estimator_doc_link:hover {\n",
                     "  /* unfitted */\n",
                     "  background-color: var(--sklearn-color-unfitted-level-3);\n",
                     "  color: var(--sklearn-color-background);\n",
                     "  text-decoration: none;\n",
                     "}\n",
                     "\n",
                     "#sk-container-id-1 a.estimator_doc_link.fitted:hover {\n",
                     "  /* fitted */\n",
                     "  background-color: var(--sklearn-color-fitted-level-3);\n",
                     "}\n",
                     "</style><div id=\"sk-container-id-1\" class=\"sk-top-container\"><div class=\"sk-text-repr-fallback\"><pre>SGDClassifier(random_state=42)</pre><b>In a Jupyter environment, please rerun this cell to show the HTML representation or trust the notebook. <br />On GitHub, the HTML representation is unable to render, please try loading this page with nbviewer.org.</b></div><div class=\"sk-container\" hidden><div class=\"sk-item\"><div class=\"sk-estimator fitted sk-toggleable\"><input class=\"sk-toggleable__control sk-hidden--visually\" id=\"sk-estimator-id-1\" type=\"checkbox\" checked><label for=\"sk-estimator-id-1\" class=\"sk-toggleable__label fitted sk-toggleable__label-arrow fitted\">&nbsp;&nbsp;SGDClassifier<a class=\"sk-estimator-doc-link fitted\" rel=\"noreferrer\" target=\"_blank\" href=\"https://scikit-learn.org/1.5/modules/generated/sklearn.linear_model.SGDClassifier.html\">?<span>Documentation for SGDClassifier</span></a><span class=\"sk-estimator-doc-link fitted\">i<span>Fitted</span></span></label><div class=\"sk-toggleable__content fitted\"><pre>SGDClassifier(random_state=42)</pre></div> </div></div></div></div>"
                  ],
                  "text/plain": [
                     "SGDClassifier(random_state=42)"
                  ]
               },
               "execution_count": 68,
               "metadata": {},
               "output_type": "execute_result"
            }
         ],
         "source": [
            "from sklearn.linear_model import SGDClassifier\n",
            "\n",
            "sgd_classifier = SGDClassifier(random_state=42)\n",
            "sgd_classifier.fit(X_train.values, y_train.values)"
         ]
      },
      {
         "cell_type": "code",
         "execution_count": 69,
         "metadata": {},
         "outputs": [
            {
               "data": {
                  "text/plain": [
                     "array([[98.    ,  1.    , 23.    ,  0.    ,  1.    , 63.3583,  1.    ,\n",
                     "         1.    ,  0.    ,  0.    ]])"
                  ]
               },
               "execution_count": 69,
               "metadata": {},
               "output_type": "execute_result"
            }
         ],
         "source": [
            "X_train.values[0].reshape(1, -1)"
         ]
      },
      {
         "cell_type": "code",
         "execution_count": 70,
         "metadata": {},
         "outputs": [
            {
               "data": {
                  "text/plain": [
                     "1"
                  ]
               },
               "execution_count": 70,
               "metadata": {},
               "output_type": "execute_result"
            }
         ],
         "source": [
            "sgd_classifier.predict(X_train.values[120].reshape(1, -1))[0]"
         ]
      },
      {
         "cell_type": "code",
         "execution_count": 71,
         "metadata": {},
         "outputs": [
            {
               "name": "stdout",
               "output_type": "stream",
               "text": [
                  "1\n"
               ]
            }
         ],
         "source": [
            "print(y_train.iloc[0])"
         ]
      },
      {
         "cell_type": "markdown",
         "metadata": {},
         "source": [
            "##### Testing the model on various performance measurement parameters"
         ]
      },
      {
         "cell_type": "code",
         "execution_count": 72,
         "metadata": {},
         "outputs": [
            {
               "data": {
                  "text/plain": [
                     "array([0.63942308, 0.62019231, 0.42028986])"
                  ]
               },
               "execution_count": 72,
               "metadata": {},
               "output_type": "execute_result"
            }
         ],
         "source": [
            "from sklearn.model_selection import cross_val_score\n",
            "\n",
            "cross_val_score(sgd_classifier, X_train.values, y_train.values, scoring=\"accuracy\", cv=3)"
         ]
      },
      {
         "cell_type": "code",
         "execution_count": 73,
         "metadata": {},
         "outputs": [
            {
               "data": {
                  "text/plain": [
                     "array([0.15662651, 0.08433735, 0.98795181])"
                  ]
               },
               "execution_count": 73,
               "metadata": {},
               "output_type": "execute_result"
            }
         ],
         "source": [
            "cross_val_score(sgd_classifier, X_train.values, y_train.values, scoring=\"recall\", cv=3)"
         ]
      },
      {
         "cell_type": "code",
         "execution_count": 74,
         "metadata": {},
         "outputs": [
            {
               "data": {
                  "text/plain": [
                     "array([0.72222222, 0.7       , 0.4079602 ])"
                  ]
               },
               "execution_count": 74,
               "metadata": {},
               "output_type": "execute_result"
            }
         ],
         "source": [
            "cross_val_score(sgd_classifier, X_train.values, y_train.values, scoring=\"precision\", cv=3)"
         ]
      },
      {
         "cell_type": "code",
         "execution_count": 75,
         "metadata": {},
         "outputs": [
            {
               "data": {
                  "text/plain": [
                     "array([0.25742574, 0.15053763, 0.57746479])"
                  ]
               },
               "execution_count": 75,
               "metadata": {},
               "output_type": "execute_result"
            }
         ],
         "source": [
            "cross_val_score(sgd_classifier, X_train.values, y_train.values, scoring=\"f1\", cv=3)"
         ]
      },
      {
         "cell_type": "code",
         "execution_count": 76,
         "metadata": {},
         "outputs": [],
         "source": [
            "from sklearn.model_selection import cross_val_predict\n",
            "cross_predictions = cross_val_predict(sgd_classifier, X_train.values, y_train.values, cv=3)"
         ]
      },
      {
         "cell_type": "code",
         "execution_count": 77,
         "metadata": {},
         "outputs": [
            {
               "data": {
                  "text/plain": [
                     "array([[247, 127],\n",
                     "       [147, 102]], dtype=int64)"
                  ]
               },
               "execution_count": 77,
               "metadata": {},
               "output_type": "execute_result"
            }
         ],
         "source": [
            "from sklearn.metrics import confusion_matrix\n",
            "\n",
            "confusion_matrix(y_train.values, cross_predictions)"
         ]
      },
      {
         "cell_type": "code",
         "execution_count": 78,
         "metadata": {},
         "outputs": [
            {
               "data": {
                  "text/plain": [
                     "0.44541484716157204"
                  ]
               },
               "execution_count": 78,
               "metadata": {},
               "output_type": "execute_result"
            }
         ],
         "source": [
            "from sklearn.metrics import precision_score, recall_score\n",
            "\n",
            "precision_score(y_train.values, cross_predictions)"
         ]
      },
      {
         "cell_type": "code",
         "execution_count": 79,
         "metadata": {},
         "outputs": [
            {
               "data": {
                  "text/plain": [
                     "0.40963855421686746"
                  ]
               },
               "execution_count": 79,
               "metadata": {},
               "output_type": "execute_result"
            }
         ],
         "source": [
            "recall_score(y_train.values, cross_predictions)"
         ]
      },
      {
         "cell_type": "code",
         "execution_count": 80,
         "metadata": {},
         "outputs": [
            {
               "data": {
                  "text/plain": [
                     "0.42677824267782427"
                  ]
               },
               "execution_count": 80,
               "metadata": {},
               "output_type": "execute_result"
            }
         ],
         "source": [
            "from sklearn.metrics import f1_score\n",
            "\n",
            "f1_score(y_train.values, cross_predictions)"
         ]
      },
      {
         "cell_type": "code",
         "execution_count": 81,
         "metadata": {},
         "outputs": [],
         "source": [
            "y_scores = cross_val_predict(sgd_classifier, X_train.values, y_train.values, method=\"decision_function\")"
         ]
      },
      {
         "cell_type": "code",
         "execution_count": 82,
         "metadata": {},
         "outputs": [],
         "source": [
            "from sklearn.metrics import precision_recall_curve\n",
            "\n",
            "precision, recall, threshold = precision_recall_curve(y_train.values, y_scores)"
         ]
      },
      {
         "cell_type": "code",
         "execution_count": 83,
         "metadata": {},
         "outputs": [],
         "source": [
            "def plot_precision_recall_threshold(precision, recall, threshold):\n",
            "    plt.plot(threshold, precision[:-1], \"b--\", label=\"Precision\")\n",
            "    plt.plot(threshold, recall[:-1], \"r-\", label=\"recall\")\n",
            "    plt.xlabel(\"Threshold\")\n",
            "    plt.legend()\n",
            "    plt.grid(True)\n",
            "    plt.show()"
         ]
      },
      {
         "cell_type": "code",
         "execution_count": 84,
         "metadata": {},
         "outputs": [
            {
               "data": {
                  "image/png": "[encoded data removed]",
                  "text/plain": [
                     "<Figure size 640x480 with 1 Axes>"
                  ]
               },
               "metadata": {},
               "output_type": "display_data"
            }
         ],
         "source": [
            "plot_precision_recall_threshold(precision=precision, recall=recall, threshold=threshold)"
         ]
      },
      {
         "cell_type": "code",
         "execution_count": 85,
         "metadata": {},
         "outputs": [
            {
               "data": {
                  "text/plain": [
                     "0.45161290322580644"
                  ]
               },
               "execution_count": 85,
               "metadata": {},
               "output_type": "execute_result"
            }
         ],
         "source": [
            "precision[np.argmax(threshold >= 10000)]"
         ]
      },
      {
         "cell_type": "code",
         "execution_count": 86,
         "metadata": {},
         "outputs": [
            {
               "data": {
                  "text/plain": [
                     "0.4497991967871486"
                  ]
               },
               "execution_count": 86,
               "metadata": {},
               "output_type": "execute_result"
            }
         ],
         "source": [
            "recall[np.argmax(threshold >= 10000)]"
         ]
      },
      {
         "cell_type": "code",
         "execution_count": 87,
         "metadata": {},
         "outputs": [],
         "source": [
            "from sklearn.metrics import roc_curve\n",
            "\n",
            "fpr, tpr, thresholds = roc_curve(y_train.values, y_scores)"
         ]
      },
      {
         "cell_type": "code",
         "execution_count": 88,
         "metadata": {},
         "outputs": [],
         "source": [
            "def plot_roc(fpr, tpr):\n",
            "    plt.plot(fpr, tpr, \"r-\")\n",
            "    plt.xlabel(\"False Positive Rate\")\n",
            "    plt.ylabel(\"True Positive Rate\")\n",
            "    plt.grid(True)\n",
            "    plt.show()"
         ]
      },
      {
         "cell_type": "code",
         "execution_count": 89,
         "metadata": {},
         "outputs": [
            {
               "data": {
                  "image/png": "[encoded data removed]",
                  "text/plain": [
                     "<Figure size 640x480 with 1 Axes>"
                  ]
               },
               "metadata": {},
               "output_type": "display_data"
            }
         ],
         "source": [
            "plot_roc(fpr, tpr)"
         ]
      },
      {
         "cell_type": "code",
         "execution_count": 90,
         "metadata": {},
         "outputs": [
            {
               "data": {
                  "text/plain": [
                     "0.5349419066640895"
                  ]
               },
               "execution_count": 90,
               "metadata": {},
               "output_type": "execute_result"
            }
         ],
         "source": [
            "from sklearn.metrics import roc_auc_score\n",
            "\n",
            "roc_auc_score(y_train.values, y_scores)"
         ]
      },
      {
         "cell_type": "markdown",
         "metadata": {},
         "source": [
            "##### Conclusion: The SGDClassifier does not look much promising"
         ]
      },
      {
         "cell_type": "markdown",
         "metadata": {},
         "source": [
            "#### Random Forest Classifier"
         ]
      },
      {
         "cell_type": "markdown",
         "metadata": {},
         "source": [
            "##### Training"
         ]
      },
      {
         "cell_type": "code",
         "execution_count": 91,
         "metadata": {},
         "outputs": [
            {
               "data": {
                  "text/html": [
                     "<style>#sk-container-id-2 {\n",
                     "  /* Definition of color scheme common for light and dark mode */\n",
                     "  --sklearn-color-text: black;\n",
                     "  --sklearn-color-line: gray;\n",
                     "  /* Definition of color scheme for unfitted estimators */\n",
                     "  --sklearn-color-unfitted-level-0: #fff5e6;\n",
                     "  --sklearn-color-unfitted-level-1: #f6e4d2;\n",
                     "  --sklearn-color-unfitted-level-2: #ffe0b3;\n",
                     "  --sklearn-color-unfitted-level-3: chocolate;\n",
                     "  /* Definition of color scheme for fitted estimators */\n",
                     "  --sklearn-color-fitted-level-0: #f0f8ff;\n",
                     "  --sklearn-color-fitted-level-1: #d4ebff;\n",
                     "  --sklearn-color-fitted-level-2: #b3dbfd;\n",
                     "  --sklearn-color-fitted-level-3: cornflowerblue;\n",
                     "\n",
                     "  /* Specific color for light theme */\n",
                     "  --sklearn-color-text-on-default-background: var(--sg-text-color, var(--theme-code-foreground, var(--jp-content-font-color1, black)));\n",
                     "  --sklearn-color-background: var(--sg-background-color, var(--theme-background, var(--jp-layout-color0, white)));\n",
                     "  --sklearn-color-border-box: var(--sg-text-color, var(--theme-code-foreground, var(--jp-content-font-color1, black)));\n",
                     "  --sklearn-color-icon: #696969;\n",
                     "\n",
                     "  @media (prefers-color-scheme: dark) {\n",
                     "    /* Redefinition of color scheme for dark theme */\n",
                     "    --sklearn-color-text-on-default-background: var(--sg-text-color, var(--theme-code-foreground, var(--jp-content-font-color1, white)));\n",
                     "    --sklearn-color-background: var(--sg-background-color, var(--theme-background, var(--jp-layout-color0, #111)));\n",
                     "    --sklearn-color-border-box: var(--sg-text-color, var(--theme-code-foreground, var(--jp-content-font-color1, white)));\n",
                     "    --sklearn-color-icon: #878787;\n",
                     "  }\n",
                     "}\n",
                     "\n",
                     "#sk-container-id-2 {\n",
                     "  color: var(--sklearn-color-text);\n",
                     "}\n",
                     "\n",
                     "#sk-container-id-2 pre {\n",
                     "  padding: 0;\n",
                     "}\n",
                     "\n",
                     "#sk-container-id-2 input.sk-hidden--visually {\n",
                     "  border: 0;\n",
                     "  clip: rect(1px 1px 1px 1px);\n",
                     "  clip: rect(1px, 1px, 1px, 1px);\n",
                     "  height: 1px;\n",
                     "  margin: -1px;\n",
                     "  overflow: hidden;\n",
                     "  padding: 0;\n",
                     "  position: absolute;\n",
                     "  width: 1px;\n",
                     "}\n",
                     "\n",
                     "#sk-container-id-2 div.sk-dashed-wrapped {\n",
                     "  border: 1px dashed var(--sklearn-color-line);\n",
                     "  margin: 0 0.4em 0.5em 0.4em;\n",
                     "  box-sizing: border-box;\n",
                     "  padding-bottom: 0.4em;\n",
                     "  background-color: var(--sklearn-color-background);\n",
                     "}\n",
                     "\n",
                     "#sk-container-id-2 div.sk-container {\n",
                     "  /* jupyter's `normalize.less` sets `[hidden] { display: none; }`\n",
                     "     but bootstrap.min.css set `[hidden] { display: none !important; }`\n",
                     "     so we also need the `!important` here to be able to override the\n",
                     "     default hidden behavior on the sphinx rendered scikit-learn.org.\n",
                     "     See: https://github.com/scikit-learn/scikit-learn/issues/21755 */\n",
                     "  display: inline-block !important;\n",
                     "  position: relative;\n",
                     "}\n",
                     "\n",
                     "#sk-container-id-2 div.sk-text-repr-fallback {\n",
                     "  display: none;\n",
                     "}\n",
                     "\n",
                     "div.sk-parallel-item,\n",
                     "div.sk-serial,\n",
                     "div.sk-item {\n",
                     "  /* draw centered vertical line to link estimators */\n",
                     "  background-image: linear-gradient(var(--sklearn-color-text-on-default-background), var(--sklearn-color-text-on-default-background));\n",
                     "  background-size: 2px 100%;\n",
                     "  background-repeat: no-repeat;\n",
                     "  background-position: center center;\n",
                     "}\n",
                     "\n",
                     "/* Parallel-specific style estimator block */\n",
                     "\n",
                     "#sk-container-id-2 div.sk-parallel-item::after {\n",
                     "  content: \"\";\n",
                     "  width: 100%;\n",
                     "  border-bottom: 2px solid var(--sklearn-color-text-on-default-background);\n",
                     "  flex-grow: 1;\n",
                     "}\n",
                     "\n",
                     "#sk-container-id-2 div.sk-parallel {\n",
                     "  display: flex;\n",
                     "  align-items: stretch;\n",
                     "  justify-content: center;\n",
                     "  background-color: var(--sklearn-color-background);\n",
                     "  position: relative;\n",
                     "}\n",
                     "\n",
                     "#sk-container-id-2 div.sk-parallel-item {\n",
                     "  display: flex;\n",
                     "  flex-direction: column;\n",
                     "}\n",
                     "\n",
                     "#sk-container-id-2 div.sk-parallel-item:first-child::after {\n",
                     "  align-self: flex-end;\n",
                     "  width: 50%;\n",
                     "}\n",
                     "\n",
                     "#sk-container-id-2 div.sk-parallel-item:last-child::after {\n",
                     "  align-self: flex-start;\n",
                     "  width: 50%;\n",
                     "}\n",
                     "\n",
                     "#sk-container-id-2 div.sk-parallel-item:only-child::after {\n",
                     "  width: 0;\n",
                     "}\n",
                     "\n",
                     "/* Serial-specific style estimator block */\n",
                     "\n",
                     "#sk-container-id-2 div.sk-serial {\n",
                     "  display: flex;\n",
                     "  flex-direction: column;\n",
                     "  align-items: center;\n",
                     "  background-color: var(--sklearn-color-background);\n",
                     "  padding-right: 1em;\n",
                     "  padding-left: 1em;\n",
                     "}\n",
                     "\n",
                     "\n",
                     "/* Toggleable style: style used for estimator/Pipeline/ColumnTransformer box that is\n",
                     "clickable and can be expanded/collapsed.\n",
                     "- Pipeline and ColumnTransformer use this feature and define the default style\n",
                     "- Estimators will overwrite some part of the style using the `sk-estimator` class\n",
                     "*/\n",
                     "\n",
                     "/* Pipeline and ColumnTransformer style (default) */\n",
                     "\n",
                     "#sk-container-id-2 div.sk-toggleable {\n",
                     "  /* Default theme specific background. It is overwritten whether we have a\n",
                     "  specific estimator or a Pipeline/ColumnTransformer */\n",
                     "  background-color: var(--sklearn-color-background);\n",
                     "}\n",
                     "\n",
                     "/* Toggleable label */\n",
                     "#sk-container-id-2 label.sk-toggleable__label {\n",
                     "  cursor: pointer;\n",
                     "  display: block;\n",
                     "  width: 100%;\n",
                     "  margin-bottom: 0;\n",
                     "  padding: 0.5em;\n",
                     "  box-sizing: border-box;\n",
                     "  text-align: center;\n",
                     "}\n",
                     "\n",
                     "#sk-container-id-2 label.sk-toggleable__label-arrow:before {\n",
                     "  /* Arrow on the left of the label */\n",
                     "  content: \"▸\";\n",
                     "  float: left;\n",
                     "  margin-right: 0.25em;\n",
                     "  color: var(--sklearn-color-icon);\n",
                     "}\n",
                     "\n",
                     "#sk-container-id-2 label.sk-toggleable__label-arrow:hover:before {\n",
                     "  color: var(--sklearn-color-text);\n",
                     "}\n",
                     "\n",
                     "/* Toggleable content - dropdown */\n",
                     "\n",
                     "#sk-container-id-2 div.sk-toggleable__content {\n",
                     "  max-height: 0;\n",
                     "  max-width: 0;\n",
                     "  overflow: hidden;\n",
                     "  text-align: left;\n",
                     "  /* unfitted */\n",
                     "  background-color: var(--sklearn-color-unfitted-level-0);\n",
                     "}\n",
                     "\n",
                     "#sk-container-id-2 div.sk-toggleable__content.fitted {\n",
                     "  /* fitted */\n",
                     "  background-color: var(--sklearn-color-fitted-level-0);\n",
                     "}\n",
                     "\n",
                     "#sk-container-id-2 div.sk-toggleable__content pre {\n",
                     "  margin: 0.2em;\n",
                     "  border-radius: 0.25em;\n",
                     "  color: var(--sklearn-color-text);\n",
                     "  /* unfitted */\n",
                     "  background-color: var(--sklearn-color-unfitted-level-0);\n",
                     "}\n",
                     "\n",
                     "#sk-container-id-2 div.sk-toggleable__content.fitted pre {\n",
                     "  /* unfitted */\n",
                     "  background-color: var(--sklearn-color-fitted-level-0);\n",
                     "}\n",
                     "\n",
                     "#sk-container-id-2 input.sk-toggleable__control:checked~div.sk-toggleable__content {\n",
                     "  /* Expand drop-down */\n",
                     "  max-height: 200px;\n",
                     "  max-width: 100%;\n",
                     "  overflow: auto;\n",
                     "}\n",
                     "\n",
                     "#sk-container-id-2 input.sk-toggleable__control:checked~label.sk-toggleable__label-arrow:before {\n",
                     "  content: \"▾\";\n",
                     "}\n",
                     "\n",
                     "/* Pipeline/ColumnTransformer-specific style */\n",
                     "\n",
                     "#sk-container-id-2 div.sk-label input.sk-toggleable__control:checked~label.sk-toggleable__label {\n",
                     "  color: var(--sklearn-color-text);\n",
                     "  background-color: var(--sklearn-color-unfitted-level-2);\n",
                     "}\n",
                     "\n",
                     "#sk-container-id-2 div.sk-label.fitted input.sk-toggleable__control:checked~label.sk-toggleable__label {\n",
                     "  background-color: var(--sklearn-color-fitted-level-2);\n",
                     "}\n",
                     "\n",
                     "/* Estimator-specific style */\n",
                     "\n",
                     "/* Colorize estimator box */\n",
                     "#sk-container-id-2 div.sk-estimator input.sk-toggleable__control:checked~label.sk-toggleable__label {\n",
                     "  /* unfitted */\n",
                     "  background-color: var(--sklearn-color-unfitted-level-2);\n",
                     "}\n",
                     "\n",
                     "#sk-container-id-2 div.sk-estimator.fitted input.sk-toggleable__control:checked~label.sk-toggleable__label {\n",
                     "  /* fitted */\n",
                     "  background-color: var(--sklearn-color-fitted-level-2);\n",
                     "}\n",
                     "\n",
                     "#sk-container-id-2 div.sk-label label.sk-toggleable__label,\n",
                     "#sk-container-id-2 div.sk-label label {\n",
                     "  /* The background is the default theme color */\n",
                     "  color: var(--sklearn-color-text-on-default-background);\n",
                     "}\n",
                     "\n",
                     "/* On hover, darken the color of the background */\n",
                     "#sk-container-id-2 div.sk-label:hover label.sk-toggleable__label {\n",
                     "  color: var(--sklearn-color-text);\n",
                     "  background-color: var(--sklearn-color-unfitted-level-2);\n",
                     "}\n",
                     "\n",
                     "/* Label box, darken color on hover, fitted */\n",
                     "#sk-container-id-2 div.sk-label.fitted:hover label.sk-toggleable__label.fitted {\n",
                     "  color: var(--sklearn-color-text);\n",
                     "  background-color: var(--sklearn-color-fitted-level-2);\n",
                     "}\n",
                     "\n",
                     "/* Estimator label */\n",
                     "\n",
                     "#sk-container-id-2 div.sk-label label {\n",
                     "  font-family: monospace;\n",
                     "  font-weight: bold;\n",
                     "  display: inline-block;\n",
                     "  line-height: 1.2em;\n",
                     "}\n",
                     "\n",
                     "#sk-container-id-2 div.sk-label-container {\n",
                     "  text-align: center;\n",
                     "}\n",
                     "\n",
                     "/* Estimator-specific */\n",
                     "#sk-container-id-2 div.sk-estimator {\n",
                     "  font-family: monospace;\n",
                     "  border: 1px dotted var(--sklearn-color-border-box);\n",
                     "  border-radius: 0.25em;\n",
                     "  box-sizing: border-box;\n",
                     "  margin-bottom: 0.5em;\n",
                     "  /* unfitted */\n",
                     "  background-color: var(--sklearn-color-unfitted-level-0);\n",
                     "}\n",
                     "\n",
                     "#sk-container-id-2 div.sk-estimator.fitted {\n",
                     "  /* fitted */\n",
                     "  background-color: var(--sklearn-color-fitted-level-0);\n",
                     "}\n",
                     "\n",
                     "/* on hover */\n",
                     "#sk-container-id-2 div.sk-estimator:hover {\n",
                     "  /* unfitted */\n",
                     "  background-color: var(--sklearn-color-unfitted-level-2);\n",
                     "}\n",
                     "\n",
                     "#sk-container-id-2 div.sk-estimator.fitted:hover {\n",
                     "  /* fitted */\n",
                     "  background-color: var(--sklearn-color-fitted-level-2);\n",
                     "}\n",
                     "\n",
                     "/* Specification for estimator info (e.g. \"i\" and \"?\") */\n",
                     "\n",
                     "/* Common style for \"i\" and \"?\" */\n",
                     "\n",
                     ".sk-estimator-doc-link,\n",
                     "a:link.sk-estimator-doc-link,\n",
                     "a:visited.sk-estimator-doc-link {\n",
                     "  float: right;\n",
                     "  font-size: smaller;\n",
                     "  line-height: 1em;\n",
                     "  font-family: monospace;\n",
                     "  background-color: var(--sklearn-color-background);\n",
                     "  border-radius: 1em;\n",
                     "  height: 1em;\n",
                     "  width: 1em;\n",
                     "  text-decoration: none !important;\n",
                     "  margin-left: 1ex;\n",
                     "  /* unfitted */\n",
                     "  border: var(--sklearn-color-unfitted-level-1) 1pt solid;\n",
                     "  color: var(--sklearn-color-unfitted-level-1);\n",
                     "}\n",
                     "\n",
                     ".sk-estimator-doc-link.fitted,\n",
                     "a:link.sk-estimator-doc-link.fitted,\n",
                     "a:visited.sk-estimator-doc-link.fitted {\n",
                     "  /* fitted */\n",
                     "  border: var(--sklearn-color-fitted-level-1) 1pt solid;\n",
                     "  color: var(--sklearn-color-fitted-level-1);\n",
                     "}\n",
                     "\n",
                     "/* On hover */\n",
                     "div.sk-estimator:hover .sk-estimator-doc-link:hover,\n",
                     ".sk-estimator-doc-link:hover,\n",
                     "div.sk-label-container:hover .sk-estimator-doc-link:hover,\n",
                     ".sk-estimator-doc-link:hover {\n",
                     "  /* unfitted */\n",
                     "  background-color: var(--sklearn-color-unfitted-level-3);\n",
                     "  color: var(--sklearn-color-background);\n",
                     "  text-decoration: none;\n",
                     "}\n",
                     "\n",
                     "div.sk-estimator.fitted:hover .sk-estimator-doc-link.fitted:hover,\n",
                     ".sk-estimator-doc-link.fitted:hover,\n",
                     "div.sk-label-container:hover .sk-estimator-doc-link.fitted:hover,\n",
                     ".sk-estimator-doc-link.fitted:hover {\n",
                     "  /* fitted */\n",
                     "  background-color: var(--sklearn-color-fitted-level-3);\n",
                     "  color: var(--sklearn-color-background);\n",
                     "  text-decoration: none;\n",
                     "}\n",
                     "\n",
                     "/* Span, style for the box shown on hovering the info icon */\n",
                     ".sk-estimator-doc-link span {\n",
                     "  display: none;\n",
                     "  z-index: 9999;\n",
                     "  position: relative;\n",
                     "  font-weight: normal;\n",
                     "  right: .2ex;\n",
                     "  padding: .5ex;\n",
                     "  margin: .5ex;\n",
                     "  width: min-content;\n",
                     "  min-width: 20ex;\n",
                     "  max-width: 50ex;\n",
                     "  color: var(--sklearn-color-text);\n",
                     "  box-shadow: 2pt 2pt 4pt #999;\n",
                     "  /* unfitted */\n",
                     "  background: var(--sklearn-color-unfitted-level-0);\n",
                     "  border: .5pt solid var(--sklearn-color-unfitted-level-3);\n",
                     "}\n",
                     "\n",
                     ".sk-estimator-doc-link.fitted span {\n",
                     "  /* fitted */\n",
                     "  background: var(--sklearn-color-fitted-level-0);\n",
                     "  border: var(--sklearn-color-fitted-level-3);\n",
                     "}\n",
                     "\n",
                     ".sk-estimator-doc-link:hover span {\n",
                     "  display: block;\n",
                     "}\n",
                     "\n",
                     "/* \"?\"-specific style due to the `<a>` HTML tag */\n",
                     "\n",
                     "#sk-container-id-2 a.estimator_doc_link {\n",
                     "  float: right;\n",
                     "  font-size: 1rem;\n",
                     "  line-height: 1em;\n",
                     "  font-family: monospace;\n",
                     "  background-color: var(--sklearn-color-background);\n",
                     "  border-radius: 1rem;\n",
                     "  height: 1rem;\n",
                     "  width: 1rem;\n",
                     "  text-decoration: none;\n",
                     "  /* unfitted */\n",
                     "  color: var(--sklearn-color-unfitted-level-1);\n",
                     "  border: var(--sklearn-color-unfitted-level-1) 1pt solid;\n",
                     "}\n",
                     "\n",
                     "#sk-container-id-2 a.estimator_doc_link.fitted {\n",
                     "  /* fitted */\n",
                     "  border: var(--sklearn-color-fitted-level-1) 1pt solid;\n",
                     "  color: var(--sklearn-color-fitted-level-1);\n",
                     "}\n",
                     "\n",
                     "/* On hover */\n",
                     "#sk-container-id-2 a.estimator_doc_link:hover {\n",
                     "  /* unfitted */\n",
                     "  background-color: var(--sklearn-color-unfitted-level-3);\n",
                     "  color: var(--sklearn-color-background);\n",
                     "  text-decoration: none;\n",
                     "}\n",
                     "\n",
                     "#sk-container-id-2 a.estimator_doc_link.fitted:hover {\n",
                     "  /* fitted */\n",
                     "  background-color: var(--sklearn-color-fitted-level-3);\n",
                     "}\n",
                     "</style><div id=\"sk-container-id-2\" class=\"sk-top-container\"><div class=\"sk-text-repr-fallback\"><pre>RandomForestClassifier(random_state=42)</pre><b>In a Jupyter environment, please rerun this cell to show the HTML representation or trust the notebook. <br />On GitHub, the HTML representation is unable to render, please try loading this page with nbviewer.org.</b></div><div class=\"sk-container\" hidden><div class=\"sk-item\"><div class=\"sk-estimator fitted sk-toggleable\"><input class=\"sk-toggleable__control sk-hidden--visually\" id=\"sk-estimator-id-2\" type=\"checkbox\" checked><label for=\"sk-estimator-id-2\" class=\"sk-toggleable__label fitted sk-toggleable__label-arrow fitted\">&nbsp;&nbsp;RandomForestClassifier<a class=\"sk-estimator-doc-link fitted\" rel=\"noreferrer\" target=\"_blank\" href=\"https://scikit-learn.org/1.5/modules/generated/sklearn.ensemble.RandomForestClassifier.html\">?<span>Documentation for RandomForestClassifier</span></a><span class=\"sk-estimator-doc-link fitted\">i<span>Fitted</span></span></label><div class=\"sk-toggleable__content fitted\"><pre>RandomForestClassifier(random_state=42)</pre></div> </div></div></div></div>"
                  ],
                  "text/plain": [
                     "RandomForestClassifier(random_state=42)"
                  ]
               },
               "execution_count": 91,
               "metadata": {},
               "output_type": "execute_result"
            }
         ],
         "source": [
            "from sklearn.ensemble import RandomForestClassifier\n",
            "\n",
            "rfc_classifier = RandomForestClassifier(random_state=42)\n",
            "rfc_classifier.fit(X_train.values, y_train.values)"
         ]
      },
      {
         "cell_type": "code",
         "execution_count": 92,
         "metadata": {},
         "outputs": [
            {
               "data": {
                  "text/plain": [
                     "array([[0.84, 0.16],\n",
                     "       [0.07, 0.93],\n",
                     "       [0.42, 0.58],\n",
                     "       ...,\n",
                     "       [0.68, 0.32],\n",
                     "       [0.89, 0.11],\n",
                     "       [0.93, 0.07]])"
                  ]
               },
               "execution_count": 92,
               "metadata": {},
               "output_type": "execute_result"
            }
         ],
         "source": [
            "y_predict_proba = cross_val_predict(rfc_classifier, X_train.values, y_train.values, method=\"predict_proba\", cv=3)\n",
            "y_predict_proba"
         ]
      },
      {
         "cell_type": "code",
         "execution_count": 93,
         "metadata": {},
         "outputs": [],
         "source": [
            "y_scores_rfc = y_predict_proba[:,1]"
         ]
      },
      {
         "cell_type": "code",
         "execution_count": 94,
         "metadata": {},
         "outputs": [
            {
               "data": {
                  "image/png": "[encoded data removed]",
                  "text/plain": [
                     "<Figure size 640x480 with 1 Axes>"
                  ]
               },
               "metadata": {},
               "output_type": "display_data"
            }
         ],
         "source": [
            "fpr_rfc, tpr_rfc, threshold_rfc = roc_curve(y_train.values, y_scores_rfc)\n",
            "plot_roc(fpr=fpr_rfc, tpr=tpr_rfc)"
         ]
      },
      {
         "cell_type": "code",
         "execution_count": 95,
         "metadata": {},
         "outputs": [
            {
               "data": {
                  "text/plain": [
                     "0.8364312866439018"
                  ]
               },
               "execution_count": 95,
               "metadata": {},
               "output_type": "execute_result"
            }
         ],
         "source": [
            "roc_auc_score(y_train.values, y_scores_rfc)"
         ]
      },
      {
         "cell_type": "code",
         "execution_count": 96,
         "metadata": {},
         "outputs": [
            {
               "data": {
                  "image/png": "[encoded data removed]",
                  "text/plain": [
                     "<Figure size 640x480 with 1 Axes>"
                  ]
               },
               "metadata": {},
               "output_type": "display_data"
            }
         ],
         "source": [
            "precision_rfc, recall_rfc, threshold_prc_rfc = precision_recall_curve(y_train.values, y_scores_rfc)\n",
            "plot_precision_recall_threshold(precision_rfc, recall_rfc, threshold_prc_rfc)"
         ]
      },
      {
         "cell_type": "code",
         "execution_count": 97,
         "metadata": {},
         "outputs": [
            {
               "data": {
                  "text/plain": [
                     "array([0.77884615, 0.78365385, 0.80676329])"
                  ]
               },
               "execution_count": 97,
               "metadata": {},
               "output_type": "execute_result"
            }
         ],
         "source": [
            "cross_val_score(rfc_classifier, X_train.values, y_train.values, cv=3, scoring=\"accuracy\")"
         ]
      },
      {
         "cell_type": "code",
         "execution_count": 98,
         "metadata": {},
         "outputs": [
            {
               "data": {
                  "text/plain": [
                     "array([[312,  62],\n",
                     "       [ 69, 180]], dtype=int64)"
                  ]
               },
               "execution_count": 98,
               "metadata": {},
               "output_type": "execute_result"
            }
         ],
         "source": [
            "y_rfc_pred = cross_val_predict(rfc_classifier, X_train.values, y_train.values, cv=3)\n",
            "confusion_matrix(y_train.values, y_rfc_pred)\n"
         ]
      },
      {
         "cell_type": "code",
         "execution_count": 99,
         "metadata": {},
         "outputs": [
            {
               "name": "stdout",
               "output_type": "stream",
               "text": [
                  "Precision Score: 0.743801652892562\n",
                  "Recall Score: 0.7228915662650602\n",
                  "f1 Score: 0.7331975560081466\n"
               ]
            }
         ],
         "source": [
            "print(f\"Precision Score: {precision_score(y_train.values, y_rfc_pred)}\")\n",
            "print(f\"Recall Score: {recall_score(y_train.values, y_rfc_pred)}\")\n",
            "print(f\"f1 Score: {f1_score(y_train.values, y_rfc_pred)}\")"
         ]
      },
      {
         "cell_type": "markdown",
         "metadata": {},
         "source": [
            "#### Testing the random forest classifier model on test dataset"
         ]
      },
      {
         "cell_type": "code",
         "execution_count": 100,
         "metadata": {},
         "outputs": [],
         "source": [
            "imputed_test = imputer.transform(X_test_copy)\n",
            "X_test_copy = pd.DataFrame(imputed_test, columns=list(X_test_copy))\n",
            "X_test = X_test_copy.drop(columns=[\"Survived\"])"
         ]
      },
      {
         "cell_type": "code",
         "execution_count": 101,
         "metadata": {},
         "outputs": [],
         "source": [
            "y_test_predictions = rfc_classifier.predict(X_test.values)"
         ]
      },
      {
         "cell_type": "code",
         "execution_count": 102,
         "metadata": {},
         "outputs": [
            {
               "data": {
                  "text/plain": [
                     "array([[152,  23],\n",
                     "       [ 19,  74]], dtype=int64)"
                  ]
               },
               "execution_count": 102,
               "metadata": {},
               "output_type": "execute_result"
            }
         ],
         "source": [
            "confusion_matrix(y_test.values, y_test_predictions)"
         ]
      },
      {
         "cell_type": "code",
         "execution_count": 103,
         "metadata": {},
         "outputs": [
            {
               "name": "stdout",
               "output_type": "stream",
               "text": [
                  "Precision Score: 0.7628865979381443\n",
                  "Recall Score: 0.7956989247311828\n",
                  "f1 Score: 0.7789473684210526\n"
               ]
            }
         ],
         "source": [
            "print(f\"Precision Score: {precision_score(y_test.values, y_test_predictions)}\")\n",
            "print(f\"Recall Score: {recall_score(y_test.values, y_test_predictions)}\")\n",
            "print(f\"f1 Score: {f1_score(y_test.values, y_test_predictions)}\")"
         ]
      },
      {
         "cell_type": "markdown",
         "metadata": {},
         "source": [
            "#### K Nearest Neighbour"
         ]
      },
      {
         "cell_type": "markdown",
         "metadata": {},
         "source": [
            "##### Training"
         ]
      },
      {
         "cell_type": "code",
         "execution_count": 104,
         "metadata": {},
         "outputs": [
            {
               "data": {
                  "text/html": [
                     "<style>#sk-container-id-3 {\n",
                     "  /* Definition of color scheme common for light and dark mode */\n",
                     "  --sklearn-color-text: black;\n",
                     "  --sklearn-color-line: gray;\n",
                     "  /* Definition of color scheme for unfitted estimators */\n",
                     "  --sklearn-color-unfitted-level-0: #fff5e6;\n",
                     "  --sklearn-color-unfitted-level-1: #f6e4d2;\n",
                     "  --sklearn-color-unfitted-level-2: #ffe0b3;\n",
                     "  --sklearn-color-unfitted-level-3: chocolate;\n",
                     "  /* Definition of color scheme for fitted estimators */\n",
                     "  --sklearn-color-fitted-level-0: #f0f8ff;\n",
                     "  --sklearn-color-fitted-level-1: #d4ebff;\n",
                     "  --sklearn-color-fitted-level-2: #b3dbfd;\n",
                     "  --sklearn-color-fitted-level-3: cornflowerblue;\n",
                     "\n",
                     "  /* Specific color for light theme */\n",
                     "  --sklearn-color-text-on-default-background: var(--sg-text-color, var(--theme-code-foreground, var(--jp-content-font-color1, black)));\n",
                     "  --sklearn-color-background: var(--sg-background-color, var(--theme-background, var(--jp-layout-color0, white)));\n",
                     "  --sklearn-color-border-box: var(--sg-text-color, var(--theme-code-foreground, var(--jp-content-font-color1, black)));\n",
                     "  --sklearn-color-icon: #696969;\n",
                     "\n",
                     "  @media (prefers-color-scheme: dark) {\n",
                     "    /* Redefinition of color scheme for dark theme */\n",
                     "    --sklearn-color-text-on-default-background: var(--sg-text-color, var(--theme-code-foreground, var(--jp-content-font-color1, white)));\n",
                     "    --sklearn-color-background: var(--sg-background-color, var(--theme-background, var(--jp-layout-color0, #111)));\n",
                     "    --sklearn-color-border-box: var(--sg-text-color, var(--theme-code-foreground, var(--jp-content-font-color1, white)));\n",
                     "    --sklearn-color-icon: #878787;\n",
                     "  }\n",
                     "}\n",
                     "\n",
                     "#sk-container-id-3 {\n",
                     "  color: var(--sklearn-color-text);\n",
                     "}\n",
                     "\n",
                     "#sk-container-id-3 pre {\n",
                     "  padding: 0;\n",
                     "}\n",
                     "\n",
                     "#sk-container-id-3 input.sk-hidden--visually {\n",
                     "  border: 0;\n",
                     "  clip: rect(1px 1px 1px 1px);\n",
                     "  clip: rect(1px, 1px, 1px, 1px);\n",
                     "  height: 1px;\n",
                     "  margin: -1px;\n",
                     "  overflow: hidden;\n",
                     "  padding: 0;\n",
                     "  position: absolute;\n",
                     "  width: 1px;\n",
                     "}\n",
                     "\n",
                     "#sk-container-id-3 div.sk-dashed-wrapped {\n",
                     "  border: 1px dashed var(--sklearn-color-line);\n",
                     "  margin: 0 0.4em 0.5em 0.4em;\n",
                     "  box-sizing: border-box;\n",
                     "  padding-bottom: 0.4em;\n",
                     "  background-color: var(--sklearn-color-background);\n",
                     "}\n",
                     "\n",
                     "#sk-container-id-3 div.sk-container {\n",
                     "  /* jupyter's `normalize.less` sets `[hidden] { display: none; }`\n",
                     "     but bootstrap.min.css set `[hidden] { display: none !important; }`\n",
                     "     so we also need the `!important` here to be able to override the\n",
                     "     default hidden behavior on the sphinx rendered scikit-learn.org.\n",
                     "     See: https://github.com/scikit-learn/scikit-learn/issues/21755 */\n",
                     "  display: inline-block !important;\n",
                     "  position: relative;\n",
                     "}\n",
                     "\n",
                     "#sk-container-id-3 div.sk-text-repr-fallback {\n",
                     "  display: none;\n",
                     "}\n",
                     "\n",
                     "div.sk-parallel-item,\n",
                     "div.sk-serial,\n",
                     "div.sk-item {\n",
                     "  /* draw centered vertical line to link estimators */\n",
                     "  background-image: linear-gradient(var(--sklearn-color-text-on-default-background), var(--sklearn-color-text-on-default-background));\n",
                     "  background-size: 2px 100%;\n",
                     "  background-repeat: no-repeat;\n",
                     "  background-position: center center;\n",
                     "}\n",
                     "\n",
                     "/* Parallel-specific style estimator block */\n",
                     "\n",
                     "#sk-container-id-3 div.sk-parallel-item::after {\n",
                     "  content: \"\";\n",
                     "  width: 100%;\n",
                     "  border-bottom: 2px solid var(--sklearn-color-text-on-default-background);\n",
                     "  flex-grow: 1;\n",
                     "}\n",
                     "\n",
                     "#sk-container-id-3 div.sk-parallel {\n",
                     "  display: flex;\n",
                     "  align-items: stretch;\n",
                     "  justify-content: center;\n",
                     "  background-color: var(--sklearn-color-background);\n",
                     "  position: relative;\n",
                     "}\n",
                     "\n",
                     "#sk-container-id-3 div.sk-parallel-item {\n",
                     "  display: flex;\n",
                     "  flex-direction: column;\n",
                     "}\n",
                     "\n",
                     "#sk-container-id-3 div.sk-parallel-item:first-child::after {\n",
                     "  align-self: flex-end;\n",
                     "  width: 50%;\n",
                     "}\n",
                     "\n",
                     "#sk-container-id-3 div.sk-parallel-item:last-child::after {\n",
                     "  align-self: flex-start;\n",
                     "  width: 50%;\n",
                     "}\n",
                     "\n",
                     "#sk-container-id-3 div.sk-parallel-item:only-child::after {\n",
                     "  width: 0;\n",
                     "}\n",
                     "\n",
                     "/* Serial-specific style estimator block */\n",
                     "\n",
                     "#sk-container-id-3 div.sk-serial {\n",
                     "  display: flex;\n",
                     "  flex-direction: column;\n",
                     "  align-items: center;\n",
                     "  background-color: var(--sklearn-color-background);\n",
                     "  padding-right: 1em;\n",
                     "  padding-left: 1em;\n",
                     "}\n",
                     "\n",
                     "\n",
                     "/* Toggleable style: style used for estimator/Pipeline/ColumnTransformer box that is\n",
                     "clickable and can be expanded/collapsed.\n",
                     "- Pipeline and ColumnTransformer use this feature and define the default style\n",
                     "- Estimators will overwrite some part of the style using the `sk-estimator` class\n",
                     "*/\n",
                     "\n",
                     "/* Pipeline and ColumnTransformer style (default) */\n",
                     "\n",
                     "#sk-container-id-3 div.sk-toggleable {\n",
                     "  /* Default theme specific background. It is overwritten whether we have a\n",
                     "  specific estimator or a Pipeline/ColumnTransformer */\n",
                     "  background-color: var(--sklearn-color-background);\n",
                     "}\n",
                     "\n",
                     "/* Toggleable label */\n",
                     "#sk-container-id-3 label.sk-toggleable__label {\n",
                     "  cursor: pointer;\n",
                     "  display: block;\n",
                     "  width: 100%;\n",
                     "  margin-bottom: 0;\n",
                     "  padding: 0.5em;\n",
                     "  box-sizing: border-box;\n",
                     "  text-align: center;\n",
                     "}\n",
                     "\n",
                     "#sk-container-id-3 label.sk-toggleable__label-arrow:before {\n",
                     "  /* Arrow on the left of the label */\n",
                     "  content: \"▸\";\n",
                     "  float: left;\n",
                     "  margin-right: 0.25em;\n",
                     "  color: var(--sklearn-color-icon);\n",
                     "}\n",
                     "\n",
                     "#sk-container-id-3 label.sk-toggleable__label-arrow:hover:before {\n",
                     "  color: var(--sklearn-color-text);\n",
                     "}\n",
                     "\n",
                     "/* Toggleable content - dropdown */\n",
                     "\n",
                     "#sk-container-id-3 div.sk-toggleable__content {\n",
                     "  max-height: 0;\n",
                     "  max-width: 0;\n",
                     "  overflow: hidden;\n",
                     "  text-align: left;\n",
                     "  /* unfitted */\n",
                     "  background-color: var(--sklearn-color-unfitted-level-0);\n",
                     "}\n",
                     "\n",
                     "#sk-container-id-3 div.sk-toggleable__content.fitted {\n",
                     "  /* fitted */\n",
                     "  background-color: var(--sklearn-color-fitted-level-0);\n",
                     "}\n",
                     "\n",
                     "#sk-container-id-3 div.sk-toggleable__content pre {\n",
                     "  margin: 0.2em;\n",
                     "  border-radius: 0.25em;\n",
                     "  color: var(--sklearn-color-text);\n",
                     "  /* unfitted */\n",
                     "  background-color: var(--sklearn-color-unfitted-level-0);\n",
                     "}\n",
                     "\n",
                     "#sk-container-id-3 div.sk-toggleable__content.fitted pre {\n",
                     "  /* unfitted */\n",
                     "  background-color: var(--sklearn-color-fitted-level-0);\n",
                     "}\n",
                     "\n",
                     "#sk-container-id-3 input.sk-toggleable__control:checked~div.sk-toggleable__content {\n",
                     "  /* Expand drop-down */\n",
                     "  max-height: 200px;\n",
                     "  max-width: 100%;\n",
                     "  overflow: auto;\n",
                     "}\n",
                     "\n",
                     "#sk-container-id-3 input.sk-toggleable__control:checked~label.sk-toggleable__label-arrow:before {\n",
                     "  content: \"▾\";\n",
                     "}\n",
                     "\n",
                     "/* Pipeline/ColumnTransformer-specific style */\n",
                     "\n",
                     "#sk-container-id-3 div.sk-label input.sk-toggleable__control:checked~label.sk-toggleable__label {\n",
                     "  color: var(--sklearn-color-text);\n",
                     "  background-color: var(--sklearn-color-unfitted-level-2);\n",
                     "}\n",
                     "\n",
                     "#sk-container-id-3 div.sk-label.fitted input.sk-toggleable__control:checked~label.sk-toggleable__label {\n",
                     "  background-color: var(--sklearn-color-fitted-level-2);\n",
                     "}\n",
                     "\n",
                     "/* Estimator-specific style */\n",
                     "\n",
                     "/* Colorize estimator box */\n",
                     "#sk-container-id-3 div.sk-estimator input.sk-toggleable__control:checked~label.sk-toggleable__label {\n",
                     "  /* unfitted */\n",
                     "  background-color: var(--sklearn-color-unfitted-level-2);\n",
                     "}\n",
                     "\n",
                     "#sk-container-id-3 div.sk-estimator.fitted input.sk-toggleable__control:checked~label.sk-toggleable__label {\n",
                     "  /* fitted */\n",
                     "  background-color: var(--sklearn-color-fitted-level-2);\n",
                     "}\n",
                     "\n",
                     "#sk-container-id-3 div.sk-label label.sk-toggleable__label,\n",
                     "#sk-container-id-3 div.sk-label label {\n",
                     "  /* The background is the default theme color */\n",
                     "  color: var(--sklearn-color-text-on-default-background);\n",
                     "}\n",
                     "\n",
                     "/* On hover, darken the color of the background */\n",
                     "#sk-container-id-3 div.sk-label:hover label.sk-toggleable__label {\n",
                     "  color: var(--sklearn-color-text);\n",
                     "  background-color: var(--sklearn-color-unfitted-level-2);\n",
                     "}\n",
                     "\n",
                     "/* Label box, darken color on hover, fitted */\n",
                     "#sk-container-id-3 div.sk-label.fitted:hover label.sk-toggleable__label.fitted {\n",
                     "  color: var(--sklearn-color-text);\n",
                     "  background-color: var(--sklearn-color-fitted-level-2);\n",
                     "}\n",
                     "\n",
                     "/* Estimator label */\n",
                     "\n",
                     "#sk-container-id-3 div.sk-label label {\n",
                     "  font-family: monospace;\n",
                     "  font-weight: bold;\n",
                     "  display: inline-block;\n",
                     "  line-height: 1.2em;\n",
                     "}\n",
                     "\n",
                     "#sk-container-id-3 div.sk-label-container {\n",
                     "  text-align: center;\n",
                     "}\n",
                     "\n",
                     "/* Estimator-specific */\n",
                     "#sk-container-id-3 div.sk-estimator {\n",
                     "  font-family: monospace;\n",
                     "  border: 1px dotted var(--sklearn-color-border-box);\n",
                     "  border-radius: 0.25em;\n",
                     "  box-sizing: border-box;\n",
                     "  margin-bottom: 0.5em;\n",
                     "  /* unfitted */\n",
                     "  background-color: var(--sklearn-color-unfitted-level-0);\n",
                     "}\n",
                     "\n",
                     "#sk-container-id-3 div.sk-estimator.fitted {\n",
                     "  /* fitted */\n",
                     "  background-color: var(--sklearn-color-fitted-level-0);\n",
                     "}\n",
                     "\n",
                     "/* on hover */\n",
                     "#sk-container-id-3 div.sk-estimator:hover {\n",
                     "  /* unfitted */\n",
                     "  background-color: var(--sklearn-color-unfitted-level-2);\n",
                     "}\n",
                     "\n",
                     "#sk-container-id-3 div.sk-estimator.fitted:hover {\n",
                     "  /* fitted */\n",
                     "  background-color: var(--sklearn-color-fitted-level-2);\n",
                     "}\n",
                     "\n",
                     "/* Specification for estimator info (e.g. \"i\" and \"?\") */\n",
                     "\n",
                     "/* Common style for \"i\" and \"?\" */\n",
                     "\n",
                     ".sk-estimator-doc-link,\n",
                     "a:link.sk-estimator-doc-link,\n",
                     "a:visited.sk-estimator-doc-link {\n",
                     "  float: right;\n",
                     "  font-size: smaller;\n",
                     "  line-height: 1em;\n",
                     "  font-family: monospace;\n",
                     "  background-color: var(--sklearn-color-background);\n",
                     "  border-radius: 1em;\n",
                     "  height: 1em;\n",
                     "  width: 1em;\n",
                     "  text-decoration: none !important;\n",
                     "  margin-left: 1ex;\n",
                     "  /* unfitted */\n",
                     "  border: var(--sklearn-color-unfitted-level-1) 1pt solid;\n",
                     "  color: var(--sklearn-color-unfitted-level-1);\n",
                     "}\n",
                     "\n",
                     ".sk-estimator-doc-link.fitted,\n",
                     "a:link.sk-estimator-doc-link.fitted,\n",
                     "a:visited.sk-estimator-doc-link.fitted {\n",
                     "  /* fitted */\n",
                     "  border: var(--sklearn-color-fitted-level-1) 1pt solid;\n",
                     "  color: var(--sklearn-color-fitted-level-1);\n",
                     "}\n",
                     "\n",
                     "/* On hover */\n",
                     "div.sk-estimator:hover .sk-estimator-doc-link:hover,\n",
                     ".sk-estimator-doc-link:hover,\n",
                     "div.sk-label-container:hover .sk-estimator-doc-link:hover,\n",
                     ".sk-estimator-doc-link:hover {\n",
                     "  /* unfitted */\n",
                     "  background-color: var(--sklearn-color-unfitted-level-3);\n",
                     "  color: var(--sklearn-color-background);\n",
                     "  text-decoration: none;\n",
                     "}\n",
                     "\n",
                     "div.sk-estimator.fitted:hover .sk-estimator-doc-link.fitted:hover,\n",
                     ".sk-estimator-doc-link.fitted:hover,\n",
                     "div.sk-label-container:hover .sk-estimator-doc-link.fitted:hover,\n",
                     ".sk-estimator-doc-link.fitted:hover {\n",
                     "  /* fitted */\n",
                     "  background-color: var(--sklearn-color-fitted-level-3);\n",
                     "  color: var(--sklearn-color-background);\n",
                     "  text-decoration: none;\n",
                     "}\n",
                     "\n",
                     "/* Span, style for the box shown on hovering the info icon */\n",
                     ".sk-estimator-doc-link span {\n",
                     "  display: none;\n",
                     "  z-index: 9999;\n",
                     "  position: relative;\n",
                     "  font-weight: normal;\n",
                     "  right: .2ex;\n",
                     "  padding: .5ex;\n",
                     "  margin: .5ex;\n",
                     "  width: min-content;\n",
                     "  min-width: 20ex;\n",
                     "  max-width: 50ex;\n",
                     "  color: var(--sklearn-color-text);\n",
                     "  box-shadow: 2pt 2pt 4pt #999;\n",
                     "  /* unfitted */\n",
                     "  background: var(--sklearn-color-unfitted-level-0);\n",
                     "  border: .5pt solid var(--sklearn-color-unfitted-level-3);\n",
                     "}\n",
                     "\n",
                     ".sk-estimator-doc-link.fitted span {\n",
                     "  /* fitted */\n",
                     "  background: var(--sklearn-color-fitted-level-0);\n",
                     "  border: var(--sklearn-color-fitted-level-3);\n",
                     "}\n",
                     "\n",
                     ".sk-estimator-doc-link:hover span {\n",
                     "  display: block;\n",
                     "}\n",
                     "\n",
                     "/* \"?\"-specific style due to the `<a>` HTML tag */\n",
                     "\n",
                     "#sk-container-id-3 a.estimator_doc_link {\n",
                     "  float: right;\n",
                     "  font-size: 1rem;\n",
                     "  line-height: 1em;\n",
                     "  font-family: monospace;\n",
                     "  background-color: var(--sklearn-color-background);\n",
                     "  border-radius: 1rem;\n",
                     "  height: 1rem;\n",
                     "  width: 1rem;\n",
                     "  text-decoration: none;\n",
                     "  /* unfitted */\n",
                     "  color: var(--sklearn-color-unfitted-level-1);\n",
                     "  border: var(--sklearn-color-unfitted-level-1) 1pt solid;\n",
                     "}\n",
                     "\n",
                     "#sk-container-id-3 a.estimator_doc_link.fitted {\n",
                     "  /* fitted */\n",
                     "  border: var(--sklearn-color-fitted-level-1) 1pt solid;\n",
                     "  color: var(--sklearn-color-fitted-level-1);\n",
                     "}\n",
                     "\n",
                     "/* On hover */\n",
                     "#sk-container-id-3 a.estimator_doc_link:hover {\n",
                     "  /* unfitted */\n",
                     "  background-color: var(--sklearn-color-unfitted-level-3);\n",
                     "  color: var(--sklearn-color-background);\n",
                     "  text-decoration: none;\n",
                     "}\n",
                     "\n",
                     "#sk-container-id-3 a.estimator_doc_link.fitted:hover {\n",
                     "  /* fitted */\n",
                     "  background-color: var(--sklearn-color-fitted-level-3);\n",
                     "}\n",
                     "</style><div id=\"sk-container-id-3\" class=\"sk-top-container\"><div class=\"sk-text-repr-fallback\"><pre>KNeighborsClassifier()</pre><b>In a Jupyter environment, please rerun this cell to show the HTML representation or trust the notebook. <br />On GitHub, the HTML representation is unable to render, please try loading this page with nbviewer.org.</b></div><div class=\"sk-container\" hidden><div class=\"sk-item\"><div class=\"sk-estimator fitted sk-toggleable\"><input class=\"sk-toggleable__control sk-hidden--visually\" id=\"sk-estimator-id-3\" type=\"checkbox\" checked><label for=\"sk-estimator-id-3\" class=\"sk-toggleable__label fitted sk-toggleable__label-arrow fitted\">&nbsp;&nbsp;KNeighborsClassifier<a class=\"sk-estimator-doc-link fitted\" rel=\"noreferrer\" target=\"_blank\" href=\"https://scikit-learn.org/1.5/modules/generated/sklearn.neighbors.KNeighborsClassifier.html\">?<span>Documentation for KNeighborsClassifier</span></a><span class=\"sk-estimator-doc-link fitted\">i<span>Fitted</span></span></label><div class=\"sk-toggleable__content fitted\"><pre>KNeighborsClassifier()</pre></div> </div></div></div></div>"
                  ],
                  "text/plain": [
                     "KNeighborsClassifier()"
                  ]
               },
               "execution_count": 104,
               "metadata": {},
               "output_type": "execute_result"
            }
         ],
         "source": [
            "from sklearn.neighbors import KNeighborsClassifier\n",
            "knn_neighbours = KNeighborsClassifier()\n",
            "knn_neighbours.fit(X_train.values, y_train.values)"
         ]
      },
      {
         "cell_type": "markdown",
         "metadata": {},
         "source": [
            "##### Judging the model"
         ]
      },
      {
         "cell_type": "code",
         "execution_count": 105,
         "metadata": {},
         "outputs": [
            {
               "data": {
                  "text/plain": [
                     "array([0.61057692, 0.625     , 0.58454106])"
                  ]
               },
               "execution_count": 105,
               "metadata": {},
               "output_type": "execute_result"
            }
         ],
         "source": [
            "cross_val_score(knn_neighbours, X_train.values, y_train.values, cv=3, scoring=\"accuracy\")"
         ]
      },
      {
         "cell_type": "code",
         "execution_count": 106,
         "metadata": {},
         "outputs": [
            {
               "data": {
                  "text/plain": [
                     "array([0.42168675, 0.36144578, 0.40963855])"
                  ]
               },
               "execution_count": 106,
               "metadata": {},
               "output_type": "execute_result"
            }
         ],
         "source": [
            "cross_val_score(knn_neighbours, X_train.values, y_train.values, cv=3, scoring=\"recall\")"
         ]
      },
      {
         "cell_type": "code",
         "execution_count": 107,
         "metadata": {},
         "outputs": [
            {
               "data": {
                  "text/plain": [
                     "array([0.51470588, 0.54545455, 0.47887324])"
                  ]
               },
               "execution_count": 107,
               "metadata": {},
               "output_type": "execute_result"
            }
         ],
         "source": [
            "cross_val_score(knn_neighbours, X_train.values, y_train.values, cv=3, scoring=\"precision\")"
         ]
      },
      {
         "cell_type": "code",
         "execution_count": 108,
         "metadata": {},
         "outputs": [
            {
               "data": {
                  "text/plain": [
                     "array([0.46357616, 0.43478261, 0.44155844])"
                  ]
               },
               "execution_count": 108,
               "metadata": {},
               "output_type": "execute_result"
            }
         ],
         "source": [
            "cross_val_score(knn_neighbours, X_train.values, y_train.values, cv=3, scoring=\"f1\")"
         ]
      },
      {
         "cell_type": "code",
         "execution_count": 109,
         "metadata": {},
         "outputs": [
            {
               "data": {
                  "text/plain": [
                     "array([[279,  95],\n",
                     "       [150,  99]], dtype=int64)"
                  ]
               },
               "execution_count": 109,
               "metadata": {},
               "output_type": "execute_result"
            }
         ],
         "source": [
            "y_prediction_knn = cross_val_predict(knn_neighbours, X_train.values, y_train.values, cv=3)\n",
            "confusion_matrix(y_train.values, y_prediction_knn)"
         ]
      },
      {
         "cell_type": "code",
         "execution_count": 110,
         "metadata": {},
         "outputs": [],
         "source": [
            "y_scores_knn = cross_val_predict(knn_neighbours, X_train.values, y_train.values, cv=3, method=\"predict_proba\")"
         ]
      },
      {
         "cell_type": "code",
         "execution_count": 111,
         "metadata": {},
         "outputs": [],
         "source": [
            "y_scores_knn = y_scores_knn[:, 1]"
         ]
      },
      {
         "cell_type": "code",
         "execution_count": 112,
         "metadata": {},
         "outputs": [
            {
               "data": {
                  "image/png": "[encoded data removed]",
                  "text/plain": [
                     "<Figure size 640x480 with 1 Axes>"
                  ]
               },
               "metadata": {},
               "output_type": "display_data"
            }
         ],
         "source": [
            "fpr_knn, tpr_knn, threshold_knn = roc_curve(y_train.values, y_scores_knn)\n",
            "plot_roc(fpr_knn, tpr_knn)"
         ]
      },
      {
         "cell_type": "code",
         "execution_count": 113,
         "metadata": {},
         "outputs": [
            {
               "data": {
                  "text/plain": [
                     "0.5980392156862745"
                  ]
               },
               "execution_count": 113,
               "metadata": {},
               "output_type": "execute_result"
            }
         ],
         "source": [
            "roc_auc_score(y_train.values, y_scores_knn)"
         ]
      },
      {
         "cell_type": "code",
         "execution_count": 114,
         "metadata": {},
         "outputs": [
            {
               "data": {
                  "image/png": "[encoded data removed]",
                  "text/plain": [
                     "<Figure size 640x480 with 1 Axes>"
                  ]
               },
               "metadata": {},
               "output_type": "display_data"
            }
         ],
         "source": [
            "precision_knn, recall_knn, threshold_prc_knn = precision_recall_curve(y_train.values, y_scores_knn)\n",
            "plot_precision_recall_threshold(precision=precision_knn, recall=recall_knn, threshold=threshold_prc_knn)"
         ]
      },
      {
         "cell_type": "code",
         "execution_count": 115,
         "metadata": {},
         "outputs": [
            {
               "name": "stdout",
               "output_type": "stream",
               "text": [
                  "Precision Score: 0.5103092783505154\n",
                  "Recall Score: 0.39759036144578314\n",
                  "f1 Score: 0.4469525959367946\n"
               ]
            }
         ],
         "source": [
            "print(f\"Precision Score: {precision_score(y_train.values, y_prediction_knn)}\")\n",
            "print(f\"Recall Score: {recall_score(y_train.values, y_prediction_knn)}\")\n",
            "print(f\"f1 Score: {f1_score(y_train.values, y_prediction_knn)}\")"
         ]
      },
      {
         "cell_type": "markdown",
         "metadata": {},
         "source": [
            "### Hyper Parameter Tuning"
         ]
      },
      {
         "cell_type": "code",
         "execution_count": 116,
         "metadata": {},
         "outputs": [],
         "source": [
            "from sklearn.model_selection import GridSearchCV\n",
            "import joblib\n",
            "\n",
            "try:\n",
            "    final_model = joblib.load(\"final_model.pkl\")\n",
            "except Exception as e:\n",
            "    param_grid = [{\n",
            "        \n",
            "        \"n_estimators\" : [100, 50, 30],\n",
            "        \"max_depth\" : [None, 10, 50, 5],\n",
            "        \"max_features\" : [\"sqrt\", 10, 20, 7],\n",
            "        \"random_state\" : [42],\n",
            "        \"n_jobs\": [-1],\n",
            "        \"max_samples\":[100, None, 200, 300],\n",
            "    }\n",
            "\n",
            "    ]\n",
            "\n",
            "    rfc_model = RandomForestClassifier()\n",
            "    grid_search = GridSearchCV(rfc_model, param_grid=param_grid, cv=5, scoring=\"accuracy\", return_train_score=True, n_jobs=-1)\n",
            "    grid_search.fit(X_train.values, y_train.values)\n",
            "    final_model = grid_search.best_estimator_\n",
            "    joblib.dump(final_model, \"final_model.pkl\")"
         ]
      },
      {
         "cell_type": "code",
         "execution_count": 117,
         "metadata": {},
         "outputs": [],
         "source": [
            "# grid_search.best_params_"
         ]
      },
      {
         "cell_type": "code",
         "execution_count": 118,
         "metadata": {},
         "outputs": [],
         "source": [
            "# grid_search.best_estimator_.feature_importances_"
         ]
      },
      {
         "cell_type": "code",
         "execution_count": 119,
         "metadata": {},
         "outputs": [],
         "source": [
            "# for (x, y) in zip(list(X_train), grid_search.best_estimator_.feature_importances_):\n",
            "#     print(f\"{x} : {y}\")"
         ]
      },
      {
         "cell_type": "markdown",
         "metadata": {},
         "source": [
            "### Evaluating the final model on training dataset"
         ]
      },
      {
         "cell_type": "code",
         "execution_count": 120,
         "metadata": {},
         "outputs": [],
         "source": [
            "y_scores_train = cross_val_predict(final_model, X_train.values, y_train.values, cv=3, method=\"predict_proba\")[:,1]"
         ]
      },
      {
         "cell_type": "code",
         "execution_count": 121,
         "metadata": {},
         "outputs": [
            {
               "data": {
                  "image/png": "[encoded data removed]",
                  "text/plain": [
                     "<Figure size 640x480 with 1 Axes>"
                  ]
               },
               "metadata": {},
               "output_type": "display_data"
            }
         ],
         "source": [
            "fpr_final, tpr_final, threshold_final = roc_curve(y_train.values, y_scores_train)\n",
            "plot_roc(fpr_final, tpr_final)"
         ]
      },
      {
         "cell_type": "code",
         "execution_count": 122,
         "metadata": {},
         "outputs": [
            {
               "data": {
                  "text/plain": [
                     "0.8378057685286602"
                  ]
               },
               "execution_count": 122,
               "metadata": {},
               "output_type": "execute_result"
            }
         ],
         "source": [
            "roc_auc_score(y_train.values, y_scores_train)"
         ]
      },
      {
         "cell_type": "code",
         "execution_count": 123,
         "metadata": {},
         "outputs": [
            {
               "data": {
                  "image/png": "[encoded data removed]",
                  "text/plain": [
                     "<Figure size 640x480 with 1 Axes>"
                  ]
               },
               "metadata": {},
               "output_type": "display_data"
            }
         ],
         "source": [
            "precision_final, recall_final, threshold_prc_final = precision_recall_curve(y_train.values, y_scores_train)\n",
            "plot_precision_recall_threshold(precision_final, recall_final, threshold_prc_final)"
         ]
      },
      {
         "cell_type": "code",
         "execution_count": 124,
         "metadata": {},
         "outputs": [
            {
               "name": "stdout",
               "output_type": "stream",
               "text": [
                  "Precision Score: 0.9400921658986175\n",
                  "Recall Score: 0.8192771084337349\n",
                  "f1 Score: 0.8755364806866953\n",
                  "\n",
                  "Precision Score: 0.7692307692307693\n",
                  "Recall Score: 0.7228915662650602\n",
                  "f1 Score: 0.7453416149068323\n"
               ]
            }
         ],
         "source": [
            "y_train_pred_final = final_model.predict(X_train.values)\n",
            "print(f\"Precision Score: {precision_score(y_train.values, y_train_pred_final)}\")\n",
            "print(f\"Recall Score: {recall_score(y_train.values, y_train_pred_final)}\")\n",
            "print(f\"f1 Score: {f1_score(y_train.values, y_train_pred_final)}\\n\")\n",
            "y_train_pred_final = cross_val_predict(final_model, X_train.values, y_train.values, cv=3)\n",
            "print(f\"Precision Score: {precision_score(y_train.values, y_train_pred_final)}\")\n",
            "print(f\"Recall Score: {recall_score(y_train.values, y_train_pred_final)}\")\n",
            "print(f\"f1 Score: {f1_score(y_train.values, y_train_pred_final)}\")"
         ]
      },
      {
         "cell_type": "code",
         "execution_count": 125,
         "metadata": {},
         "outputs": [
            {
               "data": {
                  "text/plain": [
                     "array([[157,  18],\n",
                     "       [ 22,  71]], dtype=int64)"
                  ]
               },
               "execution_count": 125,
               "metadata": {},
               "output_type": "execute_result"
            }
         ],
         "source": [
            "y_test_pred_final = final_model.predict(X_test.values)\n",
            "confusion_matrix(y_test.values, y_test_pred_final)"
         ]
      },
      {
         "cell_type": "code",
         "execution_count": 126,
         "metadata": {},
         "outputs": [
            {
               "name": "stdout",
               "output_type": "stream",
               "text": [
                  "Precision Score: 0.797752808988764\n",
                  "Recall Score: 0.7634408602150538\n",
                  "f1 Score: 0.7802197802197802\n"
               ]
            }
         ],
         "source": [
            "print(f\"Precision Score: {precision_score(y_test.values, y_test_pred_final)}\")\n",
            "print(f\"Recall Score: {recall_score(y_test.values, y_test_pred_final)}\")\n",
            "print(f\"f1 Score: {f1_score(y_test.values, y_test_pred_final)}\")"
         ]
      },
      {
         "cell_type": "markdown",
         "metadata": {},
         "source": [
            "### Export the final model"
         ]
      },
      {
         "cell_type": "markdown",
         "metadata": {},
         "source": [
            "### Scale the input features and train a model on the scaled values"
         ]
      },
      {
         "cell_type": "markdown",
         "metadata": {},
         "source": [
            "#### Split into train test set"
         ]
      },
      {
         "cell_type": "code",
         "execution_count": 127,
         "metadata": {},
         "outputs": [],
         "source": [
            "train_test_split = StratifiedShuffleSplit(n_splits=1, test_size=0.3, random_state=42)\n",
            "for train_index, test_index in train_test_split.split(X_raw_copy, X_raw_copy[\"Sex\"]):\n",
            "    X_train = X_raw_copy.loc[train_index]\n",
            "    X_test = X_raw_copy.loc[test_index]\n",
            "y_train = X_train[\"Survived\"]\n",
            "y_test = X_test[\"Survived\"]"
         ]
      },
      {
         "cell_type": "code",
         "execution_count": 128,
         "metadata": {},
         "outputs": [],
         "source": [
            "X_train.drop(columns=[\"Survived\"], inplace=True)\n",
            "X_test.drop(columns=[\"Survived\"], inplace=True)"
         ]
      },
      {
         "cell_type": "code",
         "execution_count": 129,
         "metadata": {},
         "outputs": [],
         "source": [
            "try:\n",
            "    full_pipeline_scaled = joblib.load(\"full_pipeline_scaled.joblib\")\n",
            "except Exception as e:\n",
            "    full_pipeline_scaled = ColumnTransformer([\n",
            "        (\"num\", num_pipeline, list(X_train.drop(columns=[\"Embarked\"]))),\n",
            "        (\"cat\", OneHotEncoder(), [\"Embarked\"])\n",
            "    ])\n",
            "    joblib.dump(full_pipeline_scaled, \"full_pipeline_scaled.joblib\")\n",
            "full_pipeline_scaled_data = full_pipeline_scaled.fit_transform(X_train)\n",
            "# pd.DataFrame(full_pipeline_tr_data)"
         ]
      },
      {
         "cell_type": "code",
         "execution_count": 130,
         "metadata": {},
         "outputs": [],
         "source": [
            "attribs = list(X_train)\n",
            "attribs.remove(\"Embarked\")\n",
            "attribs.extend(['C', 'Q', 'S'])\n",
            "X_train_dataframe = pd.DataFrame(full_pipeline_scaled_data, columns=attribs)\n",
            "# X_train_dataframe"
         ]
      },
      {
         "cell_type": "code",
         "execution_count": 131,
         "metadata": {},
         "outputs": [
            {
               "data": {
                  "text/html": [
                     "<style>#sk-container-id-4 {\n",
                     "  /* Definition of color scheme common for light and dark mode */\n",
                     "  --sklearn-color-text: black;\n",
                     "  --sklearn-color-line: gray;\n",
                     "  /* Definition of color scheme for unfitted estimators */\n",
                     "  --sklearn-color-unfitted-level-0: #fff5e6;\n",
                     "  --sklearn-color-unfitted-level-1: #f6e4d2;\n",
                     "  --sklearn-color-unfitted-level-2: #ffe0b3;\n",
                     "  --sklearn-color-unfitted-level-3: chocolate;\n",
                     "  /* Definition of color scheme for fitted estimators */\n",
                     "  --sklearn-color-fitted-level-0: #f0f8ff;\n",
                     "  --sklearn-color-fitted-level-1: #d4ebff;\n",
                     "  --sklearn-color-fitted-level-2: #b3dbfd;\n",
                     "  --sklearn-color-fitted-level-3: cornflowerblue;\n",
                     "\n",
                     "  /* Specific color for light theme */\n",
                     "  --sklearn-color-text-on-default-background: var(--sg-text-color, var(--theme-code-foreground, var(--jp-content-font-color1, black)));\n",
                     "  --sklearn-color-background: var(--sg-background-color, var(--theme-background, var(--jp-layout-color0, white)));\n",
                     "  --sklearn-color-border-box: var(--sg-text-color, var(--theme-code-foreground, var(--jp-content-font-color1, black)));\n",
                     "  --sklearn-color-icon: #696969;\n",
                     "\n",
                     "  @media (prefers-color-scheme: dark) {\n",
                     "    /* Redefinition of color scheme for dark theme */\n",
                     "    --sklearn-color-text-on-default-background: var(--sg-text-color, var(--theme-code-foreground, var(--jp-content-font-color1, white)));\n",
                     "    --sklearn-color-background: var(--sg-background-color, var(--theme-background, var(--jp-layout-color0, #111)));\n",
                     "    --sklearn-color-border-box: var(--sg-text-color, var(--theme-code-foreground, var(--jp-content-font-color1, white)));\n",
                     "    --sklearn-color-icon: #878787;\n",
                     "  }\n",
                     "}\n",
                     "\n",
                     "#sk-container-id-4 {\n",
                     "  color: var(--sklearn-color-text);\n",
                     "}\n",
                     "\n",
                     "#sk-container-id-4 pre {\n",
                     "  padding: 0;\n",
                     "}\n",
                     "\n",
                     "#sk-container-id-4 input.sk-hidden--visually {\n",
                     "  border: 0;\n",
                     "  clip: rect(1px 1px 1px 1px);\n",
                     "  clip: rect(1px, 1px, 1px, 1px);\n",
                     "  height: 1px;\n",
                     "  margin: -1px;\n",
                     "  overflow: hidden;\n",
                     "  padding: 0;\n",
                     "  position: absolute;\n",
                     "  width: 1px;\n",
                     "}\n",
                     "\n",
                     "#sk-container-id-4 div.sk-dashed-wrapped {\n",
                     "  border: 1px dashed var(--sklearn-color-line);\n",
                     "  margin: 0 0.4em 0.5em 0.4em;\n",
                     "  box-sizing: border-box;\n",
                     "  padding-bottom: 0.4em;\n",
                     "  background-color: var(--sklearn-color-background);\n",
                     "}\n",
                     "\n",
                     "#sk-container-id-4 div.sk-container {\n",
                     "  /* jupyter's `normalize.less` sets `[hidden] { display: none; }`\n",
                     "     but bootstrap.min.css set `[hidden] { display: none !important; }`\n",
                     "     so we also need the `!important` here to be able to override the\n",
                     "     default hidden behavior on the sphinx rendered scikit-learn.org.\n",
                     "     See: https://github.com/scikit-learn/scikit-learn/issues/21755 */\n",
                     "  display: inline-block !important;\n",
                     "  position: relative;\n",
                     "}\n",
                     "\n",
                     "#sk-container-id-4 div.sk-text-repr-fallback {\n",
                     "  display: none;\n",
                     "}\n",
                     "\n",
                     "div.sk-parallel-item,\n",
                     "div.sk-serial,\n",
                     "div.sk-item {\n",
                     "  /* draw centered vertical line to link estimators */\n",
                     "  background-image: linear-gradient(var(--sklearn-color-text-on-default-background), var(--sklearn-color-text-on-default-background));\n",
                     "  background-size: 2px 100%;\n",
                     "  background-repeat: no-repeat;\n",
                     "  background-position: center center;\n",
                     "}\n",
                     "\n",
                     "/* Parallel-specific style estimator block */\n",
                     "\n",
                     "#sk-container-id-4 div.sk-parallel-item::after {\n",
                     "  content: \"\";\n",
                     "  width: 100%;\n",
                     "  border-bottom: 2px solid var(--sklearn-color-text-on-default-background);\n",
                     "  flex-grow: 1;\n",
                     "}\n",
                     "\n",
                     "#sk-container-id-4 div.sk-parallel {\n",
                     "  display: flex;\n",
                     "  align-items: stretch;\n",
                     "  justify-content: center;\n",
                     "  background-color: var(--sklearn-color-background);\n",
                     "  position: relative;\n",
                     "}\n",
                     "\n",
                     "#sk-container-id-4 div.sk-parallel-item {\n",
                     "  display: flex;\n",
                     "  flex-direction: column;\n",
                     "}\n",
                     "\n",
                     "#sk-container-id-4 div.sk-parallel-item:first-child::after {\n",
                     "  align-self: flex-end;\n",
                     "  width: 50%;\n",
                     "}\n",
                     "\n",
                     "#sk-container-id-4 div.sk-parallel-item:last-child::after {\n",
                     "  align-self: flex-start;\n",
                     "  width: 50%;\n",
                     "}\n",
                     "\n",
                     "#sk-container-id-4 div.sk-parallel-item:only-child::after {\n",
                     "  width: 0;\n",
                     "}\n",
                     "\n",
                     "/* Serial-specific style estimator block */\n",
                     "\n",
                     "#sk-container-id-4 div.sk-serial {\n",
                     "  display: flex;\n",
                     "  flex-direction: column;\n",
                     "  align-items: center;\n",
                     "  background-color: var(--sklearn-color-background);\n",
                     "  padding-right: 1em;\n",
                     "  padding-left: 1em;\n",
                     "}\n",
                     "\n",
                     "\n",
                     "/* Toggleable style: style used for estimator/Pipeline/ColumnTransformer box that is\n",
                     "clickable and can be expanded/collapsed.\n",
                     "- Pipeline and ColumnTransformer use this feature and define the default style\n",
                     "- Estimators will overwrite some part of the style using the `sk-estimator` class\n",
                     "*/\n",
                     "\n",
                     "/* Pipeline and ColumnTransformer style (default) */\n",
                     "\n",
                     "#sk-container-id-4 div.sk-toggleable {\n",
                     "  /* Default theme specific background. It is overwritten whether we have a\n",
                     "  specific estimator or a Pipeline/ColumnTransformer */\n",
                     "  background-color: var(--sklearn-color-background);\n",
                     "}\n",
                     "\n",
                     "/* Toggleable label */\n",
                     "#sk-container-id-4 label.sk-toggleable__label {\n",
                     "  cursor: pointer;\n",
                     "  display: block;\n",
                     "  width: 100%;\n",
                     "  margin-bottom: 0;\n",
                     "  padding: 0.5em;\n",
                     "  box-sizing: border-box;\n",
                     "  text-align: center;\n",
                     "}\n",
                     "\n",
                     "#sk-container-id-4 label.sk-toggleable__label-arrow:before {\n",
                     "  /* Arrow on the left of the label */\n",
                     "  content: \"▸\";\n",
                     "  float: left;\n",
                     "  margin-right: 0.25em;\n",
                     "  color: var(--sklearn-color-icon);\n",
                     "}\n",
                     "\n",
                     "#sk-container-id-4 label.sk-toggleable__label-arrow:hover:before {\n",
                     "  color: var(--sklearn-color-text);\n",
                     "}\n",
                     "\n",
                     "/* Toggleable content - dropdown */\n",
                     "\n",
                     "#sk-container-id-4 div.sk-toggleable__content {\n",
                     "  max-height: 0;\n",
                     "  max-width: 0;\n",
                     "  overflow: hidden;\n",
                     "  text-align: left;\n",
                     "  /* unfitted */\n",
                     "  background-color: var(--sklearn-color-unfitted-level-0);\n",
                     "}\n",
                     "\n",
                     "#sk-container-id-4 div.sk-toggleable__content.fitted {\n",
                     "  /* fitted */\n",
                     "  background-color: var(--sklearn-color-fitted-level-0);\n",
                     "}\n",
                     "\n",
                     "#sk-container-id-4 div.sk-toggleable__content pre {\n",
                     "  margin: 0.2em;\n",
                     "  border-radius: 0.25em;\n",
                     "  color: var(--sklearn-color-text);\n",
                     "  /* unfitted */\n",
                     "  background-color: var(--sklearn-color-unfitted-level-0);\n",
                     "}\n",
                     "\n",
                     "#sk-container-id-4 div.sk-toggleable__content.fitted pre {\n",
                     "  /* unfitted */\n",
                     "  background-color: var(--sklearn-color-fitted-level-0);\n",
                     "}\n",
                     "\n",
                     "#sk-container-id-4 input.sk-toggleable__control:checked~div.sk-toggleable__content {\n",
                     "  /* Expand drop-down */\n",
                     "  max-height: 200px;\n",
                     "  max-width: 100%;\n",
                     "  overflow: auto;\n",
                     "}\n",
                     "\n",
                     "#sk-container-id-4 input.sk-toggleable__control:checked~label.sk-toggleable__label-arrow:before {\n",
                     "  content: \"▾\";\n",
                     "}\n",
                     "\n",
                     "/* Pipeline/ColumnTransformer-specific style */\n",
                     "\n",
                     "#sk-container-id-4 div.sk-label input.sk-toggleable__control:checked~label.sk-toggleable__label {\n",
                     "  color: var(--sklearn-color-text);\n",
                     "  background-color: var(--sklearn-color-unfitted-level-2);\n",
                     "}\n",
                     "\n",
                     "#sk-container-id-4 div.sk-label.fitted input.sk-toggleable__control:checked~label.sk-toggleable__label {\n",
                     "  background-color: var(--sklearn-color-fitted-level-2);\n",
                     "}\n",
                     "\n",
                     "/* Estimator-specific style */\n",
                     "\n",
                     "/* Colorize estimator box */\n",
                     "#sk-container-id-4 div.sk-estimator input.sk-toggleable__control:checked~label.sk-toggleable__label {\n",
                     "  /* unfitted */\n",
                     "  background-color: var(--sklearn-color-unfitted-level-2);\n",
                     "}\n",
                     "\n",
                     "#sk-container-id-4 div.sk-estimator.fitted input.sk-toggleable__control:checked~label.sk-toggleable__label {\n",
                     "  /* fitted */\n",
                     "  background-color: var(--sklearn-color-fitted-level-2);\n",
                     "}\n",
                     "\n",
                     "#sk-container-id-4 div.sk-label label.sk-toggleable__label,\n",
                     "#sk-container-id-4 div.sk-label label {\n",
                     "  /* The background is the default theme color */\n",
                     "  color: var(--sklearn-color-text-on-default-background);\n",
                     "}\n",
                     "\n",
                     "/* On hover, darken the color of the background */\n",
                     "#sk-container-id-4 div.sk-label:hover label.sk-toggleable__label {\n",
                     "  color: var(--sklearn-color-text);\n",
                     "  background-color: var(--sklearn-color-unfitted-level-2);\n",
                     "}\n",
                     "\n",
                     "/* Label box, darken color on hover, fitted */\n",
                     "#sk-container-id-4 div.sk-label.fitted:hover label.sk-toggleable__label.fitted {\n",
                     "  color: var(--sklearn-color-text);\n",
                     "  background-color: var(--sklearn-color-fitted-level-2);\n",
                     "}\n",
                     "\n",
                     "/* Estimator label */\n",
                     "\n",
                     "#sk-container-id-4 div.sk-label label {\n",
                     "  font-family: monospace;\n",
                     "  font-weight: bold;\n",
                     "  display: inline-block;\n",
                     "  line-height: 1.2em;\n",
                     "}\n",
                     "\n",
                     "#sk-container-id-4 div.sk-label-container {\n",
                     "  text-align: center;\n",
                     "}\n",
                     "\n",
                     "/* Estimator-specific */\n",
                     "#sk-container-id-4 div.sk-estimator {\n",
                     "  font-family: monospace;\n",
                     "  border: 1px dotted var(--sklearn-color-border-box);\n",
                     "  border-radius: 0.25em;\n",
                     "  box-sizing: border-box;\n",
                     "  margin-bottom: 0.5em;\n",
                     "  /* unfitted */\n",
                     "  background-color: var(--sklearn-color-unfitted-level-0);\n",
                     "}\n",
                     "\n",
                     "#sk-container-id-4 div.sk-estimator.fitted {\n",
                     "  /* fitted */\n",
                     "  background-color: var(--sklearn-color-fitted-level-0);\n",
                     "}\n",
                     "\n",
                     "/* on hover */\n",
                     "#sk-container-id-4 div.sk-estimator:hover {\n",
                     "  /* unfitted */\n",
                     "  background-color: var(--sklearn-color-unfitted-level-2);\n",
                     "}\n",
                     "\n",
                     "#sk-container-id-4 div.sk-estimator.fitted:hover {\n",
                     "  /* fitted */\n",
                     "  background-color: var(--sklearn-color-fitted-level-2);\n",
                     "}\n",
                     "\n",
                     "/* Specification for estimator info (e.g. \"i\" and \"?\") */\n",
                     "\n",
                     "/* Common style for \"i\" and \"?\" */\n",
                     "\n",
                     ".sk-estimator-doc-link,\n",
                     "a:link.sk-estimator-doc-link,\n",
                     "a:visited.sk-estimator-doc-link {\n",
                     "  float: right;\n",
                     "  font-size: smaller;\n",
                     "  line-height: 1em;\n",
                     "  font-family: monospace;\n",
                     "  background-color: var(--sklearn-color-background);\n",
                     "  border-radius: 1em;\n",
                     "  height: 1em;\n",
                     "  width: 1em;\n",
                     "  text-decoration: none !important;\n",
                     "  margin-left: 1ex;\n",
                     "  /* unfitted */\n",
                     "  border: var(--sklearn-color-unfitted-level-1) 1pt solid;\n",
                     "  color: var(--sklearn-color-unfitted-level-1);\n",
                     "}\n",
                     "\n",
                     ".sk-estimator-doc-link.fitted,\n",
                     "a:link.sk-estimator-doc-link.fitted,\n",
                     "a:visited.sk-estimator-doc-link.fitted {\n",
                     "  /* fitted */\n",
                     "  border: var(--sklearn-color-fitted-level-1) 1pt solid;\n",
                     "  color: var(--sklearn-color-fitted-level-1);\n",
                     "}\n",
                     "\n",
                     "/* On hover */\n",
                     "div.sk-estimator:hover .sk-estimator-doc-link:hover,\n",
                     ".sk-estimator-doc-link:hover,\n",
                     "div.sk-label-container:hover .sk-estimator-doc-link:hover,\n",
                     ".sk-estimator-doc-link:hover {\n",
                     "  /* unfitted */\n",
                     "  background-color: var(--sklearn-color-unfitted-level-3);\n",
                     "  color: var(--sklearn-color-background);\n",
                     "  text-decoration: none;\n",
                     "}\n",
                     "\n",
                     "div.sk-estimator.fitted:hover .sk-estimator-doc-link.fitted:hover,\n",
                     ".sk-estimator-doc-link.fitted:hover,\n",
                     "div.sk-label-container:hover .sk-estimator-doc-link.fitted:hover,\n",
                     ".sk-estimator-doc-link.fitted:hover {\n",
                     "  /* fitted */\n",
                     "  background-color: var(--sklearn-color-fitted-level-3);\n",
                     "  color: var(--sklearn-color-background);\n",
                     "  text-decoration: none;\n",
                     "}\n",
                     "\n",
                     "/* Span, style for the box shown on hovering the info icon */\n",
                     ".sk-estimator-doc-link span {\n",
                     "  display: none;\n",
                     "  z-index: 9999;\n",
                     "  position: relative;\n",
                     "  font-weight: normal;\n",
                     "  right: .2ex;\n",
                     "  padding: .5ex;\n",
                     "  margin: .5ex;\n",
                     "  width: min-content;\n",
                     "  min-width: 20ex;\n",
                     "  max-width: 50ex;\n",
                     "  color: var(--sklearn-color-text);\n",
                     "  box-shadow: 2pt 2pt 4pt #999;\n",
                     "  /* unfitted */\n",
                     "  background: var(--sklearn-color-unfitted-level-0);\n",
                     "  border: .5pt solid var(--sklearn-color-unfitted-level-3);\n",
                     "}\n",
                     "\n",
                     ".sk-estimator-doc-link.fitted span {\n",
                     "  /* fitted */\n",
                     "  background: var(--sklearn-color-fitted-level-0);\n",
                     "  border: var(--sklearn-color-fitted-level-3);\n",
                     "}\n",
                     "\n",
                     ".sk-estimator-doc-link:hover span {\n",
                     "  display: block;\n",
                     "}\n",
                     "\n",
                     "/* \"?\"-specific style due to the `<a>` HTML tag */\n",
                     "\n",
                     "#sk-container-id-4 a.estimator_doc_link {\n",
                     "  float: right;\n",
                     "  font-size: 1rem;\n",
                     "  line-height: 1em;\n",
                     "  font-family: monospace;\n",
                     "  background-color: var(--sklearn-color-background);\n",
                     "  border-radius: 1rem;\n",
                     "  height: 1rem;\n",
                     "  width: 1rem;\n",
                     "  text-decoration: none;\n",
                     "  /* unfitted */\n",
                     "  color: var(--sklearn-color-unfitted-level-1);\n",
                     "  border: var(--sklearn-color-unfitted-level-1) 1pt solid;\n",
                     "}\n",
                     "\n",
                     "#sk-container-id-4 a.estimator_doc_link.fitted {\n",
                     "  /* fitted */\n",
                     "  border: var(--sklearn-color-fitted-level-1) 1pt solid;\n",
                     "  color: var(--sklearn-color-fitted-level-1);\n",
                     "}\n",
                     "\n",
                     "/* On hover */\n",
                     "#sk-container-id-4 a.estimator_doc_link:hover {\n",
                     "  /* unfitted */\n",
                     "  background-color: var(--sklearn-color-unfitted-level-3);\n",
                     "  color: var(--sklearn-color-background);\n",
                     "  text-decoration: none;\n",
                     "}\n",
                     "\n",
                     "#sk-container-id-4 a.estimator_doc_link.fitted:hover {\n",
                     "  /* fitted */\n",
                     "  background-color: var(--sklearn-color-fitted-level-3);\n",
                     "}\n",
                     "</style><div id=\"sk-container-id-4\" class=\"sk-top-container\"><div class=\"sk-text-repr-fallback\"><pre>RandomForestClassifier(max_depth=10, max_features=10, max_samples=200,\n",
                     "                       n_estimators=50, random_state=42)</pre><b>In a Jupyter environment, please rerun this cell to show the HTML representation or trust the notebook. <br />On GitHub, the HTML representation is unable to render, please try loading this page with nbviewer.org.</b></div><div class=\"sk-container\" hidden><div class=\"sk-item\"><div class=\"sk-estimator fitted sk-toggleable\"><input class=\"sk-toggleable__control sk-hidden--visually\" id=\"sk-estimator-id-4\" type=\"checkbox\" checked><label for=\"sk-estimator-id-4\" class=\"sk-toggleable__label fitted sk-toggleable__label-arrow fitted\">&nbsp;&nbsp;RandomForestClassifier<a class=\"sk-estimator-doc-link fitted\" rel=\"noreferrer\" target=\"_blank\" href=\"https://scikit-learn.org/1.5/modules/generated/sklearn.ensemble.RandomForestClassifier.html\">?<span>Documentation for RandomForestClassifier</span></a><span class=\"sk-estimator-doc-link fitted\">i<span>Fitted</span></span></label><div class=\"sk-toggleable__content fitted\"><pre>RandomForestClassifier(max_depth=10, max_features=10, max_samples=200,\n",
                     "                       n_estimators=50, random_state=42)</pre></div> </div></div></div></div>"
                  ],
                  "text/plain": [
                     "RandomForestClassifier(max_depth=10, max_features=10, max_samples=200,\n",
                     "                       n_estimators=50, random_state=42)"
                  ]
               },
               "execution_count": 131,
               "metadata": {},
               "output_type": "execute_result"
            }
         ],
         "source": [
            "rfc_classifier = RandomForestClassifier(random_state=42, max_depth=10, max_features=10, max_samples=200, n_estimators=50)\n",
            "rfc_classifier.fit(full_pipeline_scaled_data, y_train.values)"
         ]
      },
      {
         "cell_type": "code",
         "execution_count": 132,
         "metadata": {},
         "outputs": [
            {
               "data": {
                  "text/plain": [
                     "['final_model_scaled.pkl']"
                  ]
               },
               "execution_count": 132,
               "metadata": {},
               "output_type": "execute_result"
            }
         ],
         "source": [
            "joblib.dump(rfc_classifier, \"final_model_scaled.pkl\")"
         ]
      },
      {
         "cell_type": "code",
         "execution_count": 133,
         "metadata": {},
         "outputs": [],
         "source": [
            "y_predict_proba = cross_val_predict(rfc_classifier, full_pipeline_scaled_data, y_train.values, method=\"predict_proba\", cv=3)\n",
            "y_scores_rfc = y_predict_proba[:,1]"
         ]
      },
      {
         "cell_type": "code",
         "execution_count": 134,
         "metadata": {},
         "outputs": [
            {
               "data": {
                  "image/png": "[encoded data removed]",
                  "text/plain": [
                     "<Figure size 640x480 with 1 Axes>"
                  ]
               },
               "metadata": {},
               "output_type": "display_data"
            }
         ],
         "source": [
            "fpr_rfc, tpr_rfc, threshold_rfc = roc_curve(y_train.values, y_scores_rfc)\n",
            "plot_roc(fpr=fpr_rfc, tpr=tpr_rfc)"
         ]
      },
      {
         "cell_type": "code",
         "execution_count": 135,
         "metadata": {},
         "outputs": [
            {
               "data": {
                  "text/plain": [
                     "0.8377359706204497"
                  ]
               },
               "execution_count": 135,
               "metadata": {},
               "output_type": "execute_result"
            }
         ],
         "source": [
            "roc_auc_score(y_train.values, y_scores_rfc)"
         ]
      },
      {
         "cell_type": "code",
         "execution_count": 137,
         "metadata": {},
         "outputs": [
            {
               "data": {
                  "text/plain": [
                     "0.8026291341508732"
                  ]
               },
               "execution_count": 137,
               "metadata": {},
               "output_type": "execute_result"
            }
         ],
         "source": [
            "cross_val_score(rfc_classifier,  full_pipeline_scaled_data, y_train.values, cv=3).mean()"
         ]
      },
      {
         "cell_type": "code",
         "execution_count": 140,
         "metadata": {},
         "outputs": [
            {
               "data": {
                  "text/plain": [
                     "0.8106419546636937"
                  ]
               },
               "execution_count": 140,
               "metadata": {},
               "output_type": "execute_result"
            }
         ],
         "source": [
            "from sklearn.svm import SVC\n",
            "\n",
            "svc_classifier = SVC(gamma=\"auto\")\n",
            "svc_classifier.fit(full_pipeline_scaled_data, y_train.values)\n",
            "cross_val_score(svc_classifier,   full_pipeline_scaled_data, y_train.values, cv=3).mean()"
         ]
      },
      {
         "cell_type": "code",
         "execution_count": 147,
         "metadata": {},
         "outputs": [],
         "source": [
            "try:\n",
            "    final_model_svc = joblib.load(\"final_model_svc.pkl\")\n",
            "except Exception as e:\n",
            "    param_grid = [{\n",
            "\n",
            "        \"kernel\":['linear', \"poly\", \"rbf\", \"sigmoid\",],\n",
            "        'C' : [1.0, 2.0, 3.0],\n",
            "        \"degree\" : [3, 4, 5, 6],\n",
            "        \"gamma\" : [\"auto\", \"scale\"], \n",
            "        \"random_state\" : [42],\n",
            "    }\n",
            "\n",
            "    ]\n",
            "\n",
            "    # rfc_model = RandomForestClassifier()\n",
            "    svc_model = SVC()\n",
            "    grid_search = GridSearchCV(svc_model, param_grid=param_grid, cv=5, scoring=\"accuracy\", return_train_score=True, n_jobs=-1)\n",
            "    grid_search.fit(full_pipeline_scaled_data, y_train.values)\n",
            "    final_model_svc = grid_search.best_estimator_\n",
            "    joblib.dump(final_model_svc, \"final_model_svc.pkl\")"
         ]
      },
      {
         "cell_type": "code",
         "execution_count": 149,
         "metadata": {},
         "outputs": [
            {
               "data": {
                  "text/plain": [
                     "0.8138967741935484"
                  ]
               },
               "execution_count": 149,
               "metadata": {},
               "output_type": "execute_result"
            }
         ],
         "source": [
            "grid_search.best_score_"
         ]
      }
   ],
   "metadata": {
      "kernelspec": {
         "display_name": "Python 3",
         "language": "python",
         "name": "python3"
      },
      "language_info": {
         "codemirror_mode": {
            "name": "ipython",
            "version": 3
         },
         "file_extension": ".py",
         "mimetype": "text/x-python",
         "name": "python",
         "nbconvert_exporter": "python",
         "pygments_lexer": "ipython3",
         "version": "3.12.3"
      }
   },
   "nbformat": 4,
   "nbformat_minor": 2
}
